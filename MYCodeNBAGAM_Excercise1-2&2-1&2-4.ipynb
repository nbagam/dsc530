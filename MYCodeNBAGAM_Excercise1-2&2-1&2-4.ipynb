{
 "cells": [
  {
   "cell_type": "markdown",
   "id": "ca34dded",
   "metadata": {},
   "source": [
    "# Excercise 1-2"
   ]
  },
  {
   "cell_type": "code",
   "execution_count": 1,
   "id": "6178bf3d",
   "metadata": {},
   "outputs": [
    {
     "name": "stdout",
     "output_type": "stream",
     "text": [
      "(13593, 244)\n",
      "All tests passed.\n"
     ]
    }
   ],
   "source": [
    "\"\"\"This file contains code for use with \"Think Stats\",\n",
    "by Allen B. Downey, available from greenteapress.com\n",
    "\n",
    "Copyright 2010 Allen B. Downey\n",
    "License: GNU GPLv3 http://www.gnu.org/licenses/gpl.html\n",
    "\"\"\"\n",
    "\n",
    "from __future__ import print_function, division\n",
    "\n",
    "import sys\n",
    "import numpy as np\n",
    "import thinkstats2\n",
    "\n",
    "from collections import defaultdict\n",
    "\n",
    "\n",
    "def ReadFemResp(dct_file='2002FemResp.dct',\n",
    "                dat_file='2002FemResp.dat.gz',\n",
    "                nrows=None):\n",
    "    \"\"\"Reads the NSFG respondent data.\n",
    "\n",
    "    dct_file: string file name\n",
    "    dat_file: string file name\n",
    "\n",
    "    returns: DataFrame\n",
    "    \"\"\"\n",
    "    dct = thinkstats2.ReadStataDct(dct_file)\n",
    "    df = dct.ReadFixedWidth(dat_file, compression='gzip', nrows=nrows)\n",
    "    CleanFemResp(df)\n",
    "    return df\n",
    "\n",
    "\n",
    "def CleanFemResp(df):\n",
    "    \"\"\"Recodes variables from the respondent frame.\n",
    "\n",
    "    df: DataFrame\n",
    "    \"\"\"\n",
    "    pass\n",
    "\n",
    "\n",
    "def ReadFemPreg(dct_file='2002FemPreg.dct',\n",
    "                dat_file='2002FemPreg.dat.gz'):\n",
    "    \"\"\"Reads the NSFG pregnancy data.\n",
    "\n",
    "    dct_file: string file name\n",
    "    dat_file: string file name\n",
    "\n",
    "    returns: DataFrame\n",
    "    \"\"\"\n",
    "    dct = thinkstats2.ReadStataDct(dct_file)\n",
    "    df = dct.ReadFixedWidth(dat_file, compression='gzip')\n",
    "    CleanFemPreg(df)\n",
    "    return df\n",
    "\n",
    "\n",
    "def CleanFemPreg(df):\n",
    "    \"\"\"Recodes variables from the pregnancy frame.\n",
    "\n",
    "    df: DataFrame\n",
    "    \"\"\"\n",
    "    # mother's age is encoded in centiyears; convert to years\n",
    "    df.agepreg /= 100.0\n",
    "\n",
    "    # birthwgt_lb contains at least one bogus value (51 lbs)\n",
    "    # replace with NaN\n",
    "    df.loc[df.birthwgt_lb > 20, 'birthwgt_lb'] = np.nan\n",
    "    \n",
    "    # replace 'not ascertained', 'refused', 'don't know' with NaN\n",
    "    na_vals = [97, 98, 99]\n",
    "    df.birthwgt_lb.replace(na_vals, np.nan, inplace=True)\n",
    "    df.birthwgt_oz.replace(na_vals, np.nan, inplace=True)\n",
    "    df.hpagelb.replace(na_vals, np.nan, inplace=True)\n",
    "\n",
    "    df.babysex.replace([7, 9], np.nan, inplace=True)\n",
    "    df.nbrnaliv.replace([9], np.nan, inplace=True)\n",
    "\n",
    "    # birthweight is stored in two columns, lbs and oz.\n",
    "    # convert to a single column in lb\n",
    "    # NOTE: creating a new column requires dictionary syntax,\n",
    "    # not attribute assignment (like df.totalwgt_lb)\n",
    "    df['totalwgt_lb'] = df.birthwgt_lb + df.birthwgt_oz / 16.0    \n",
    "\n",
    "    # due to a bug in ReadStataDct, the last variable gets clipped;\n",
    "    # so for now set it to NaN\n",
    "    df.cmintvw = np.nan\n",
    "\n",
    "\n",
    "def ValidatePregnum(resp, preg):\n",
    "    \"\"\"Validate pregnum in the respondent file.\n",
    "\n",
    "    resp: respondent DataFrame\n",
    "    preg: pregnancy DataFrame\n",
    "    \"\"\"\n",
    "    # make the map from caseid to list of pregnancy indices\n",
    "    preg_map = MakePregMap(preg)\n",
    "    \n",
    "    # iterate through the respondent pregnum series\n",
    "    for index, pregnum in resp.pregnum.iteritems():\n",
    "        caseid = resp.caseid[index]\n",
    "        indices = preg_map[caseid]\n",
    "\n",
    "        # check that pregnum from the respondent file equals\n",
    "        # the number of records in the pregnancy file\n",
    "        if len(indices) != pregnum:\n",
    "            print(caseid, len(indices), pregnum)\n",
    "            return False\n",
    "\n",
    "    return True\n",
    "\n",
    "\n",
    "def MakePregMap(df):\n",
    "    \"\"\"Make a map from caseid to list of preg indices.\n",
    "\n",
    "    df: DataFrame\n",
    "\n",
    "    returns: dict that maps from caseid to list of indices into `preg`\n",
    "    \"\"\"\n",
    "    d = defaultdict(list)\n",
    "    for index, caseid in df.caseid.iteritems():\n",
    "        d[caseid].append(index)\n",
    "    return d\n",
    "\n",
    "\n",
    "def main():\n",
    "    \"\"\"Tests the functions in this module.\n",
    "\n",
    "    script: string script name\n",
    "    \"\"\"\n",
    "    # read and validate the respondent file\n",
    "    resp = ReadFemResp()\n",
    "\n",
    "    assert(len(resp) == 7643)\n",
    "    assert(resp.pregnum.value_counts()[1] == 1267)\n",
    "\n",
    "    # read and validate the pregnancy file\n",
    "    preg = ReadFemPreg()\n",
    "    print(preg.shape)\n",
    "\n",
    "    assert len(preg) == 13593\n",
    "    assert preg.caseid[13592] == 12571\n",
    "    assert preg.pregordr.value_counts()[1] == 5033\n",
    "    assert preg.nbrnaliv.value_counts()[1] == 8981\n",
    "    assert preg.babysex.value_counts()[1] == 4641\n",
    "    assert preg.birthwgt_lb.value_counts()[7] == 3049\n",
    "    assert preg.birthwgt_oz.value_counts()[0] == 1037\n",
    "    assert preg.prglngth.value_counts()[39] == 4744\n",
    "    assert preg.outcome.value_counts()[1] == 9148\n",
    "    assert preg.birthord.value_counts()[1] == 4413\n",
    "    assert preg.agepreg.value_counts()[22.75] == 100\n",
    "    assert preg.totalwgt_lb.value_counts()[7.5] == 302\n",
    "\n",
    "    weights = preg.finalwgt.value_counts()\n",
    "    key = max(weights.keys())\n",
    "    assert preg.finalwgt.value_counts()[key] == 6\n",
    "\n",
    "    # validate that the pregnum column in `resp` matches the number\n",
    "    # of entries in `preg`\n",
    "    assert(ValidatePregnum(resp, preg))\n",
    "\n",
    "    \n",
    "    print('All tests passed.')\n",
    "\n",
    "\n",
    "if __name__ == '__main__':\n",
    "    main()\n"
   ]
  },
  {
   "cell_type": "code",
   "execution_count": 2,
   "id": "7c587bda",
   "metadata": {},
   "outputs": [],
   "source": [
    "# Read the respondent file and assign a name 'preg'.\n",
    "import nsfg\n",
    "preg = nsfg.ReadFemPreg()  "
   ]
  },
  {
   "cell_type": "code",
   "execution_count": 3,
   "id": "82bcdf3a",
   "metadata": {},
   "outputs": [
    {
     "data": {
      "text/plain": [
       "0        2\n",
       "1        2\n",
       "2        3\n",
       "3        3\n",
       "4        3\n",
       "        ..\n",
       "13588    5\n",
       "13589    5\n",
       "13590    5\n",
       "13591    5\n",
       "13592    5\n",
       "Name: pregnum, Length: 13593, dtype: int64"
      ]
     },
     "execution_count": 3,
     "metadata": {},
     "output_type": "execute_result"
    }
   ],
   "source": [
    "# Take a look at pregnum variable\n",
    "preg.pregnum "
   ]
  },
  {
   "cell_type": "code",
   "execution_count": 4,
   "id": "d4527aec",
   "metadata": {},
   "outputs": [
    {
     "data": {
      "text/plain": [
       "1     1267\n",
       "2     2864\n",
       "3     3330\n",
       "4     2444\n",
       "5     1525\n",
       "6      900\n",
       "7      560\n",
       "8      320\n",
       "9      189\n",
       "10      90\n",
       "11      33\n",
       "12      24\n",
       "14      28\n",
       "19      19\n",
       "Name: pregnum, dtype: int64"
      ]
     },
     "execution_count": 4,
     "metadata": {},
     "output_type": "execute_result"
    }
   ],
   "source": [
    "# Check the value counts for the variable pregnum\n",
    "preg.pregnum.value_counts().sort_index()"
   ]
  },
  {
   "cell_type": "code",
   "execution_count": 5,
   "id": "0105c18f",
   "metadata": {},
   "outputs": [
    {
     "data": {
      "text/plain": [
       "True"
      ]
     },
     "execution_count": 5,
     "metadata": {},
     "output_type": "execute_result"
    }
   ],
   "source": [
    "resp = nsfg.ReadFemResp()\n",
    "ValidatePregnum(resp, preg)"
   ]
  },
  {
   "cell_type": "code",
   "execution_count": 6,
   "id": "6ec57d6e",
   "metadata": {},
   "outputs": [
    {
     "data": {
      "text/plain": [
       "array([4, 4, 4, 4, 4, 4, 1], dtype=int64)"
      ]
     },
     "execution_count": 6,
     "metadata": {},
     "output_type": "execute_result"
    }
   ],
   "source": [
    "caseid = 10229\n",
    "preg_map = nsfg.MakePregMap(preg)\n",
    "indices = preg_map[caseid]\n",
    "preg.outcome[indices].values"
   ]
  },
  {
   "cell_type": "markdown",
   "id": "b55314ca",
   "metadata": {},
   "source": [
    "# Excercise 2-1"
   ]
  },
  {
   "cell_type": "code",
   "execution_count": 17,
   "id": "93ae9e5f",
   "metadata": {},
   "outputs": [],
   "source": [
    "# I would choose the common summary statistics - mean and effect size to report a story on the evening news about \n",
    "# whether first babies arrive late.\n",
    "# Most likely will just go with mean if I wanted to reassure an anxious patient.\n",
    "# If I am Cecil Adams, I would explain that based on the samples or data collected, for all live births, \n",
    "# the mean pregnancy length is 38.6 weeks with a standard deviation of 2.7 weeks which means a deviation of \n",
    "# 2-3 weeks is quite common and expected and there's nothing to worry about it.\n",
    "# I would go one step further and consider the effect Size summary statistic as well to mention that the pregnancy\n",
    "# length for first babies is 38.6 weeks vs other babies of 38.5 weeks which is a diff of about 0.2% "
   ]
  },
  {
   "cell_type": "markdown",
   "id": "b2085e01",
   "metadata": {},
   "source": [
    "# Excercise 2-4"
   ]
  },
  {
   "cell_type": "code",
   "execution_count": 21,
   "id": "b9919910",
   "metadata": {},
   "outputs": [
    {
     "name": "stdout",
     "output_type": "stream",
     "text": [
      "Mean\n",
      "First babies 7.201094430437772\n",
      "Others 7.325855614973262\n",
      "Variance\n",
      "First babies 2.0180273009157768\n",
      "Others 1.9437810258964572\n",
      "Difference in lbs -0.12476118453549034\n",
      "Difference in oz -1.9961789525678455\n",
      "Difference relative to mean (%age points) -1.7171423678372415\n",
      "Cohen d -0.088672927072602\n",
      "Mode of preg length 39\n",
      "39 4693\n",
      "40 1116\n",
      "38 607\n",
      "41 587\n",
      "37 455\n",
      "['C:\\\\Users\\\\nbaga\\\\anaconda3\\\\lib\\\\site-packages\\\\ipykernel_launcher.py', '-f', 'C:\\\\Users\\\\nbaga\\\\AppData\\\\Roaming\\\\jupyter\\\\runtime\\\\kernel-0a67912f-eb0e-4cfb-809f-cfbcf8196cc8.json']: All tests passed.\n"
     ]
    }
   ],
   "source": [
    "from __future__ import print_function\n",
    "\n",
    "import sys\n",
    "from operator import itemgetter\n",
    "\n",
    "import first\n",
    "import thinkstats2\n",
    "def Mode(hist):\n",
    "    \"\"\"Returns the value with the highest frequency.\n",
    "    hist: Hist object\n",
    "    returns: value from Hist\n",
    "    \"\"\"\n",
    "    p, x = max([(p, x) for x, p in hist.Items()])\n",
    "    return x\n",
    "\n",
    "\n",
    "def AllModes(hist):\n",
    "    \"\"\"Returns value-freq pairs in decreasing order of frequency.\n",
    "    hist: Hist object\n",
    "    returns: iterator of value-freq pairs\n",
    "    \"\"\"\n",
    "    return sorted(hist.Items(), key=itemgetter(1), reverse=True)\n",
    "\n",
    "\n",
    "def WeightDifference(live, firsts, others):\n",
    "    \"\"\"Explore the difference in weight between first babies and others.\n",
    "    live: DataFrame of all live births\n",
    "    firsts: DataFrame of first babies\n",
    "    others: DataFrame of others\n",
    "    \"\"\"\n",
    "    mean0 = live.totalwgt_lb.mean()\n",
    "    mean1 = firsts.totalwgt_lb.mean()\n",
    "    mean2 = others.totalwgt_lb.mean()\n",
    "\n",
    "    var1 = firsts.totalwgt_lb.var()\n",
    "    var2 = others.totalwgt_lb.var()\n",
    "\n",
    "    print('Mean')\n",
    "    print('First babies', mean1)\n",
    "    print('Others', mean2)\n",
    "\n",
    "    print('Variance')\n",
    "    print('First babies', var1)\n",
    "    print('Others', var2)\n",
    "\n",
    "    print('Difference in lbs', mean1 - mean2)\n",
    "    print('Difference in oz', (mean1 - mean2) * 16)\n",
    "\n",
    "    print('Difference relative to mean (%age points)', \n",
    "          (mean1 - mean2) / mean0 * 100)\n",
    "\n",
    "    d = thinkstats2.CohenEffectSize(firsts.totalwgt_lb, others.totalwgt_lb)\n",
    "    print('Cohen d', d)\n",
    "\n",
    "\n",
    "def main(script):\n",
    "    \"\"\"Tests the functions in this module.\n",
    "    script: string script name\n",
    "    \"\"\"\n",
    "    live, firsts, others = first.MakeFrames()\n",
    "    hist = thinkstats2.Hist(live.prglngth)\n",
    "\n",
    "    # explore the weight difference between first babies and others\n",
    "    WeightDifference(live, firsts, others)\n",
    "\n",
    "    # test Mode    \n",
    "    mode = Mode(hist)\n",
    "    print('Mode of preg length', mode)\n",
    "    assert(mode == 39)\n",
    "\n",
    "    # test AllModes\n",
    "    modes = AllModes(hist)\n",
    "    assert(modes[0][1] == 4693)\n",
    "\n",
    "    for value, freq in modes[:5]:\n",
    "        print(value, freq)\n",
    "\n",
    "    print('%s: All tests passed.' % script)\n",
    "\n",
    "\n",
    "if __name__ == '__main__':\n",
    "    main(sys.argv)\n"
   ]
  },
  {
   "cell_type": "code",
   "execution_count": 22,
   "id": "5b44108d",
   "metadata": {},
   "outputs": [],
   "source": [
    "# Based on above observation, the weight difference between first arrived babies and others babies is -0.12476 lbs,\n",
    "# hence it proved that the first arrived babies are lighter than later. \n",
    "# The most of the pregranancy length is 39 months.\n",
    "# Cohen's d mean difference between two groups is -0.08867."
   ]
  },
  {
   "cell_type": "code",
   "execution_count": null,
   "id": "96958b31",
   "metadata": {},
   "outputs": [],
   "source": []
  }
 ],
 "metadata": {
  "kernelspec": {
   "display_name": "Python 3 (ipykernel)",
   "language": "python",
   "name": "python3"
  },
  "language_info": {
   "codemirror_mode": {
    "name": "ipython",
    "version": 3
   },
   "file_extension": ".py",
   "mimetype": "text/x-python",
   "name": "python",
   "nbconvert_exporter": "python",
   "pygments_lexer": "ipython3",
   "version": "3.9.7"
  }
 },
 "nbformat": 4,
 "nbformat_minor": 5
}
