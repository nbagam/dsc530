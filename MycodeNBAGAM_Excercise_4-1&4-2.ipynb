{
 "cells": [
  {
   "cell_type": "markdown",
   "metadata": {},
   "source": [
    "# Chapter 4\n",
    "\n",
    "Examples and Exercises from Think Stats, 2nd Edition\n",
    "\n",
    "http://thinkstats2.com\n",
    "\n",
    "Copyright 2016 Allen B. Downey\n",
    "\n",
    "MIT License: https://opensource.org/licenses/MIT\n"
   ]
  },
  {
   "cell_type": "code",
   "execution_count": 1,
   "metadata": {},
   "outputs": [],
   "source": [
    "import numpy as np"
   ]
  },
  {
   "cell_type": "code",
   "execution_count": 2,
   "metadata": {},
   "outputs": [],
   "source": [
    "from os.path import basename, exists\n",
    "\n",
    "\n",
    "def download(url):\n",
    "    filename = basename(url)\n",
    "    if not exists(filename):\n",
    "        from urllib.request import urlretrieve\n",
    "\n",
    "        local, _ = urlretrieve(url, filename)\n",
    "        print(\"Downloaded \" + local)\n",
    "\n",
    "\n",
    "download(\"https://github.com/AllenDowney/ThinkStats2/raw/master/code/thinkstats2.py\")\n",
    "download(\"https://github.com/AllenDowney/ThinkStats2/raw/master/code/thinkplot.py\")\n",
    "download(\"https://github.com/AllenDowney/ThinkStats2/raw/master/code/nsfg.py\")\n",
    "download(\"https://github.com/AllenDowney/ThinkStats2/raw/master/code/first.py\")\n",
    "\n",
    "\n",
    "download(\"https://github.com/AllenDowney/ThinkStats2/raw/master/code/2002FemPreg.dct\")\n",
    "download(\n",
    "    \"https://github.com/AllenDowney/ThinkStats2/raw/master/code/2002FemPreg.dat.gz\"\n",
    ")"
   ]
  },
  {
   "cell_type": "code",
   "execution_count": 3,
   "metadata": {},
   "outputs": [],
   "source": [
    "import thinkstats2\n",
    "import thinkplot"
   ]
  },
  {
   "cell_type": "markdown",
   "metadata": {},
   "source": [
    "## Examples\n",
    "\n",
    "One more time, I'll load the data from the NSFG."
   ]
  },
  {
   "cell_type": "code",
   "execution_count": 4,
   "metadata": {},
   "outputs": [],
   "source": [
    "import first\n",
    "\n",
    "live, firsts, others = first.MakeFrames()"
   ]
  },
  {
   "cell_type": "markdown",
   "metadata": {},
   "source": [
    "And compute the distribution of birth weight for first babies and others."
   ]
  },
  {
   "cell_type": "code",
   "execution_count": 5,
   "metadata": {},
   "outputs": [
    {
     "name": "stdout",
     "output_type": "stream",
     "text": [
      "Firsts 4413 4363\n",
      "Others 4735 4675\n"
     ]
    }
   ],
   "source": [
    "first_wgt = firsts.totalwgt_lb\n",
    "first_wgt_dropna = first_wgt.dropna()\n",
    "print('Firsts', len(first_wgt), len(first_wgt_dropna))\n",
    " \n",
    "other_wgt = others.totalwgt_lb\n",
    "other_wgt_dropna = other_wgt.dropna()\n",
    "print('Others', len(other_wgt), len(other_wgt_dropna))\n",
    "\n",
    "first_pmf = thinkstats2.Pmf(first_wgt_dropna, label='first')\n",
    "other_pmf = thinkstats2.Pmf(other_wgt_dropna, label='other')"
   ]
  },
  {
   "cell_type": "markdown",
   "metadata": {},
   "source": [
    "We can plot the PMFs on the same scale, but it is hard to see if there is a difference."
   ]
  },
  {
   "cell_type": "code",
   "execution_count": 6,
   "metadata": {},
   "outputs": [
    {
     "data": {
      "image/png": "[encoded data removed]",
      "text/plain": [
       "<Figure size 432x288 with 1 Axes>"
      ]
     },
     "metadata": {
      "needs_background": "light"
     },
     "output_type": "display_data"
    }
   ],
   "source": [
    "width = 0.4 / 16\n",
    "\n",
    "# plot PMFs of birth weights for first babies and others\n",
    "thinkplot.PrePlot(2)\n",
    "thinkplot.Hist(first_pmf, align='right', width=width)\n",
    "thinkplot.Hist(other_pmf, align='left', width=width)\n",
    "thinkplot.Config(xlabel='Weight (pounds)', ylabel='PMF')"
   ]
  },
  {
   "cell_type": "markdown",
   "metadata": {},
   "source": [
    "`PercentileRank` computes the fraction of `scores` less than or equal to `your_score`."
   ]
  },
  {
   "cell_type": "code",
   "execution_count": 7,
   "metadata": {},
   "outputs": [],
   "source": [
    "def PercentileRank(scores, your_score):\n",
    "    count = 0\n",
    "    for score in scores:\n",
    "        if score <= your_score:\n",
    "            count += 1\n",
    "\n",
    "    percentile_rank = 100.0 * count / len(scores)\n",
    "    return percentile_rank"
   ]
  },
  {
   "cell_type": "markdown",
   "metadata": {},
   "source": [
    "If this is the list of scores."
   ]
  },
  {
   "cell_type": "code",
   "execution_count": 8,
   "metadata": {},
   "outputs": [],
   "source": [
    "t = [55, 66, 77, 88, 99]"
   ]
  },
  {
   "cell_type": "markdown",
   "metadata": {},
   "source": [
    "If you got the 88, your percentile rank is 80."
   ]
  },
  {
   "cell_type": "code",
   "execution_count": 9,
   "metadata": {},
   "outputs": [
    {
     "data": {
      "text/plain": [
       "80.0"
      ]
     },
     "execution_count": 9,
     "metadata": {},
     "output_type": "execute_result"
    }
   ],
   "source": [
    "PercentileRank(t, 88)"
   ]
  },
  {
   "cell_type": "markdown",
   "metadata": {},
   "source": [
    "`Percentile` takes a percentile rank and computes the corresponding percentile. "
   ]
  },
  {
   "cell_type": "code",
   "execution_count": 10,
   "metadata": {},
   "outputs": [],
   "source": [
    "def Percentile(scores, percentile_rank):\n",
    "    scores.sort()\n",
    "    for score in scores:\n",
    "        if PercentileRank(scores, score) >= percentile_rank:\n",
    "            return score"
   ]
  },
  {
   "cell_type": "markdown",
   "metadata": {},
   "source": [
    "The median is the 50th percentile, which is 77."
   ]
  },
  {
   "cell_type": "code",
   "execution_count": 11,
   "metadata": {},
   "outputs": [
    {
     "data": {
      "text/plain": [
       "77"
      ]
     },
     "execution_count": 11,
     "metadata": {},
     "output_type": "execute_result"
    }
   ],
   "source": [
    "Percentile(t, 50)"
   ]
  },
  {
   "cell_type": "markdown",
   "metadata": {},
   "source": [
    "Here's a more efficient way to compute percentiles."
   ]
  },
  {
   "cell_type": "code",
   "execution_count": 12,
   "metadata": {},
   "outputs": [],
   "source": [
    "def Percentile2(scores, percentile_rank):\n",
    "    scores.sort()\n",
    "    index = percentile_rank * (len(scores)-1) // 100\n",
    "    return scores[int(index)]"
   ]
  },
  {
   "cell_type": "markdown",
   "metadata": {},
   "source": [
    "Let's hope we get the same answer."
   ]
  },
  {
   "cell_type": "code",
   "execution_count": 13,
   "metadata": {},
   "outputs": [
    {
     "data": {
      "text/plain": [
       "77"
      ]
     },
     "execution_count": 13,
     "metadata": {},
     "output_type": "execute_result"
    }
   ],
   "source": [
    "Percentile2(t, 50)"
   ]
  },
  {
   "cell_type": "markdown",
   "metadata": {},
   "source": [
    "The Cumulative Distribution Function (CDF) is almost the same as `PercentileRank`.  The only difference is that the result is 0-1 instead of 0-100."
   ]
  },
  {
   "cell_type": "code",
   "execution_count": 14,
   "metadata": {},
   "outputs": [],
   "source": [
    "def EvalCdf(sample, x):\n",
    "    count = 0.0\n",
    "    for value in sample:\n",
    "        if value <= x:\n",
    "            count += 1\n",
    "\n",
    "    prob = count / len(sample)\n",
    "    return prob"
   ]
  },
  {
   "cell_type": "markdown",
   "metadata": {},
   "source": [
    "In this list"
   ]
  },
  {
   "cell_type": "code",
   "execution_count": 15,
   "metadata": {},
   "outputs": [],
   "source": [
    "t = [1, 2, 2, 3, 5]"
   ]
  },
  {
   "cell_type": "markdown",
   "metadata": {},
   "source": [
    "We can evaluate the CDF for various values:"
   ]
  },
  {
   "cell_type": "code",
   "execution_count": 16,
   "metadata": {},
   "outputs": [
    {
     "data": {
      "text/plain": [
       "(0.0, 0.2, 0.6, 0.8, 0.8, 1.0)"
      ]
     },
     "execution_count": 16,
     "metadata": {},
     "output_type": "execute_result"
    }
   ],
   "source": [
    "EvalCdf(t, 0), EvalCdf(t, 1), EvalCdf(t, 2), EvalCdf(t, 3), EvalCdf(t, 4), EvalCdf(t, 5)"
   ]
  },
  {
   "cell_type": "markdown",
   "metadata": {},
   "source": [
    "Here's an example using real data, the distribution of pregnancy length for live births."
   ]
  },
  {
   "cell_type": "code",
   "execution_count": 17,
   "metadata": {},
   "outputs": [
    {
     "data": {
      "image/png": "[encoded data removed]",
      "text/plain": [
       "<Figure size 432x288 with 1 Axes>"
      ]
     },
     "metadata": {
      "needs_background": "light"
     },
     "output_type": "display_data"
    }
   ],
   "source": [
    "cdf = thinkstats2.Cdf(live.prglngth, label='prglngth')\n",
    "thinkplot.Cdf(cdf)\n",
    "thinkplot.Config(xlabel='Pregnancy length (weeks)', ylabel='CDF', loc='upper left')"
   ]
  },
  {
   "cell_type": "markdown",
   "metadata": {},
   "source": [
    "`Cdf` provides `Prob`, which evaluates the CDF; that is, it computes the fraction of values less than or equal to the given value.  For example, 94% of pregnancy lengths are less than or equal to 41."
   ]
  },
  {
   "cell_type": "code",
   "execution_count": 18,
   "metadata": {},
   "outputs": [
    {
     "data": {
      "text/plain": [
       "0.9406427634455619"
      ]
     },
     "execution_count": 18,
     "metadata": {},
     "output_type": "execute_result"
    }
   ],
   "source": [
    "cdf.Prob(41)"
   ]
  },
  {
   "cell_type": "markdown",
   "metadata": {
    "collapsed": true
   },
   "source": [
    "`Value` evaluates the inverse CDF; given a fraction, it computes the corresponding value.  For example, the median is the value that corresponds to 0.5."
   ]
  },
  {
   "cell_type": "code",
   "execution_count": 19,
   "metadata": {},
   "outputs": [
    {
     "data": {
      "text/plain": [
       "39"
      ]
     },
     "execution_count": 19,
     "metadata": {},
     "output_type": "execute_result"
    }
   ],
   "source": [
    "cdf.Value(0.5)"
   ]
  },
  {
   "cell_type": "markdown",
   "metadata": {},
   "source": [
    "In general, CDFs are a good way to visualize distributions.  They are not as noisy as PMFs, and if you plot several CDFs on the same axes, any differences between them are apparent."
   ]
  },
  {
   "cell_type": "code",
   "execution_count": 20,
   "metadata": {},
   "outputs": [
    {
     "data": {
      "image/png": "[encoded data removed]",
      "text/plain": [
       "<Figure size 432x288 with 1 Axes>"
      ]
     },
     "metadata": {
      "needs_background": "light"
     },
     "output_type": "display_data"
    }
   ],
   "source": [
    "first_cdf = thinkstats2.Cdf(firsts.totalwgt_lb, label='first')\n",
    "other_cdf = thinkstats2.Cdf(others.totalwgt_lb, label='other')\n",
    "\n",
    "thinkplot.PrePlot(2)\n",
    "thinkplot.Cdfs([first_cdf, other_cdf])\n",
    "thinkplot.Config(xlabel='Weight (pounds)', ylabel='CDF')"
   ]
  },
  {
   "cell_type": "markdown",
   "metadata": {},
   "source": [
    "In this example, we can see that first babies are slightly, but consistently, lighter than others.\n",
    "\n",
    "We can use the CDF of birth weight to compute percentile-based statistics."
   ]
  },
  {
   "cell_type": "code",
   "execution_count": 21,
   "metadata": {},
   "outputs": [],
   "source": [
    "weights = live.totalwgt_lb\n",
    "live_cdf = thinkstats2.Cdf(weights, label='live')"
   ]
  },
  {
   "cell_type": "markdown",
   "metadata": {},
   "source": [
    "Again, the median is the 50th percentile."
   ]
  },
  {
   "cell_type": "code",
   "execution_count": 22,
   "metadata": {},
   "outputs": [
    {
     "data": {
      "text/plain": [
       "7.375"
      ]
     },
     "execution_count": 22,
     "metadata": {},
     "output_type": "execute_result"
    }
   ],
   "source": [
    "median = live_cdf.Percentile(50)\n",
    "median"
   ]
  },
  {
   "cell_type": "markdown",
   "metadata": {},
   "source": [
    "The interquartile range is the interval from the 25th to 75th percentile."
   ]
  },
  {
   "cell_type": "code",
   "execution_count": 23,
   "metadata": {},
   "outputs": [
    {
     "data": {
      "text/plain": [
       "(6.5, 8.125)"
      ]
     },
     "execution_count": 23,
     "metadata": {},
     "output_type": "execute_result"
    }
   ],
   "source": [
    "iqr = (live_cdf.Percentile(25), live_cdf.Percentile(75))\n",
    "iqr"
   ]
  },
  {
   "cell_type": "markdown",
   "metadata": {},
   "source": [
    "We can use the CDF to look up the percentile rank of a particular value.  For example, my second daughter was 10.2 pounds at birth, which is near the 99th percentile."
   ]
  },
  {
   "cell_type": "code",
   "execution_count": 24,
   "metadata": {},
   "outputs": [
    {
     "data": {
      "text/plain": [
       "98.82717415357381"
      ]
     },
     "execution_count": 24,
     "metadata": {},
     "output_type": "execute_result"
    }
   ],
   "source": [
    "live_cdf.PercentileRank(10.2)"
   ]
  },
  {
   "cell_type": "markdown",
   "metadata": {},
   "source": [
    "If we draw a random sample from the observed weights and map each weigh to its percentile rank."
   ]
  },
  {
   "cell_type": "code",
   "execution_count": 25,
   "metadata": {},
   "outputs": [],
   "source": [
    "sample = np.random.choice(weights, 100, replace=True)\n",
    "ranks = [live_cdf.PercentileRank(x) for x in sample]"
   ]
  },
  {
   "cell_type": "markdown",
   "metadata": {},
   "source": [
    "The resulting list of ranks should be approximately uniform from 0-1."
   ]
  },
  {
   "cell_type": "code",
   "execution_count": 26,
   "metadata": {},
   "outputs": [
    {
     "data": {
      "image/png": "[encoded data removed]",
      "text/plain": [
       "<Figure size 432x288 with 1 Axes>"
      ]
     },
     "metadata": {
      "needs_background": "light"
     },
     "output_type": "display_data"
    }
   ],
   "source": [
    "rank_cdf = thinkstats2.Cdf(ranks)\n",
    "thinkplot.Cdf(rank_cdf)\n",
    "thinkplot.Config(xlabel='Percentile rank', ylabel='CDF')"
   ]
  },
  {
   "cell_type": "markdown",
   "metadata": {},
   "source": [
    "That observation is the basis of `Cdf.Sample`, which generates a random sample from a Cdf.  Here's an example."
   ]
  },
  {
   "cell_type": "code",
   "execution_count": 27,
   "metadata": {},
   "outputs": [
    {
     "data": {
      "image/png": "[encoded data removed]",
      "text/plain": [
       "<Figure size 432x288 with 1 Axes>"
      ]
     },
     "metadata": {
      "needs_background": "light"
     },
     "output_type": "display_data"
    }
   ],
   "source": [
    "resample = live_cdf.Sample(1000)\n",
    "thinkplot.Cdf(live_cdf)\n",
    "thinkplot.Cdf(thinkstats2.Cdf(resample, label='resample'))\n",
    "thinkplot.Config(xlabel='Birth weight (pounds)', ylabel='CDF')"
   ]
  },
  {
   "cell_type": "markdown",
   "metadata": {},
   "source": [
    "This confirms that the random sample has the same distribution as the original data."
   ]
  },
  {
   "cell_type": "markdown",
   "metadata": {
    "collapsed": true
   },
   "source": [
    "## Exercises"
   ]
  },
  {
   "cell_type": "markdown",
   "metadata": {
    "collapsed": true
   },
   "source": [
    "**Exercise:** How much did you weigh at birth? If you don’t know, call your mother or someone else who knows. Using the NSFG data (all live births), compute the distribution of birth weights and use it to find your percentile rank. If you were a first baby, find your percentile rank in the distribution for first babies. Otherwise use the distribution for others. If you are in the 90th percentile or higher, call your mother back and apologize."
   ]
  },
  {
   "cell_type": "code",
   "execution_count": 54,
   "metadata": {},
   "outputs": [
    {
     "data": {
      "text/plain": [
       "66.10130644052258"
      ]
     },
     "execution_count": 54,
     "metadata": {},
     "output_type": "execute_result"
    }
   ],
   "source": [
    "# Solution\n",
    "first_cdf.PercentileRank(7.716)"
   ]
  },
  {
   "cell_type": "code",
   "execution_count": 55,
   "metadata": {},
   "outputs": [
    {
     "data": {
      "text/plain": [
       "26.6951871657754"
      ]
     },
     "execution_count": 55,
     "metadata": {},
     "output_type": "execute_result"
    }
   ],
   "source": [
    "# Solution\n",
    "\n",
    "other_cdf.PercentileRank(6.6)"
   ]
  },
  {
   "cell_type": "markdown",
   "metadata": {
    "collapsed": true
   },
   "source": [
    "**Exercise:** The numbers generated by `numpy.random.random` are supposed to be uniform between 0 and 1; that is, every value in the range should have the same probability.\n",
    "\n",
    "Generate 1000 numbers from `numpy.random.random` and plot their PMF.  What goes wrong?\n",
    "\n",
    "Now plot the CDF. Is the distribution uniform?"
   ]
  },
  {
   "cell_type": "code",
   "execution_count": 59,
   "metadata": {},
   "outputs": [],
   "source": [
    "# Solution\n",
    "\n",
    "t = np.random.random(1000)"
   ]
  },
  {
   "cell_type": "code",
   "execution_count": 53,
   "metadata": {},
   "outputs": [
    {
     "data": {
      "image/png": "[encoded data removed]",
      "text/plain": [
       "<Figure size 432x288 with 1 Axes>"
      ]
     },
     "metadata": {
      "needs_background": "light"
     },
     "output_type": "display_data"
    }
   ],
   "source": [
    "# Solution\n",
    "\n",
    "pmf = thinkstats2.Pmf(t)\n",
    "thinkplot.Pmf(pmf, linewidth=0.1)\n",
    "thinkplot.Config(xlabel='Random variate', ylabel='PMF')"
   ]
  },
  {
   "cell_type": "code",
   "execution_count": 36,
   "metadata": {},
   "outputs": [
    {
     "data": {
      "image/png": "[encoded data removed]",
      "text/plain": [
       "<Figure size 432x288 with 1 Axes>"
      ]
     },
     "metadata": {
      "needs_background": "light"
     },
     "output_type": "display_data"
    }
   ],
   "source": [
    "# Solution\n",
    "\n",
    "cdf = thinkstats2.Cdf(t)\n",
    "thinkplot.Cdf(cdf)\n",
    "thinkplot.Config(xlabel='Random variate', ylabel='CDF')"
   ]
  },
  {
   "cell_type": "code",
   "execution_count": 63,
   "metadata": {},
   "outputs": [],
   "source": [
    "## In the above PMF, we are generating a ramdom of 1000, it may geberate all uinique values.\n",
    "\n",
    "## proof\n",
    "\n",
    "val,cnt = np.unique(t, return_counts=True)\n",
    "\n",
    "# Please see the following out put\n"
   ]
  },
  {
   "cell_type": "code",
   "execution_count": 64,
   "metadata": {},
   "outputs": [
    {
     "name": "stdout",
     "output_type": "stream",
     "text": [
      "[0.00189028 0.00229694 0.00306739 0.00400359 0.00460441 0.00608103\n",
      " 0.00613822 0.00688382 0.007943   0.00967299 0.00975443 0.01141978\n",
      " 0.01143041 0.01172347 0.01182478 0.01358319 0.01531544 0.01616654\n",
      " 0.01658713 0.01667592 0.01710292 0.01778413 0.0194981  0.02136784\n",
      " 0.02137269 0.02188779 0.02355968 0.02435459 0.02706483 0.02944617\n",
      " 0.02992503 0.03014148 0.03031752 0.03248189 0.03433094 0.03470662\n",
      " 0.03514276 0.03652786 0.03747292 0.03826637 0.03830214 0.03902567\n",
      " 0.04103722 0.04192958 0.04287121 0.04350937 0.04489088 0.04597376\n",
      " 0.04734051 0.04741618 0.04829724 0.04864924 0.04869988 0.05021331\n",
      " 0.054319   0.05546658 0.05625746 0.05697285 0.05767335 0.06083621\n",
      " 0.06249665 0.0639203  0.06445896 0.06494561 0.06589155 0.06735286\n",
      " 0.06820089 0.07019243 0.07166476 0.07200658 0.07367135 0.07444141\n",
      " 0.0795814  0.08170024 0.08178569 0.0831863  0.08401272 0.08413835\n",
      " 0.08444568 0.0848524  0.08542753 0.08637439 0.08668377 0.08855608\n",
      " 0.08895272 0.08963343 0.08996963 0.09335434 0.09339389 0.09380623\n",
      " 0.09393394 0.0939403  0.09583648 0.0961228  0.09658667 0.10084486\n",
      " 0.10485597 0.10596043 0.10764172 0.1090089  0.10956322 0.11143436\n",
      " 0.11189584 0.11409628 0.11510092 0.11510971 0.11640672 0.11962303\n",
      " 0.12074729 0.12346106 0.12449599 0.12453868 0.12477924 0.1262378\n",
      " 0.12644825 0.12968286 0.13120706 0.13179692 0.13477753 0.1353068\n",
      " 0.13568571 0.13750295 0.13966405 0.14115068 0.14292215 0.1430644\n",
      " 0.14424348 0.14533094 0.14661772 0.14920278 0.15008206 0.15184524\n",
      " 0.1518536  0.1529947  0.15321511 0.1535514  0.15381792 0.15443539\n",
      " 0.15551881 0.15667661 0.15913256 0.16201632 0.16225833 0.16256817\n",
      " 0.16268984 0.16301067 0.16375169 0.16425148 0.16509919 0.1662027\n",
      " 0.16669416 0.16681488 0.1676239  0.16835483 0.1704993  0.1712623\n",
      " 0.1715879  0.17218373 0.17409238 0.17685366 0.1790314  0.17966183\n",
      " 0.1798342  0.17993698 0.18170559 0.18215342 0.18237834 0.18296372\n",
      " 0.18310136 0.18312166 0.18353579 0.18448261 0.18600456 0.18625676\n",
      " 0.18691398 0.18735591 0.18756578 0.18808759 0.18889402 0.19104936\n",
      " 0.19149525 0.19159599 0.19201709 0.19229106 0.19255249 0.1926246\n",
      " 0.19324823 0.19355964 0.19453286 0.19570567 0.19627416 0.20050877\n",
      " 0.20115581 0.20158384 0.20354526 0.20528964 0.20817587 0.20935181\n",
      " 0.21025723 0.21265212 0.21361519 0.21489116 0.21498675 0.21856975\n",
      " 0.219741   0.21979511 0.22113992 0.22125746 0.22228303 0.22325833\n",
      " 0.22438532 0.22453124 0.22527154 0.22572331 0.2257982  0.22802081\n",
      " 0.23000317 0.23019362 0.23345574 0.23367671 0.23501601 0.23544509\n",
      " 0.2358143  0.2359117  0.23756261 0.23938267 0.23998863 0.24080208\n",
      " 0.24213994 0.24457493 0.24559894 0.24613762 0.24747549 0.24769948\n",
      " 0.24827411 0.24982698 0.25017832 0.25120971 0.25148725 0.25219302\n",
      " 0.25466926 0.25522003 0.25749222 0.25796342 0.2588575  0.25951793\n",
      " 0.25971186 0.25973215 0.26057968 0.26108297 0.26259554 0.263337\n",
      " 0.26426037 0.26461156 0.26559611 0.26575804 0.26852934 0.26853236\n",
      " 0.26858405 0.26935419 0.26975203 0.27067421 0.27211972 0.27337117\n",
      " 0.27345042 0.27390713 0.27521548 0.27557303 0.27573759 0.27586939\n",
      " 0.27710955 0.27840783 0.27891606 0.27903073 0.27954325 0.27961304\n",
      " 0.28026712 0.28190494 0.2825532  0.28261837 0.28348465 0.28377129\n",
      " 0.2840874  0.28461819 0.28759433 0.28822176 0.28948183 0.289571\n",
      " 0.28960746 0.28977945 0.29078277 0.2914726  0.29179134 0.29480517\n",
      " 0.29555097 0.29575939 0.29638041 0.29940693 0.30193522 0.3020071\n",
      " 0.30361514 0.30432535 0.30443429 0.30840772 0.30862304 0.30878352\n",
      " 0.30891847 0.31142071 0.3121157  0.31547996 0.31613379 0.31874667\n",
      " 0.31891996 0.32000834 0.32012923 0.32056168 0.32079292 0.32192932\n",
      " 0.32332267 0.32394557 0.3245475  0.3253754  0.32592102 0.32654339\n",
      " 0.32693684 0.32720744 0.32830199 0.32892005 0.32963126 0.3296575\n",
      " 0.33001117 0.33196869 0.33318823 0.33444174 0.33451243 0.33527904\n",
      " 0.33650911 0.336834   0.33708766 0.33953762 0.34413756 0.34561586\n",
      " 0.34745119 0.34923963 0.35018884 0.35076474 0.35207242 0.35326496\n",
      " 0.35369104 0.35518083 0.35534517 0.35545725 0.35919631 0.35953082\n",
      " 0.3600677  0.36120867 0.36285331 0.36469972 0.36645147 0.36789615\n",
      " 0.36925577 0.37036214 0.37053475 0.37317194 0.37321295 0.37341649\n",
      " 0.37568483 0.37702235 0.37730262 0.38092993 0.38097565 0.38252825\n",
      " 0.38348379 0.38556359 0.38587742 0.38641142 0.38658746 0.38663914\n",
      " 0.38691358 0.38714189 0.38777502 0.38889696 0.38991481 0.39015378\n",
      " 0.390696   0.39076984 0.39137287 0.39236871 0.39298122 0.3930672\n",
      " 0.39422607 0.39594286 0.39723201 0.39870952 0.39905444 0.39906011\n",
      " 0.40415447 0.40421696 0.40468603 0.40483364 0.40548716 0.40651621\n",
      " 0.40677913 0.40727512 0.40741924 0.40978014 0.41188682 0.41253682\n",
      " 0.41291358 0.41306074 0.41605715 0.416835   0.41752683 0.41755866\n",
      " 0.41997475 0.42098285 0.42169414 0.42186136 0.4222505  0.42261701\n",
      " 0.42457493 0.42574826 0.42607975 0.42637067 0.42685175 0.42736516\n",
      " 0.42761637 0.42904173 0.42995288 0.43089533 0.43115082 0.43136245\n",
      " 0.43183462 0.43245409 0.43253344 0.43280481 0.43412253 0.43412424\n",
      " 0.43471882 0.43538788 0.43631566 0.43720936 0.43739623 0.43803982\n",
      " 0.43814315 0.43825348 0.43847104 0.43870337 0.43995232 0.44019346\n",
      " 0.44031048 0.44190989 0.44462377 0.44464994 0.44798393 0.44821048\n",
      " 0.44841102 0.44900795 0.4499437  0.44998043 0.45101    0.45138976\n",
      " 0.45297667 0.45548251 0.45672697 0.45709948 0.45952797 0.45987727\n",
      " 0.46103619 0.46136429 0.4631621  0.46332204 0.46790517 0.46859315\n",
      " 0.46889141 0.4693793  0.46977042 0.47047054 0.47075186 0.47144467\n",
      " 0.47195449 0.47398267 0.4743154  0.47469118 0.47643074 0.47829324\n",
      " 0.47993869 0.48177364 0.48182748 0.48244546 0.48389653 0.48435356\n",
      " 0.48455442 0.4847891  0.48488448 0.48504964 0.48515629 0.48709374\n",
      " 0.48851658 0.48883149 0.49130996 0.49139401 0.49148912 0.49236099\n",
      " 0.49450242 0.49456645 0.49693037 0.49757615 0.49942579 0.50072167\n",
      " 0.50187946 0.50258077 0.50290752 0.5054317  0.50636128 0.50681486\n",
      " 0.50801242 0.5103059  0.51072291 0.51089978 0.51107303 0.51114924\n",
      " 0.51207637 0.51424473 0.51779696 0.51830293 0.51911837 0.52062841\n",
      " 0.52135739 0.52150696 0.52154891 0.52217683 0.52262503 0.52414532\n",
      " 0.52972423 0.53000135 0.53111616 0.53184596 0.5318829  0.53558349\n",
      " 0.53695063 0.53846329 0.54162775 0.54194276 0.54197731 0.54767977\n",
      " 0.54861364 0.54953249 0.55106252 0.55213413 0.55260861 0.5544538\n",
      " 0.55446746 0.55496559 0.55510409 0.55557173 0.55558073 0.55631129\n",
      " 0.5567174  0.55784976 0.55908563 0.55926282 0.55983696 0.56119884\n",
      " 0.56217854 0.56287802 0.5631265  0.56316337 0.56429743 0.56478906\n",
      " 0.56579202 0.56693812 0.56737949 0.56885842 0.56959223 0.5700125\n",
      " 0.57010143 0.57015888 0.57151482 0.57432514 0.57526354 0.57526765\n",
      " 0.57869732 0.57878861 0.57898728 0.5802897  0.5803413  0.58079999\n",
      " 0.58154384 0.58391239 0.58505578 0.58606307 0.58660584 0.5881374\n",
      " 0.58813868 0.5882323  0.59012335 0.59162708 0.59180731 0.59255362\n",
      " 0.59271796 0.5938965  0.59514967 0.59571576 0.59620094 0.5962053\n",
      " 0.59716811 0.5973819  0.5977718  0.59783807 0.59805774 0.59824128\n",
      " 0.60034368 0.60164598 0.60213495 0.60247929 0.60256037 0.60407944\n",
      " 0.60530637 0.60532343 0.60599722 0.61083247 0.61221433 0.61286038\n",
      " 0.61597623 0.61664661 0.61728123 0.61997071 0.62027278 0.62382418\n",
      " 0.62387992 0.6249136  0.62603454 0.62656916 0.62695987 0.6272125\n",
      " 0.62816203 0.62969991 0.62984031 0.63003305 0.63154811 0.63287118\n",
      " 0.63385445 0.63425891 0.6355046  0.63603109 0.63894407 0.63993857\n",
      " 0.64089164 0.64107192 0.64109983 0.64153277 0.64240967 0.64264907\n",
      " 0.64348674 0.64853827 0.65161731 0.65275991 0.65319309 0.65426878\n",
      " 0.65648689 0.65775379 0.6610897  0.66156649 0.66164451 0.6620713\n",
      " 0.66345764 0.66367496 0.66368692 0.66422908 0.66511847 0.66875937\n",
      " 0.66894494 0.6697656  0.66997591 0.67190545 0.67303495 0.67406951\n",
      " 0.67646048 0.67798616 0.68202099 0.68329353 0.68387946 0.68465035\n",
      " 0.68514744 0.68519368 0.68522575 0.68534637 0.68667115 0.68747304\n",
      " 0.68815722 0.68956683 0.68968701 0.68970769 0.69056673 0.6908945\n",
      " 0.69319428 0.6939758  0.6949754  0.69539318 0.69554405 0.69646972\n",
      " 0.69672617 0.70013832 0.70054901 0.70168027 0.70192585 0.70461749\n",
      " 0.70660637 0.70732542 0.70890841 0.70896566 0.71086468 0.71473326\n",
      " 0.71498673 0.71531291 0.71573276 0.71726056 0.71759548 0.71858672\n",
      " 0.7193791  0.72013975 0.7205891  0.72128702 0.72433223 0.72442904\n",
      " 0.72646952 0.72746374 0.72787841 0.72890318 0.72924522 0.73106817\n",
      " 0.73305911 0.733391   0.73343472 0.73355304 0.73452747 0.73524111\n",
      " 0.73701669 0.73738131 0.73753025 0.73793133 0.73853022 0.73877416\n",
      " 0.73908316 0.74091305 0.74229139 0.74458701 0.74649973 0.74831951\n",
      " 0.74835033 0.74925659 0.75009819 0.75272291 0.7556039  0.75642537\n",
      " 0.75841561 0.75891629 0.76091421 0.76174457 0.76224598 0.76290428\n",
      " 0.76530134 0.76545909 0.7657573  0.76599221 0.76642443 0.76772258\n",
      " 0.76822107 0.76873631 0.76947413 0.77107787 0.77293676 0.77320571\n",
      " 0.77342827 0.77423084 0.77474248 0.77628984 0.77744607 0.77777224\n",
      " 0.77859136 0.77948969 0.78241433 0.78354952 0.78515746 0.78936706\n",
      " 0.79052095 0.79097537 0.79099409 0.79132025 0.79194929 0.79368879\n",
      " 0.79519879 0.79556412 0.79564103 0.79614101 0.79620702 0.79651103\n",
      " 0.79721829 0.79737133 0.79790518 0.79852215 0.79921666 0.79930761\n",
      " 0.7993793  0.79995188 0.80106781 0.80124143 0.80140125 0.80164676\n",
      " 0.80275735 0.80293907 0.80339975 0.80358921 0.8042954  0.80445456\n",
      " 0.80612346 0.8069696  0.80721505 0.80745798 0.80753401 0.80776964\n",
      " 0.80789387 0.81002346 0.81010718 0.81219277 0.81378211 0.81462871\n",
      " 0.81556266 0.81712348 0.82223498 0.8239947  0.8246544  0.82492551\n",
      " 0.82581822 0.82618618 0.82742488 0.82818233 0.82959894 0.83164323\n",
      " 0.83228968 0.83436181 0.83574872 0.83577064 0.83577729 0.83606234\n",
      " 0.83690604 0.83815947 0.84069383 0.84108427 0.84135857 0.84199378\n",
      " 0.84222803 0.84228908 0.84299188 0.84328606 0.84335552 0.84340187\n",
      " 0.84394765 0.84424904 0.8461263  0.84681434 0.84740057 0.8500678\n",
      " 0.85049611 0.85117851 0.85171976 0.85430606 0.85433877 0.85448218\n",
      " 0.85633475 0.85736428 0.85919894 0.86117865 0.86182357 0.8622723\n",
      " 0.86435041 0.86436433 0.86518521 0.86522991 0.86606386 0.86875204\n",
      " 0.86897521 0.86909158 0.86925606 0.86958372 0.86967381 0.87189646\n",
      " 0.87244061 0.87302017 0.87310547 0.87409982 0.87473125 0.87552153\n",
      " 0.87678939 0.87685715 0.87826958 0.87956521 0.88349468 0.88366623\n",
      " 0.88596248 0.88608956 0.88753485 0.88872902 0.88932237 0.88975062\n",
      " 0.89101529 0.89233626 0.8940545  0.89417932 0.89874983 0.90155647\n",
      " 0.90304972 0.90424305 0.90448655 0.90516786 0.90821142 0.91072134\n",
      " 0.91331126 0.91398428 0.91667949 0.91683637 0.91832828 0.91839415\n",
      " 0.9205257  0.92156593 0.92208953 0.92547065 0.92564971 0.92787092\n",
      " 0.92858201 0.92869582 0.9298709  0.93089599 0.93166552 0.93205835\n",
      " 0.93287768 0.93355848 0.93404573 0.93407641 0.93422674 0.93941426\n",
      " 0.94062055 0.94230502 0.9424296  0.94347645 0.94348851 0.94426658\n",
      " 0.94560066 0.9463901  0.94655428 0.9478263  0.94828723 0.94847338\n",
      " 0.94932538 0.94942925 0.94992298 0.9503777  0.95410677 0.9611422\n",
      " 0.96114387 0.96215516 0.96227381 0.96228326 0.96345401 0.96474675\n",
      " 0.96507969 0.96818411 0.96869195 0.97026549 0.9704637  0.97051493\n",
      " 0.97434452 0.97805223 0.97814579 0.97860056 0.98010609 0.98118212\n",
      " 0.98444687 0.98458626 0.98533904 0.98555768 0.98642701 0.98695584\n",
      " 0.98814819 0.98926105 0.9895088  0.9895749  0.99132077 0.9930126\n",
      " 0.99313323 0.9937948  0.99640123 0.99641769 0.99652737 0.99692122\n",
      " 0.99724055 0.9975467  0.99915776 0.99967458]\n"
     ]
    }
   ],
   "source": [
    "print(val)"
   ]
  },
  {
   "cell_type": "code",
   "execution_count": 65,
   "metadata": {},
   "outputs": [
    {
     "name": "stdout",
     "output_type": "stream",
     "text": [
      "[1 1 1 1 1 1 1 1 1 1 1 1 1 1 1 1 1 1 1 1 1 1 1 1 1 1 1 1 1 1 1 1 1 1 1 1 1\n",
      " 1 1 1 1 1 1 1 1 1 1 1 1 1 1 1 1 1 1 1 1 1 1 1 1 1 1 1 1 1 1 1 1 1 1 1 1 1\n",
      " 1 1 1 1 1 1 1 1 1 1 1 1 1 1 1 1 1 1 1 1 1 1 1 1 1 1 1 1 1 1 1 1 1 1 1 1 1\n",
      " 1 1 1 1 1 1 1 1 1 1 1 1 1 1 1 1 1 1 1 1 1 1 1 1 1 1 1 1 1 1 1 1 1 1 1 1 1\n",
      " 1 1 1 1 1 1 1 1 1 1 1 1 1 1 1 1 1 1 1 1 1 1 1 1 1 1 1 1 1 1 1 1 1 1 1 1 1\n",
      " 1 1 1 1 1 1 1 1 1 1 1 1 1 1 1 1 1 1 1 1 1 1 1 1 1 1 1 1 1 1 1 1 1 1 1 1 1\n",
      " 1 1 1 1 1 1 1 1 1 1 1 1 1 1 1 1 1 1 1 1 1 1 1 1 1 1 1 1 1 1 1 1 1 1 1 1 1\n",
      " 1 1 1 1 1 1 1 1 1 1 1 1 1 1 1 1 1 1 1 1 1 1 1 1 1 1 1 1 1 1 1 1 1 1 1 1 1\n",
      " 1 1 1 1 1 1 1 1 1 1 1 1 1 1 1 1 1 1 1 1 1 1 1 1 1 1 1 1 1 1 1 1 1 1 1 1 1\n",
      " 1 1 1 1 1 1 1 1 1 1 1 1 1 1 1 1 1 1 1 1 1 1 1 1 1 1 1 1 1 1 1 1 1 1 1 1 1\n",
      " 1 1 1 1 1 1 1 1 1 1 1 1 1 1 1 1 1 1 1 1 1 1 1 1 1 1 1 1 1 1 1 1 1 1 1 1 1\n",
      " 1 1 1 1 1 1 1 1 1 1 1 1 1 1 1 1 1 1 1 1 1 1 1 1 1 1 1 1 1 1 1 1 1 1 1 1 1\n",
      " 1 1 1 1 1 1 1 1 1 1 1 1 1 1 1 1 1 1 1 1 1 1 1 1 1 1 1 1 1 1 1 1 1 1 1 1 1\n",
      " 1 1 1 1 1 1 1 1 1 1 1 1 1 1 1 1 1 1 1 1 1 1 1 1 1 1 1 1 1 1 1 1 1 1 1 1 1\n",
      " 1 1 1 1 1 1 1 1 1 1 1 1 1 1 1 1 1 1 1 1 1 1 1 1 1 1 1 1 1 1 1 1 1 1 1 1 1\n",
      " 1 1 1 1 1 1 1 1 1 1 1 1 1 1 1 1 1 1 1 1 1 1 1 1 1 1 1 1 1 1 1 1 1 1 1 1 1\n",
      " 1 1 1 1 1 1 1 1 1 1 1 1 1 1 1 1 1 1 1 1 1 1 1 1 1 1 1 1 1 1 1 1 1 1 1 1 1\n",
      " 1 1 1 1 1 1 1 1 1 1 1 1 1 1 1 1 1 1 1 1 1 1 1 1 1 1 1 1 1 1 1 1 1 1 1 1 1\n",
      " 1 1 1 1 1 1 1 1 1 1 1 1 1 1 1 1 1 1 1 1 1 1 1 1 1 1 1 1 1 1 1 1 1 1 1 1 1\n",
      " 1 1 1 1 1 1 1 1 1 1 1 1 1 1 1 1 1 1 1 1 1 1 1 1 1 1 1 1 1 1 1 1 1 1 1 1 1\n",
      " 1 1 1 1 1 1 1 1 1 1 1 1 1 1 1 1 1 1 1 1 1 1 1 1 1 1 1 1 1 1 1 1 1 1 1 1 1\n",
      " 1 1 1 1 1 1 1 1 1 1 1 1 1 1 1 1 1 1 1 1 1 1 1 1 1 1 1 1 1 1 1 1 1 1 1 1 1\n",
      " 1 1 1 1 1 1 1 1 1 1 1 1 1 1 1 1 1 1 1 1 1 1 1 1 1 1 1 1 1 1 1 1 1 1 1 1 1\n",
      " 1 1 1 1 1 1 1 1 1 1 1 1 1 1 1 1 1 1 1 1 1 1 1 1 1 1 1 1 1 1 1 1 1 1 1 1 1\n",
      " 1 1 1 1 1 1 1 1 1 1 1 1 1 1 1 1 1 1 1 1 1 1 1 1 1 1 1 1 1 1 1 1 1 1 1 1 1\n",
      " 1 1 1 1 1 1 1 1 1 1 1 1 1 1 1 1 1 1 1 1 1 1 1 1 1 1 1 1 1 1 1 1 1 1 1 1 1\n",
      " 1 1 1 1 1 1 1 1 1 1 1 1 1 1 1 1 1 1 1 1 1 1 1 1 1 1 1 1 1 1 1 1 1 1 1 1 1\n",
      " 1]\n"
     ]
    }
   ],
   "source": [
    "print(cnt)"
   ]
  },
  {
   "cell_type": "code",
   "execution_count": 67,
   "metadata": {},
   "outputs": [],
   "source": [
    "##The above CDF (Cumulative Distribution Function) plot is not a uniform distribution,\n",
    " #because each value in the set of values should have the same possibility of happening "
   ]
  },
  {
   "cell_type": "code",
   "execution_count": null,
   "metadata": {},
   "outputs": [],
   "source": []
  }
 ],
 "metadata": {
  "kernelspec": {
   "display_name": "Python 3 (ipykernel)",
   "language": "python",
   "name": "python3"
  },
  "language_info": {
   "codemirror_mode": {
    "name": "ipython",
    "version": 3
   },
   "file_extension": ".py",
   "mimetype": "text/x-python",
   "name": "python",
   "nbconvert_exporter": "python",
   "pygments_lexer": "ipython3",
   "version": "3.9.7"
  }
 },
 "nbformat": 4,
 "nbformat_minor": 1
}
