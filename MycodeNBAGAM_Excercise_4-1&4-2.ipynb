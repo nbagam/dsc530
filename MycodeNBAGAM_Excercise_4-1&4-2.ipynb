{
 "cells": [
  {
   "cell_type": "markdown",
   "metadata": {},
   "source": [
    "# Chapter 4\n",
    "\n",
    "Examples and Exercises from Think Stats, 2nd Edition\n",
    "\n",
    "http://thinkstats2.com\n",
    "\n",
    "Copyright 2016 Allen B. Downey\n",
    "\n",
    "MIT License: https://opensource.org/licenses/MIT\n"
   ]
  },
  {
   "cell_type": "code",
   "execution_count": 1,
   "metadata": {},
   "outputs": [],
   "source": [
    "import numpy as np"
   ]
  },
  {
   "cell_type": "code",
   "execution_count": 2,
   "metadata": {},
   "outputs": [],
   "source": [
    "from os.path import basename, exists\n",
    "\n",
    "\n",
    "def download(url):\n",
    "    filename = basename(url)\n",
    "    if not exists(filename):\n",
    "        from urllib.request import urlretrieve\n",
    "\n",
    "        local, _ = urlretrieve(url, filename)\n",
    "        print(\"Downloaded \" + local)\n",
    "\n",
    "\n",
    "download(\"https://github.com/AllenDowney/ThinkStats2/raw/master/code/thinkstats2.py\")\n",
    "download(\"https://github.com/AllenDowney/ThinkStats2/raw/master/code/thinkplot.py\")\n",
    "download(\"https://github.com/AllenDowney/ThinkStats2/raw/master/code/nsfg.py\")\n",
    "download(\"https://github.com/AllenDowney/ThinkStats2/raw/master/code/first.py\")\n",
    "\n",
    "\n",
    "download(\"https://github.com/AllenDowney/ThinkStats2/raw/master/code/2002FemPreg.dct\")\n",
    "download(\n",
    "    \"https://github.com/AllenDowney/ThinkStats2/raw/master/code/2002FemPreg.dat.gz\"\n",
    ")"
   ]
  },
  {
   "cell_type": "code",
   "execution_count": 3,
   "metadata": {},
   "outputs": [],
   "source": [
    "import thinkstats2\n",
    "import thinkplot"
   ]
  },
  {
   "cell_type": "markdown",
   "metadata": {},
   "source": [
    "## Examples\n",
    "\n",
    "One more time, I'll load the data from the NSFG."
   ]
  },
  {
   "cell_type": "code",
   "execution_count": 4,
   "metadata": {},
   "outputs": [],
   "source": [
    "import first\n",
    "\n",
    "live, firsts, others = first.MakeFrames()"
   ]
  },
  {
   "cell_type": "markdown",
   "metadata": {},
   "source": [
    "And compute the distribution of birth weight for first babies and others."
   ]
  },
  {
   "cell_type": "code",
   "execution_count": 5,
   "metadata": {},
   "outputs": [
    {
     "name": "stdout",
     "output_type": "stream",
     "text": [
      "Firsts 4413 4363\n",
      "Others 4735 4675\n"
     ]
    }
   ],
   "source": [
    "first_wgt = firsts.totalwgt_lb\n",
    "first_wgt_dropna = first_wgt.dropna()\n",
    "print('Firsts', len(first_wgt), len(first_wgt_dropna))\n",
    " \n",
    "other_wgt = others.totalwgt_lb\n",
    "other_wgt_dropna = other_wgt.dropna()\n",
    "print('Others', len(other_wgt), len(other_wgt_dropna))\n",
    "\n",
    "first_pmf = thinkstats2.Pmf(first_wgt_dropna, label='first')\n",
    "other_pmf = thinkstats2.Pmf(other_wgt_dropna, label='other')"
   ]
  },
  {
   "cell_type": "markdown",
   "metadata": {},
   "source": [
    "We can plot the PMFs on the same scale, but it is hard to see if there is a difference."
   ]
  },
  {
   "cell_type": "code",
   "execution_count": 6,
   "metadata": {},
   "outputs": [
    {
     "data": {
      "image/png": "[encoded data removed]",
      "text/plain": [
       "<Figure size 432x288 with 1 Axes>"
      ]
     },
     "metadata": {
      "needs_background": "light"
     },
     "output_type": "display_data"
    }
   ],
   "source": [
    "width = 0.4 / 16\n",
    "\n",
    "# plot PMFs of birth weights for first babies and others\n",
    "thinkplot.PrePlot(2)\n",
    "thinkplot.Hist(first_pmf, align='right', width=width)\n",
    "thinkplot.Hist(other_pmf, align='left', width=width)\n",
    "thinkplot.Config(xlabel='Weight (pounds)', ylabel='PMF')"
   ]
  },
  {
   "cell_type": "markdown",
   "metadata": {},
   "source": [
    "`PercentileRank` computes the fraction of `scores` less than or equal to `your_score`."
   ]
  },
  {
   "cell_type": "code",
   "execution_count": 7,
   "metadata": {},
   "outputs": [],
   "source": [
    "def PercentileRank(scores, your_score):\n",
    "    count = 0\n",
    "    for score in scores:\n",
    "        if score <= your_score:\n",
    "            count += 1\n",
    "\n",
    "    percentile_rank = 100.0 * count / len(scores)\n",
    "    return percentile_rank"
   ]
  },
  {
   "cell_type": "markdown",
   "metadata": {},
   "source": [
    "If this is the list of scores."
   ]
  },
  {
   "cell_type": "code",
   "execution_count": 8,
   "metadata": {},
   "outputs": [],
   "source": [
    "t = [55, 66, 77, 88, 99]"
   ]
  },
  {
   "cell_type": "markdown",
   "metadata": {},
   "source": [
    "If you got the 88, your percentile rank is 80."
   ]
  },
  {
   "cell_type": "code",
   "execution_count": 9,
   "metadata": {},
   "outputs": [
    {
     "data": {
      "text/plain": [
       "80.0"
      ]
     },
     "execution_count": 9,
     "metadata": {},
     "output_type": "execute_result"
    }
   ],
   "source": [
    "PercentileRank(t, 88)"
   ]
  },
  {
   "cell_type": "markdown",
   "metadata": {},
   "source": [
    "`Percentile` takes a percentile rank and computes the corresponding percentile. "
   ]
  },
  {
   "cell_type": "code",
   "execution_count": 10,
   "metadata": {},
   "outputs": [],
   "source": [
    "def Percentile(scores, percentile_rank):\n",
    "    scores.sort()\n",
    "    for score in scores:\n",
    "        if PercentileRank(scores, score) >= percentile_rank:\n",
    "            return score"
   ]
  },
  {
   "cell_type": "markdown",
   "metadata": {},
   "source": [
    "The median is the 50th percentile, which is 77."
   ]
  },
  {
   "cell_type": "code",
   "execution_count": 11,
   "metadata": {},
   "outputs": [
    {
     "data": {
      "text/plain": [
       "77"
      ]
     },
     "execution_count": 11,
     "metadata": {},
     "output_type": "execute_result"
    }
   ],
   "source": [
    "Percentile(t, 50)"
   ]
  },
  {
   "cell_type": "markdown",
   "metadata": {},
   "source": [
    "Here's a more efficient way to compute percentiles."
   ]
  },
  {
   "cell_type": "code",
   "execution_count": 12,
   "metadata": {},
   "outputs": [],
   "source": [
    "def Percentile2(scores, percentile_rank):\n",
    "    scores.sort()\n",
    "    index = percentile_rank * (len(scores)-1) // 100\n",
    "    return scores[int(index)]"
   ]
  },
  {
   "cell_type": "markdown",
   "metadata": {},
   "source": [
    "Let's hope we get the same answer."
   ]
  },
  {
   "cell_type": "code",
   "execution_count": 13,
   "metadata": {},
   "outputs": [
    {
     "data": {
      "text/plain": [
       "77"
      ]
     },
     "execution_count": 13,
     "metadata": {},
     "output_type": "execute_result"
    }
   ],
   "source": [
    "Percentile2(t, 50)"
   ]
  },
  {
   "cell_type": "markdown",
   "metadata": {},
   "source": [
    "The Cumulative Distribution Function (CDF) is almost the same as `PercentileRank`.  The only difference is that the result is 0-1 instead of 0-100."
   ]
  },
  {
   "cell_type": "code",
   "execution_count": 14,
   "metadata": {},
   "outputs": [],
   "source": [
    "def EvalCdf(sample, x):\n",
    "    count = 0.0\n",
    "    for value in sample:\n",
    "        if value <= x:\n",
    "            count += 1\n",
    "\n",
    "    prob = count / len(sample)\n",
    "    return prob"
   ]
  },
  {
   "cell_type": "markdown",
   "metadata": {},
   "source": [
    "In this list"
   ]
  },
  {
   "cell_type": "code",
   "execution_count": 15,
   "metadata": {},
   "outputs": [],
   "source": [
    "t = [1, 2, 2, 3, 5]"
   ]
  },
  {
   "cell_type": "markdown",
   "metadata": {},
   "source": [
    "We can evaluate the CDF for various values:"
   ]
  },
  {
   "cell_type": "code",
   "execution_count": 16,
   "metadata": {},
   "outputs": [
    {
     "data": {
      "text/plain": [
       "(0.0, 0.2, 0.6, 0.8, 0.8, 1.0)"
      ]
     },
     "execution_count": 16,
     "metadata": {},
     "output_type": "execute_result"
    }
   ],
   "source": [
    "EvalCdf(t, 0), EvalCdf(t, 1), EvalCdf(t, 2), EvalCdf(t, 3), EvalCdf(t, 4), EvalCdf(t, 5)"
   ]
  },
  {
   "cell_type": "markdown",
   "metadata": {},
   "source": [
    "Here's an example using real data, the distribution of pregnancy length for live births."
   ]
  },
  {
   "cell_type": "code",
   "execution_count": 17,
   "metadata": {},
   "outputs": [
    {
     "data": {
      "image/png": "[encoded data removed]",
      "text/plain": [
       "<Figure size 432x288 with 1 Axes>"
      ]
     },
     "metadata": {
      "needs_background": "light"
     },
     "output_type": "display_data"
    }
   ],
   "source": [
    "cdf = thinkstats2.Cdf(live.prglngth, label='prglngth')\n",
    "thinkplot.Cdf(cdf)\n",
    "thinkplot.Config(xlabel='Pregnancy length (weeks)', ylabel='CDF', loc='upper left')"
   ]
  },
  {
   "cell_type": "markdown",
   "metadata": {},
   "source": [
    "`Cdf` provides `Prob`, which evaluates the CDF; that is, it computes the fraction of values less than or equal to the given value.  For example, 94% of pregnancy lengths are less than or equal to 41."
   ]
  },
  {
   "cell_type": "code",
   "execution_count": 18,
   "metadata": {},
   "outputs": [
    {
     "data": {
      "text/plain": [
       "0.9406427634455619"
      ]
     },
     "execution_count": 18,
     "metadata": {},
     "output_type": "execute_result"
    }
   ],
   "source": [
    "cdf.Prob(41)"
   ]
  },
  {
   "cell_type": "markdown",
   "metadata": {
    "collapsed": true
   },
   "source": [
    "`Value` evaluates the inverse CDF; given a fraction, it computes the corresponding value.  For example, the median is the value that corresponds to 0.5."
   ]
  },
  {
   "cell_type": "code",
   "execution_count": 19,
   "metadata": {},
   "outputs": [
    {
     "data": {
      "text/plain": [
       "39"
      ]
     },
     "execution_count": 19,
     "metadata": {},
     "output_type": "execute_result"
    }
   ],
   "source": [
    "cdf.Value(0.5)"
   ]
  },
  {
   "cell_type": "markdown",
   "metadata": {},
   "source": [
    "In general, CDFs are a good way to visualize distributions.  They are not as noisy as PMFs, and if you plot several CDFs on the same axes, any differences between them are apparent."
   ]
  },
  {
   "cell_type": "code",
   "execution_count": 20,
   "metadata": {},
   "outputs": [
    {
     "data": {
      "image/png": "[encoded data removed]",
      "text/plain": [
       "<Figure size 432x288 with 1 Axes>"
      ]
     },
     "metadata": {
      "needs_background": "light"
     },
     "output_type": "display_data"
    }
   ],
   "source": [
    "first_cdf = thinkstats2.Cdf(firsts.totalwgt_lb, label='first')\n",
    "other_cdf = thinkstats2.Cdf(others.totalwgt_lb, label='other')\n",
    "\n",
    "thinkplot.PrePlot(2)\n",
    "thinkplot.Cdfs([first_cdf, other_cdf])\n",
    "thinkplot.Config(xlabel='Weight (pounds)', ylabel='CDF')"
   ]
  },
  {
   "cell_type": "markdown",
   "metadata": {},
   "source": [
    "In this example, we can see that first babies are slightly, but consistently, lighter than others.\n",
    "\n",
    "We can use the CDF of birth weight to compute percentile-based statistics."
   ]
  },
  {
   "cell_type": "code",
   "execution_count": 21,
   "metadata": {},
   "outputs": [],
   "source": [
    "weights = live.totalwgt_lb\n",
    "live_cdf = thinkstats2.Cdf(weights, label='live')"
   ]
  },
  {
   "cell_type": "markdown",
   "metadata": {},
   "source": [
    "Again, the median is the 50th percentile."
   ]
  },
  {
   "cell_type": "code",
   "execution_count": 22,
   "metadata": {},
   "outputs": [
    {
     "data": {
      "text/plain": [
       "7.375"
      ]
     },
     "execution_count": 22,
     "metadata": {},
     "output_type": "execute_result"
    }
   ],
   "source": [
    "median = live_cdf.Percentile(50)\n",
    "median"
   ]
  },
  {
   "cell_type": "markdown",
   "metadata": {},
   "source": [
    "The interquartile range is the interval from the 25th to 75th percentile."
   ]
  },
  {
   "cell_type": "code",
   "execution_count": 23,
   "metadata": {},
   "outputs": [
    {
     "data": {
      "text/plain": [
       "(6.5, 8.125)"
      ]
     },
     "execution_count": 23,
     "metadata": {},
     "output_type": "execute_result"
    }
   ],
   "source": [
    "iqr = (live_cdf.Percentile(25), live_cdf.Percentile(75))\n",
    "iqr"
   ]
  },
  {
   "cell_type": "markdown",
   "metadata": {},
   "source": [
    "We can use the CDF to look up the percentile rank of a particular value.  For example, my second daughter was 10.2 pounds at birth, which is near the 99th percentile."
   ]
  },
  {
   "cell_type": "code",
   "execution_count": 24,
   "metadata": {},
   "outputs": [
    {
     "data": {
      "text/plain": [
       "98.82717415357381"
      ]
     },
     "execution_count": 24,
     "metadata": {},
     "output_type": "execute_result"
    }
   ],
   "source": [
    "live_cdf.PercentileRank(10.2)"
   ]
  },
  {
   "cell_type": "markdown",
   "metadata": {},
   "source": [
    "If we draw a random sample from the observed weights and map each weigh to its percentile rank."
   ]
  },
  {
   "cell_type": "code",
   "execution_count": 25,
   "metadata": {},
   "outputs": [],
   "source": [
    "sample = np.random.choice(weights, 100, replace=True)\n",
    "ranks = [live_cdf.PercentileRank(x) for x in sample]"
   ]
  },
  {
   "cell_type": "markdown",
   "metadata": {},
   "source": [
    "The resulting list of ranks should be approximately uniform from 0-1."
   ]
  },
  {
   "cell_type": "code",
   "execution_count": 26,
   "metadata": {},
   "outputs": [
    {
     "data": {
      "image/png": "[encoded data removed]",
      "text/plain": [
       "<Figure size 432x288 with 1 Axes>"
      ]
     },
     "metadata": {
      "needs_background": "light"
     },
     "output_type": "display_data"
    }
   ],
   "source": [
    "rank_cdf = thinkstats2.Cdf(ranks)\n",
    "thinkplot.Cdf(rank_cdf)\n",
    "thinkplot.Config(xlabel='Percentile rank', ylabel='CDF')"
   ]
  },
  {
   "cell_type": "markdown",
   "metadata": {},
   "source": [
    "That observation is the basis of `Cdf.Sample`, which generates a random sample from a Cdf.  Here's an example."
   ]
  },
  {
   "cell_type": "code",
   "execution_count": 27,
   "metadata": {},
   "outputs": [
    {
     "data": {
      "image/png": "[encoded data removed]",
      "text/plain": [
       "<Figure size 432x288 with 1 Axes>"
      ]
     },
     "metadata": {
      "needs_background": "light"
     },
     "output_type": "display_data"
    }
   ],
   "source": [
    "resample = live_cdf.Sample(1000)\n",
    "thinkplot.Cdf(live_cdf)\n",
    "thinkplot.Cdf(thinkstats2.Cdf(resample, label='resample'))\n",
    "thinkplot.Config(xlabel='Birth weight (pounds)', ylabel='CDF')"
   ]
  },
  {
   "cell_type": "markdown",
   "metadata": {},
   "source": [
    "This confirms that the random sample has the same distribution as the original data."
   ]
  },
  {
   "cell_type": "markdown",
   "metadata": {
    "collapsed": true
   },
   "source": [
    "## Exercises"
   ]
  },
  {
   "cell_type": "markdown",
   "metadata": {
    "collapsed": true
   },
   "source": [
    "**Exercise:** How much did you weigh at birth? If you don’t know, call your mother or someone else who knows. Using the NSFG data (all live births), compute the distribution of birth weights and use it to find your percentile rank. If you were a first baby, find your percentile rank in the distribution for first babies. Otherwise use the distribution for others. If you are in the 90th percentile or higher, call your mother back and apologize."
   ]
  },
  {
   "cell_type": "code",
   "execution_count": 54,
   "metadata": {},
   "outputs": [
    {
     "data": {
      "text/plain": [
       "66.10130644052258"
      ]
     },
     "execution_count": 54,
     "metadata": {},
     "output_type": "execute_result"
    }
   ],
   "source": [
    "# Solution\n",
    "first_cdf.PercentileRank(7.716)"
   ]
  },
  {
   "cell_type": "code",
   "execution_count": 55,
   "metadata": {},
   "outputs": [
    {
     "data": {
      "text/plain": [
       "26.6951871657754"
      ]
     },
     "execution_count": 55,
     "metadata": {},
     "output_type": "execute_result"
    }
   ],
   "source": [
    "# Solution\n",
    "\n",
    "other_cdf.PercentileRank(6.6)"
   ]
  },
  {
   "cell_type": "markdown",
   "metadata": {
    "collapsed": true
   },
   "source": [
    "**Exercise:** The numbers generated by `numpy.random.random` are supposed to be uniform between 0 and 1; that is, every value in the range should have the same probability.\n",
    "\n",
    "Generate 1000 numbers from `numpy.random.random` and plot their PMF.  What goes wrong?\n",
    "\n",
    "Now plot the CDF. Is the distribution uniform?"
   ]
  },
  {
   "cell_type": "code",
   "execution_count": 85,
   "metadata": {},
   "outputs": [],
   "source": [
    "# Solution\n",
    "\n",
    "t = np.random.random(1000)"
   ]
  },
  {
   "cell_type": "code",
   "execution_count": 89,
   "metadata": {},
   "outputs": [
    {
     "data": {
      "image/png": "[encoded data removed]",
      "text/plain": [
       "<Figure size 432x288 with 1 Axes>"
      ]
     },
     "metadata": {
      "needs_background": "light"
     },
     "output_type": "display_data"
    }
   ],
   "source": [
    "# Solution\n",
    "\n",
    "pmf = thinkstats2.Pmf(t)\n",
    "thinkplot.Pmf(pmf, linewidth=0.2)\n",
    "thinkplot.Config(xlabel='Random variate', ylabel='PMF')"
   ]
  },
  {
   "cell_type": "code",
   "execution_count": 87,
   "metadata": {},
   "outputs": [],
   "source": [
    "## It will generate continuous values(not descrete) and \n",
    "##  x-axis of values that range from 0 to 1 with a random increments. \n",
    "\n",
    "val,cnt = np.unique(t, return_counts=True)\n",
    "\n",
    "# Please see the following out put\n"
   ]
  },
  {
   "cell_type": "code",
   "execution_count": 88,
   "metadata": {},
   "outputs": [
    {
     "name": "stdout",
     "output_type": "stream",
     "text": [
      "[0.00119374 0.00235061 0.00284456 0.00340728 0.00452935 0.00798027\n",
      " 0.01278254 0.01434279 0.0152323  0.01537101 0.01575196 0.01719252\n",
      " 0.01778171 0.0185587  0.01943804 0.02030551 0.02149043 0.02438759\n",
      " 0.02567489 0.02606287 0.02642464 0.02673021 0.02677061 0.02695734\n",
      " 0.02725922 0.02791771 0.02793274 0.02793426 0.02842155 0.02846503\n",
      " 0.02847919 0.03096764 0.03114633 0.03366907 0.03425043 0.03448207\n",
      " 0.03790598 0.03820469 0.0386824  0.03925169 0.04246943 0.04679591\n",
      " 0.04819998 0.04821664 0.04855188 0.04892723 0.0511053  0.05145988\n",
      " 0.05162481 0.05219365 0.05272221 0.05300457 0.05544452 0.05615713\n",
      " 0.05862749 0.05869264 0.06046927 0.06120474 0.06166441 0.06173012\n",
      " 0.06240742 0.06246832 0.06314628 0.06345637 0.0649813  0.06508654\n",
      " 0.06560049 0.06799765 0.06823133 0.06872624 0.06884736 0.0693987\n",
      " 0.07243564 0.07341709 0.07412514 0.07448935 0.07645434 0.0772099\n",
      " 0.07970211 0.08001418 0.08105055 0.08248406 0.08400509 0.08444774\n",
      " 0.08473925 0.08634586 0.08836771 0.08897423 0.0894963  0.09006401\n",
      " 0.09100366 0.09115296 0.09366007 0.09483566 0.09492191 0.09495637\n",
      " 0.09511586 0.09715008 0.09787521 0.09886233 0.1006812  0.10305026\n",
      " 0.10339143 0.10362787 0.10474572 0.10565217 0.10665212 0.10851271\n",
      " 0.10865649 0.10906953 0.10969372 0.1111169  0.11114755 0.11442527\n",
      " 0.11608055 0.11657009 0.11765265 0.11840367 0.1200418  0.12068734\n",
      " 0.12140102 0.12159943 0.12181181 0.12416312 0.12838451 0.12857582\n",
      " 0.12891968 0.12894151 0.13180429 0.13203875 0.13354994 0.1340007\n",
      " 0.13546787 0.13741305 0.13783901 0.13894232 0.13983257 0.14010086\n",
      " 0.14027955 0.14126477 0.14171156 0.14209344 0.14488015 0.14592513\n",
      " 0.14676873 0.14862646 0.15004878 0.15005969 0.15120504 0.15186529\n",
      " 0.15294626 0.15308917 0.15391699 0.15773016 0.15847882 0.15977587\n",
      " 0.1614613  0.16312665 0.16315458 0.16354812 0.16493025 0.16851013\n",
      " 0.1693303  0.17171002 0.17277444 0.17371763 0.1774549  0.17763803\n",
      " 0.17852101 0.17965234 0.17990957 0.1804439  0.18065422 0.18252574\n",
      " 0.18338691 0.18586362 0.18666662 0.19189328 0.19222688 0.19386813\n",
      " 0.19564369 0.19680871 0.196895   0.1976605  0.19918439 0.19936815\n",
      " 0.20111111 0.20165584 0.20186204 0.20195479 0.20328394 0.20378386\n",
      " 0.20458342 0.20514126 0.20635258 0.20821175 0.20884151 0.20915303\n",
      " 0.20926593 0.20957931 0.21033485 0.21154431 0.21167464 0.21180553\n",
      " 0.21185679 0.21431259 0.2150124  0.21665322 0.21684002 0.21739773\n",
      " 0.21793759 0.22094235 0.22139084 0.22228534 0.22243647 0.22833988\n",
      " 0.22946699 0.23227571 0.23269631 0.23300251 0.23330036 0.23552085\n",
      " 0.23694817 0.23863949 0.24122309 0.2446976  0.24472961 0.24491962\n",
      " 0.24556324 0.24602025 0.24787966 0.24835374 0.25018494 0.25198052\n",
      " 0.25202232 0.25344551 0.25346561 0.25348986 0.25453639 0.25471257\n",
      " 0.25498278 0.25540012 0.25571558 0.25606568 0.25669829 0.25809731\n",
      " 0.25998698 0.26005481 0.26148726 0.26243358 0.2629303  0.26369282\n",
      " 0.26419729 0.26496435 0.26661211 0.26762707 0.26779271 0.26811923\n",
      " 0.26950229 0.27065948 0.27102193 0.27138589 0.27373072 0.27383874\n",
      " 0.2757595  0.2769122  0.27716031 0.27785482 0.27912586 0.28026374\n",
      " 0.28087023 0.28212391 0.28447268 0.28536956 0.28583236 0.28637573\n",
      " 0.28736528 0.28944536 0.2895406  0.29002719 0.29037935 0.29163632\n",
      " 0.2919473  0.29485334 0.29509346 0.29557482 0.29567625 0.29573006\n",
      " 0.29594544 0.29598002 0.29622333 0.29880894 0.29909639 0.29963812\n",
      " 0.30213518 0.30234085 0.30262187 0.30311184 0.30315987 0.30391541\n",
      " 0.30878394 0.30888062 0.30944869 0.30982667 0.31169994 0.3121658\n",
      " 0.3123813  0.31313656 0.31389774 0.31410968 0.31429296 0.31517403\n",
      " 0.31553074 0.31686365 0.31731986 0.31795623 0.3197872  0.31990457\n",
      " 0.32125589 0.32224166 0.32290845 0.32505055 0.32505967 0.32648133\n",
      " 0.32648428 0.32718138 0.32721597 0.33010517 0.33134101 0.33208477\n",
      " 0.33215604 0.33273805 0.33282355 0.33337667 0.3336783  0.33446742\n",
      " 0.3353983  0.33582749 0.3387378  0.34022632 0.34169736 0.34245383\n",
      " 0.34302153 0.3438659  0.34420437 0.34448215 0.34511996 0.34707515\n",
      " 0.34873639 0.34903625 0.34908953 0.34945563 0.34973567 0.34991458\n",
      " 0.34992712 0.34997598 0.35059606 0.35089931 0.3510254  0.35174367\n",
      " 0.3519794  0.35281813 0.35338387 0.35723457 0.35934716 0.35979014\n",
      " 0.35994652 0.3603207  0.36126488 0.36330392 0.36360277 0.36572682\n",
      " 0.36616764 0.36832748 0.36917642 0.37031078 0.37074998 0.37144601\n",
      " 0.37150748 0.37215065 0.37355461 0.37438502 0.37439942 0.37529292\n",
      " 0.37891863 0.37940864 0.37997284 0.38043222 0.38296995 0.38309244\n",
      " 0.3841154  0.38541773 0.38602907 0.38607769 0.38623823 0.38677212\n",
      " 0.38713159 0.38728082 0.38741361 0.38798336 0.38854997 0.38921889\n",
      " 0.39253157 0.39442888 0.39724234 0.39912051 0.39948731 0.40170426\n",
      " 0.40277216 0.40346432 0.40567028 0.40627314 0.40653627 0.4069909\n",
      " 0.40745565 0.4080938  0.40817802 0.4086094  0.41035557 0.41038048\n",
      " 0.41072672 0.41213997 0.41278067 0.41283172 0.41287786 0.41535365\n",
      " 0.41559356 0.41652917 0.41742425 0.41752486 0.41781694 0.41803493\n",
      " 0.41963433 0.42002206 0.42011758 0.42028553 0.4209349  0.42095202\n",
      " 0.42099076 0.42274068 0.42321502 0.42423874 0.42514314 0.42539521\n",
      " 0.42760033 0.42831121 0.4295269  0.4297325  0.43097459 0.43159957\n",
      " 0.43265047 0.43302791 0.43369483 0.43656306 0.43667802 0.43670121\n",
      " 0.43692493 0.43768841 0.44006648 0.44105416 0.44127227 0.44425888\n",
      " 0.44429041 0.44730828 0.44747241 0.44747693 0.44806322 0.44825061\n",
      " 0.44846251 0.44883143 0.45000113 0.45056702 0.45132007 0.45132898\n",
      " 0.45490479 0.45691315 0.45713283 0.45783322 0.45842136 0.45884537\n",
      " 0.45926066 0.46100156 0.46265212 0.46287199 0.46439156 0.46532035\n",
      " 0.4658435  0.46607734 0.46700629 0.46774883 0.46884578 0.47041298\n",
      " 0.47105354 0.47303676 0.47328533 0.47367828 0.47417926 0.47542686\n",
      " 0.47566303 0.47794563 0.47928626 0.4804998  0.48102084 0.48259713\n",
      " 0.48369889 0.48408462 0.48425787 0.48453745 0.48581181 0.48595474\n",
      " 0.48717971 0.4889274  0.48907571 0.48983231 0.49091736 0.49172454\n",
      " 0.49262528 0.49353352 0.49450688 0.4945151  0.4964611  0.49678139\n",
      " 0.49731698 0.49739413 0.49753984 0.50151627 0.50327416 0.50343272\n",
      " 0.50354021 0.5052586  0.50875905 0.50982696 0.51104945 0.51184359\n",
      " 0.51796962 0.51912415 0.5200574  0.52033821 0.52064945 0.52172491\n",
      " 0.52270201 0.52321197 0.52340362 0.52536541 0.52600274 0.526406\n",
      " 0.52815504 0.5302093  0.53107465 0.53124492 0.53292352 0.53309581\n",
      " 0.5349319  0.53715745 0.53784345 0.53915862 0.53964507 0.54080448\n",
      " 0.54093272 0.54105211 0.54119649 0.54310116 0.54678639 0.54902437\n",
      " 0.5501901  0.55060871 0.55069472 0.55172143 0.55291056 0.5533496\n",
      " 0.55347846 0.5540381  0.5552295  0.55536979 0.55786664 0.55853037\n",
      " 0.55974651 0.56002219 0.56018777 0.56278748 0.56382908 0.56667639\n",
      " 0.56766118 0.56791444 0.56820532 0.57326746 0.57521054 0.57895209\n",
      " 0.57914515 0.58001863 0.58014757 0.58050246 0.5816884  0.582056\n",
      " 0.58216466 0.58303296 0.58410882 0.58439957 0.58467021 0.58490254\n",
      " 0.58502755 0.58633584 0.58648709 0.5868437  0.58771915 0.58775444\n",
      " 0.59091782 0.59181023 0.59194491 0.59229394 0.59289858 0.5930195\n",
      " 0.59377439 0.59480022 0.59678117 0.59852513 0.59923162 0.59999208\n",
      " 0.60022805 0.6004338  0.60050846 0.6009112  0.60217398 0.60223143\n",
      " 0.60246633 0.60320528 0.60558357 0.60572916 0.60582629 0.60583952\n",
      " 0.60601765 0.60606922 0.60639791 0.60847101 0.61103327 0.61109082\n",
      " 0.61528828 0.61563878 0.61668513 0.6179569  0.62038073 0.62136166\n",
      " 0.62203794 0.62244109 0.62245666 0.62372771 0.62528839 0.62701494\n",
      " 0.62703127 0.62712284 0.62759328 0.62795979 0.62850076 0.62952949\n",
      " 0.63187125 0.63192899 0.63289718 0.63350861 0.63571569 0.63628791\n",
      " 0.63674287 0.63690343 0.63778375 0.6388383  0.63905253 0.64005668\n",
      " 0.64093644 0.64190431 0.64200703 0.64360295 0.64540804 0.64758047\n",
      " 0.64840107 0.6499378  0.65000182 0.65014937 0.65151346 0.65193993\n",
      " 0.65211555 0.65263318 0.65548382 0.6563692  0.65642792 0.65744551\n",
      " 0.6609931  0.66188818 0.66708473 0.66774804 0.66790832 0.66892635\n",
      " 0.67081305 0.6718098  0.67254432 0.67503721 0.67517324 0.67523694\n",
      " 0.67565627 0.6782147  0.67833126 0.67944522 0.6806075  0.68270864\n",
      " 0.68347944 0.68383661 0.68957955 0.68981859 0.69508513 0.69529974\n",
      " 0.69534578 0.6954848  0.69755101 0.69822159 0.69931902 0.70048506\n",
      " 0.70101773 0.70117168 0.70308566 0.70439096 0.70486701 0.7050011\n",
      " 0.70500766 0.70511139 0.70559537 0.70601023 0.70766988 0.70791926\n",
      " 0.70841913 0.70889747 0.7099732  0.71146008 0.71162316 0.71284105\n",
      " 0.71323144 0.71347271 0.71408505 0.71464521 0.71487336 0.71646819\n",
      " 0.71682536 0.71950444 0.71951827 0.72041636 0.72065601 0.72067304\n",
      " 0.72189944 0.72301866 0.72386337 0.72404524 0.72452085 0.72486224\n",
      " 0.72572713 0.726591   0.7270699  0.72728989 0.72764904 0.72823198\n",
      " 0.72887075 0.72981921 0.73045945 0.73182437 0.73192231 0.73249025\n",
      " 0.73318361 0.73535251 0.73589882 0.73763736 0.73779281 0.73786093\n",
      " 0.73904891 0.74063119 0.74173187 0.74299155 0.74493562 0.7452788\n",
      " 0.74685476 0.74743734 0.74755746 0.74759593 0.74783033 0.74957839\n",
      " 0.75070936 0.75151642 0.7518617  0.75218003 0.75324186 0.75374221\n",
      " 0.756287   0.75629118 0.75646754 0.76043492 0.76288235 0.76356973\n",
      " 0.76438559 0.76445826 0.76654539 0.76753382 0.76853402 0.76883535\n",
      " 0.76895068 0.76960378 0.76965589 0.77042247 0.77145135 0.77346717\n",
      " 0.7736501  0.77413601 0.77780482 0.77836666 0.77908012 0.78035524\n",
      " 0.78061179 0.78086271 0.78186391 0.78244548 0.78378405 0.78465804\n",
      " 0.78485634 0.78664696 0.78844608 0.79022014 0.79024285 0.79113067\n",
      " 0.79179166 0.79474258 0.79477199 0.79478731 0.79602523 0.79614968\n",
      " 0.79662603 0.79749856 0.79756458 0.80547701 0.80839138 0.80859734\n",
      " 0.81035001 0.81070622 0.81154626 0.81241082 0.81336411 0.81343457\n",
      " 0.81446951 0.81784176 0.81818885 0.81948002 0.81958705 0.81993426\n",
      " 0.82081951 0.82328196 0.82332356 0.8234934  0.82691682 0.82695471\n",
      " 0.82770922 0.82961273 0.82974788 0.83489565 0.83613317 0.83674016\n",
      " 0.83699545 0.83703741 0.83727239 0.83816656 0.83819486 0.83831048\n",
      " 0.83873398 0.83906424 0.84244396 0.84256152 0.84430814 0.84598096\n",
      " 0.84645449 0.84711545 0.84712288 0.8477506  0.8481467  0.8483672\n",
      " 0.85262231 0.85366224 0.85368764 0.85768731 0.85782035 0.8579765\n",
      " 0.86253718 0.86318212 0.86559691 0.8662172  0.86798291 0.86861779\n",
      " 0.86927615 0.86932217 0.8703048  0.87052706 0.87193254 0.87273599\n",
      " 0.87398719 0.87535921 0.87621328 0.87649882 0.87686636 0.88000414\n",
      " 0.88261856 0.88287864 0.88570944 0.88998943 0.89022168 0.89193568\n",
      " 0.89215589 0.89266148 0.89270663 0.89296788 0.89320848 0.89489948\n",
      " 0.89589372 0.89732458 0.90022804 0.90156626 0.90306506 0.90434663\n",
      " 0.90533777 0.90640916 0.90827866 0.9100105  0.91188495 0.91221161\n",
      " 0.91659557 0.91675814 0.92201322 0.92464712 0.92520521 0.92555712\n",
      " 0.92572634 0.9290799  0.93022631 0.93459965 0.93535438 0.93820576\n",
      " 0.93894739 0.94000213 0.94027834 0.94063917 0.9406783  0.94070333\n",
      " 0.94140707 0.9451112  0.9455779  0.94569613 0.94736355 0.94920073\n",
      " 0.95113278 0.95419608 0.95543453 0.95695021 0.95807981 0.95899537\n",
      " 0.95906976 0.95953525 0.96046108 0.96119162 0.96191005 0.96346396\n",
      " 0.96361498 0.9636981  0.96420741 0.96533564 0.96650923 0.96662506\n",
      " 0.96680146 0.96807478 0.96838998 0.96913856 0.97374823 0.97419394\n",
      " 0.97490406 0.97578381 0.97645028 0.97673685 0.97952906 0.98068288\n",
      " 0.98122068 0.9827936  0.98336846 0.98340336 0.98383369 0.98645752\n",
      " 0.98650749 0.98679604 0.98739592 0.98789421 0.98824652 0.99110194\n",
      " 0.99119594 0.99166134 0.99179776 0.99219772 0.99298942 0.9941564\n",
      " 0.99523733 0.99819718 0.99876023 0.99983768]\n"
     ]
    }
   ],
   "source": [
    "print(val)"
   ]
  },
  {
   "cell_type": "code",
   "execution_count": 84,
   "metadata": {},
   "outputs": [
    {
     "name": "stdout",
     "output_type": "stream",
     "text": [
      "[1 1 1 1 1 1 1 1 1 1 1 1 1 1 1 1 1 1 1 1 1 1 1 1 1 1 1 1 1 1 1 1 1 1 1 1 1\n",
      " 1 1 1 1 1 1 1 1 1 1 1 1 1 1 1 1 1 1 1 1 1 1 1 1 1 1 1 1 1 1 1 1 1 1 1 1 1\n",
      " 1 1 1 1 1 1 1 1 1 1 1 1 1 1 1 1 1 1 1 1 1 1 1 1 1 1 1 1 1 1 1 1 1 1 1 1 1\n",
      " 1 1 1 1 1 1 1 1 1 1 1 1 1 1 1 1 1 1 1 1 1 1 1 1 1 1 1 1 1 1 1 1 1 1 1 1 1\n",
      " 1 1 1 1 1 1 1 1 1 1 1 1 1 1 1 1 1 1 1 1 1 1 1 1 1 1 1 1 1 1 1 1 1 1 1 1 1\n",
      " 1 1 1 1 1 1 1 1 1 1 1 1 1 1 1 1 1 1 1 1 1 1 1 1 1 1 1 1 1 1 1 1 1 1 1 1 1\n",
      " 1 1 1 1 1 1 1 1 1 1 1 1 1 1 1 1 1 1 1 1 1 1 1 1 1 1 1 1 1 1 1 1 1 1 1 1 1\n",
      " 1 1 1 1 1 1 1 1 1 1 1 1 1 1 1 1 1 1 1 1 1 1 1 1 1 1 1 1 1 1 1 1 1 1 1 1 1\n",
      " 1 1 1 1 1 1 1 1 1 1 1 1 1 1 1 1 1 1 1 1 1 1 1 1 1 1 1 1 1 1 1 1 1 1 1 1 1\n",
      " 1 1 1 1 1 1 1 1 1 1 1 1 1 1 1 1 1 1 1 1 1 1 1 1 1 1 1 1 1 1 1 1 1 1 1 1 1\n",
      " 1 1 1 1 1 1 1 1 1 1 1 1 1 1 1 1 1 1 1 1 1 1 1 1 1 1 1 1 1 1 1 1 1 1 1 1 1\n",
      " 1 1 1 1 1 1 1 1 1 1 1 1 1 1 1 1 1 1 1 1 1 1 1 1 1 1 1 1 1 1 1 1 1 1 1 1 1\n",
      " 1 1 1 1 1 1 1 1 1 1 1 1 1 1 1 1 1 1 1 1 1 1 1 1 1 1 1 1 1 1 1 1 1 1 1 1 1\n",
      " 1 1 1 1 1 1 1 1 1 1 1 1 1 1 1 1 1 1 1 1 1 1 1 1 1 1 1 1 1 1 1 1 1 1 1 1 1\n",
      " 1 1 1 1 1 1 1 1 1 1 1 1 1 1 1 1 1 1 1 1 1 1 1 1 1 1 1 1 1 1 1 1 1 1 1 1 1\n",
      " 1 1 1 1 1 1 1 1 1 1 1 1 1 1 1 1 1 1 1 1 1 1 1 1 1 1 1 1 1 1 1 1 1 1 1 1 1\n",
      " 1 1 1 1 1 1 1 1 1 1 1 1 1 1 1 1 1 1 1 1 1 1 1 1 1 1 1 1 1 1 1 1 1 1 1 1 1\n",
      " 1 1 1 1 1 1 1 1 1 1 1 1 1 1 1 1 1 1 1 1 1 1 1 1 1 1 1 1 1 1 1 1 1 1 1 1 1\n",
      " 1 1 1 1 1 1 1 1 1 1 1 1 1 1 1 1 1 1 1 1 1 1 1 1 1 1 1 1 1 1 1 1 1 1 1 1 1\n",
      " 1 1 1 1 1 1 1 1 1 1 1 1 1 1 1 1 1 1 1 1 1 1 1 1 1 1 1 1 1 1 1 1 1 1 1 1 1\n",
      " 1 1 1 1 1 1 1 1 1 1 1 1 1 1 1 1 1 1 1 1 1 1 1 1 1 1 1 1 1 1 1 1 1 1 1 1 1\n",
      " 1 1 1 1 1 1 1 1 1 1 1 1 1 1 1 1 1 1 1 1 1 1 1 1 1 1 1 1 1 1 1 1 1 1 1 1 1\n",
      " 1 1 1 1 1 1 1 1 1 1 1 1 1 1 1 1 1 1 1 1 1 1 1 1 1 1 1 1 1 1 1 1 1 1 1 1 1\n",
      " 1 1 1 1 1 1 1 1 1 1 1 1 1 1 1 1 1 1 1 1 1 1 1 1 1 1 1 1 1 1 1 1 1 1 1 1 1\n",
      " 1 1 1 1 1 1 1 1 1 1 1 1 1 1 1 1 1 1 1 1 1 1 1 1 1 1 1 1 1 1 1 1 1 1 1 1 1\n",
      " 1 1 1 1 1 1 1 1 1 1 1 1 1 1 1 1 1 1 1 1 1 1 1 1 1 1 1 1 1 1 1 1 1 1 1 1 1\n",
      " 1 1 1 1 1 1 1 1 1 1 1 1 1 1 1 1 1 1 1 1 1 1 1 1 1 1 1 1 1 1 1 1 1 1 1 1 1\n",
      " 1]\n"
     ]
    }
   ],
   "source": [
    "print(cnt)"
   ]
  },
  {
   "cell_type": "code",
   "execution_count": 76,
   "metadata": {},
   "outputs": [
    {
     "data": {
      "image/png": "[encoded data removed]",
      "text/plain": [
       "<Figure size 432x288 with 1 Axes>"
      ]
     },
     "metadata": {
      "needs_background": "light"
     },
     "output_type": "display_data"
    }
   ],
   "source": [
    "# Solution\n",
    "\n",
    "cdf = thinkstats2.Cdf(t)\n",
    "thinkplot.Cdf(cdf)\n",
    "thinkplot.Config(xlabel='Random variate', ylabel='CDF')"
   ]
  },
  {
   "cell_type": "code",
   "execution_count": 67,
   "metadata": {},
   "outputs": [],
   "source": [
    "##The above CDF (Cumulative Distribution Function) plot is not a uniform distribution,\n",
    " #because each value in the set of values should have the same possibility of happening "
   ]
  },
  {
   "cell_type": "code",
   "execution_count": null,
   "metadata": {},
   "outputs": [],
   "source": []
  }
 ],
 "metadata": {
  "kernelspec": {
   "display_name": "Python 3 (ipykernel)",
   "language": "python",
   "name": "python3"
  },
  "language_info": {
   "codemirror_mode": {
    "name": "ipython",
    "version": 3
   },
   "file_extension": ".py",
   "mimetype": "text/x-python",
   "name": "python",
   "nbconvert_exporter": "python",
   "pygments_lexer": "ipython3",
   "version": "3.9.7"
  }
 },
 "nbformat": 4,
 "nbformat_minor": 1
}
