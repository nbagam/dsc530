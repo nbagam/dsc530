{
 "cells": [
  {
   "cell_type": "code",
   "execution_count": 1,
   "id": "83fae6d2",
   "metadata": {},
   "outputs": [
    {
     "name": "stdout",
     "output_type": "stream",
     "text": [
      "Hello World!\n",
      "Addition:2+2 =  4\n",
      "Subtraction: 10-5 =  5\n",
      "Multiply : 5*5 =  25\n",
      "Divide 10/2 =  5.0\n",
      "Concatenate Strings Naveen and Bagam :  NaveenBagam\n",
      "List item:  ['Naveen', 'Bagam', 2022, '$8000']\n",
      "['Naveen', 'Bagam', 2022, '$8000', 'DSC530']\n",
      "(300, 400, 600, 700, 800)\n"
     ]
    }
   ],
   "source": [
    "# Display the text “Hello World! I wonder why that is always the default coding text to start with”\n",
    "print(\"Hello World!\")\n",
    "\n",
    "# Add two numbers together\n",
    "print(\"Addition:2+2 = \", 2 + 2)\n",
    "\n",
    "# Subtract a number from another number\n",
    "print(\"Subtraction: 10-5 = \", 10 - 5)\n",
    "\n",
    "# Multiply two numbers\n",
    "print(\"Multiply : 5*5 = \", 5 * 5)\n",
    "\n",
    "# Divide between two numbers\n",
    "print(\"Divide 10/2 = \", 10 / 2)\n",
    "\n",
    "# Concatenate two strings together (any words)\n",
    "print(\"Concatenate Strings Naveen and Bagam : \", \"Naveen\" + \"Bagam\")\n",
    "\n",
    "# Create a list of 4 items (can be strings, numbers, both)\n",
    "my_list = [\"Naveen\", \"Bagam\", 2022, '$8000']\n",
    "print(\"List item: \", my_list)\n",
    "\n",
    "# Append an item to your list (again, can be a string, number)\n",
    "my_list.append(\"DSC530\")\n",
    "print(my_list)\n",
    "\n",
    "# Create a tuple with 4 items (can be strings, numbers, both)\n",
    "my_tuple = (300,400,600,700,800)\n",
    "print(my_tuple)\n"
   ]
  },
  {
   "cell_type": "code",
   "execution_count": null,
   "id": "231dd65b",
   "metadata": {},
   "outputs": [],
   "source": []
  }
 ],
 "metadata": {
  "kernelspec": {
   "display_name": "Python 3 (ipykernel)",
   "language": "python",
   "name": "python3"
  },
  "language_info": {
   "codemirror_mode": {
    "name": "ipython",
    "version": 3
   },
   "file_extension": ".py",
   "mimetype": "text/x-python",
   "name": "python",
   "nbconvert_exporter": "python",
   "pygments_lexer": "ipython3",
   "version": "3.9.7"
  }
 },
 "nbformat": 4,
 "nbformat_minor": 5
}
