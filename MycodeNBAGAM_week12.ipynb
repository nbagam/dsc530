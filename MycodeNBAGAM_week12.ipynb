{
 "cells": [
  {
   "cell_type": "code",
   "execution_count": 1,
   "id": "c6a07719",
   "metadata": {},
   "outputs": [],
   "source": [
    "# importing section\n",
    "import pandas as pd \n",
    "import numpy as np\n",
    "import matplotlib.pyplot as plt\n",
    "import seaborn as sns\n",
    "import scipy as sp\n",
    "import thinkstats2\n",
    "import thinkplot"
   ]
  },
  {
   "cell_type": "code",
   "execution_count": 2,
   "id": "d426652b",
   "metadata": {},
   "outputs": [
    {
     "data": {
      "text/plain": [
       "(205, 26)"
      ]
     },
     "execution_count": 2,
     "metadata": {},
     "output_type": "execute_result"
    }
   ],
   "source": [
    "cols = ['symboling', 'normalized-losses', 'make', 'fuel-type', 'aspiration', 'num-of-doors', 'body-style', 'drive-wheels', 'engine-location', 'wheel-base', 'length', 'width', 'height', 'curb-weight', 'engine-type', 'num-of-cylinders', 'engine-size', 'fuel-system', 'bore', 'stroke', 'compression-ratio', 'horsepower', 'peak-rpm', 'city-mpg', 'highway-mpg', 'price']\n",
    "data = pd.read_csv(\"C:/Users/nbaga/dsc530/Car_data.csv\", names = cols)\n",
    "data.shape"
   ]
  },
  {
   "cell_type": "code",
   "execution_count": 3,
   "id": "3643e7fd",
   "metadata": {
    "scrolled": true
   },
   "outputs": [
    {
     "data": {
      "text/html": [
       "<div>\n",
       "<style scoped>\n",
       "    .dataframe tbody tr th:only-of-type {\n",
       "        vertical-align: middle;\n",
       "    }\n",
       "\n",
       "    .dataframe tbody tr th {\n",
       "        vertical-align: top;\n",
       "    }\n",
       "\n",
       "    .dataframe thead th {\n",
       "        text-align: right;\n",
       "    }\n",
       "</style>\n",
       "<table border=\"1\" class=\"dataframe\">\n",
       "  <thead>\n",
       "    <tr style=\"text-align: right;\">\n",
       "      <th></th>\n",
       "      <th>symboling</th>\n",
       "      <th>normalized-losses</th>\n",
       "      <th>make</th>\n",
       "      <th>fuel-type</th>\n",
       "      <th>aspiration</th>\n",
       "      <th>num-of-doors</th>\n",
       "      <th>body-style</th>\n",
       "      <th>drive-wheels</th>\n",
       "      <th>engine-location</th>\n",
       "      <th>wheel-base</th>\n",
       "      <th>...</th>\n",
       "      <th>engine-size</th>\n",
       "      <th>fuel-system</th>\n",
       "      <th>bore</th>\n",
       "      <th>stroke</th>\n",
       "      <th>compression-ratio</th>\n",
       "      <th>horsepower</th>\n",
       "      <th>peak-rpm</th>\n",
       "      <th>city-mpg</th>\n",
       "      <th>highway-mpg</th>\n",
       "      <th>price</th>\n",
       "    </tr>\n",
       "  </thead>\n",
       "  <tbody>\n",
       "    <tr>\n",
       "      <th>0</th>\n",
       "      <td>3</td>\n",
       "      <td>?</td>\n",
       "      <td>alfa-romero</td>\n",
       "      <td>gas</td>\n",
       "      <td>std</td>\n",
       "      <td>two</td>\n",
       "      <td>convertible</td>\n",
       "      <td>rwd</td>\n",
       "      <td>front</td>\n",
       "      <td>88.6</td>\n",
       "      <td>...</td>\n",
       "      <td>130</td>\n",
       "      <td>mpfi</td>\n",
       "      <td>3.47</td>\n",
       "      <td>2.68</td>\n",
       "      <td>9.0</td>\n",
       "      <td>111</td>\n",
       "      <td>5000</td>\n",
       "      <td>21</td>\n",
       "      <td>27</td>\n",
       "      <td>13495</td>\n",
       "    </tr>\n",
       "    <tr>\n",
       "      <th>1</th>\n",
       "      <td>3</td>\n",
       "      <td>?</td>\n",
       "      <td>alfa-romero</td>\n",
       "      <td>gas</td>\n",
       "      <td>std</td>\n",
       "      <td>two</td>\n",
       "      <td>convertible</td>\n",
       "      <td>rwd</td>\n",
       "      <td>front</td>\n",
       "      <td>88.6</td>\n",
       "      <td>...</td>\n",
       "      <td>130</td>\n",
       "      <td>mpfi</td>\n",
       "      <td>3.47</td>\n",
       "      <td>2.68</td>\n",
       "      <td>9.0</td>\n",
       "      <td>111</td>\n",
       "      <td>5000</td>\n",
       "      <td>21</td>\n",
       "      <td>27</td>\n",
       "      <td>16500</td>\n",
       "    </tr>\n",
       "    <tr>\n",
       "      <th>2</th>\n",
       "      <td>1</td>\n",
       "      <td>?</td>\n",
       "      <td>alfa-romero</td>\n",
       "      <td>gas</td>\n",
       "      <td>std</td>\n",
       "      <td>two</td>\n",
       "      <td>hatchback</td>\n",
       "      <td>rwd</td>\n",
       "      <td>front</td>\n",
       "      <td>94.5</td>\n",
       "      <td>...</td>\n",
       "      <td>152</td>\n",
       "      <td>mpfi</td>\n",
       "      <td>2.68</td>\n",
       "      <td>3.47</td>\n",
       "      <td>9.0</td>\n",
       "      <td>154</td>\n",
       "      <td>5000</td>\n",
       "      <td>19</td>\n",
       "      <td>26</td>\n",
       "      <td>16500</td>\n",
       "    </tr>\n",
       "    <tr>\n",
       "      <th>3</th>\n",
       "      <td>2</td>\n",
       "      <td>164</td>\n",
       "      <td>audi</td>\n",
       "      <td>gas</td>\n",
       "      <td>std</td>\n",
       "      <td>four</td>\n",
       "      <td>sedan</td>\n",
       "      <td>fwd</td>\n",
       "      <td>front</td>\n",
       "      <td>99.8</td>\n",
       "      <td>...</td>\n",
       "      <td>109</td>\n",
       "      <td>mpfi</td>\n",
       "      <td>3.19</td>\n",
       "      <td>3.4</td>\n",
       "      <td>10.0</td>\n",
       "      <td>102</td>\n",
       "      <td>5500</td>\n",
       "      <td>24</td>\n",
       "      <td>30</td>\n",
       "      <td>13950</td>\n",
       "    </tr>\n",
       "    <tr>\n",
       "      <th>4</th>\n",
       "      <td>2</td>\n",
       "      <td>164</td>\n",
       "      <td>audi</td>\n",
       "      <td>gas</td>\n",
       "      <td>std</td>\n",
       "      <td>four</td>\n",
       "      <td>sedan</td>\n",
       "      <td>4wd</td>\n",
       "      <td>front</td>\n",
       "      <td>99.4</td>\n",
       "      <td>...</td>\n",
       "      <td>136</td>\n",
       "      <td>mpfi</td>\n",
       "      <td>3.19</td>\n",
       "      <td>3.4</td>\n",
       "      <td>8.0</td>\n",
       "      <td>115</td>\n",
       "      <td>5500</td>\n",
       "      <td>18</td>\n",
       "      <td>22</td>\n",
       "      <td>17450</td>\n",
       "    </tr>\n",
       "  </tbody>\n",
       "</table>\n",
       "<p>5 rows × 26 columns</p>\n",
       "</div>"
      ],
      "text/plain": [
       "   symboling normalized-losses         make fuel-type aspiration num-of-doors  \\\n",
       "0          3                 ?  alfa-romero       gas        std          two   \n",
       "1          3                 ?  alfa-romero       gas        std          two   \n",
       "2          1                 ?  alfa-romero       gas        std          two   \n",
       "3          2               164         audi       gas        std         four   \n",
       "4          2               164         audi       gas        std         four   \n",
       "\n",
       "    body-style drive-wheels engine-location  wheel-base  ...  engine-size  \\\n",
       "0  convertible          rwd           front        88.6  ...          130   \n",
       "1  convertible          rwd           front        88.6  ...          130   \n",
       "2    hatchback          rwd           front        94.5  ...          152   \n",
       "3        sedan          fwd           front        99.8  ...          109   \n",
       "4        sedan          4wd           front        99.4  ...          136   \n",
       "\n",
       "   fuel-system  bore  stroke compression-ratio horsepower  peak-rpm city-mpg  \\\n",
       "0         mpfi  3.47    2.68               9.0        111      5000       21   \n",
       "1         mpfi  3.47    2.68               9.0        111      5000       21   \n",
       "2         mpfi  2.68    3.47               9.0        154      5000       19   \n",
       "3         mpfi  3.19     3.4              10.0        102      5500       24   \n",
       "4         mpfi  3.19     3.4               8.0        115      5500       18   \n",
       "\n",
       "  highway-mpg  price  \n",
       "0          27  13495  \n",
       "1          27  16500  \n",
       "2          26  16500  \n",
       "3          30  13950  \n",
       "4          22  17450  \n",
       "\n",
       "[5 rows x 26 columns]"
      ]
     },
     "execution_count": 3,
     "metadata": {},
     "output_type": "execute_result"
    }
   ],
   "source": [
    "data.head()\n"
   ]
  },
  {
   "cell_type": "code",
   "execution_count": 4,
   "id": "102a0d35",
   "metadata": {},
   "outputs": [],
   "source": [
    "# Data wrangling\n",
    "data = data.replace('?', np.NaN)"
   ]
  },
  {
   "cell_type": "code",
   "execution_count": 5,
   "id": "96f6b466",
   "metadata": {},
   "outputs": [
    {
     "name": "stdout",
     "output_type": "stream",
     "text": [
      "The average is 122.0\n"
     ]
    }
   ],
   "source": [
    "avg_norm_loss = data['normalized-losses'].astype('float').mean()\n",
    "print(\"The average is {}\".format(avg_norm_loss))\n",
    "data[\"normalized-losses\"].replace(np.NaN, avg_norm_loss, inplace = True)"
   ]
  },
  {
   "cell_type": "code",
   "execution_count": 6,
   "id": "6ee23ab9",
   "metadata": {},
   "outputs": [],
   "source": [
    "#Bore Values\n",
    "avg_bore = data['bore'].astype('float').mean()\n",
    "data['bore'].replace(np.NaN, avg_bore, inplace = True)\n",
    "\n",
    "#Stroke Values\n",
    "avg_stroke = data['stroke'].astype('float').mean(axis = 0)\n",
    "data['stroke'].replace(np.nan, avg_stroke, inplace = True)\n",
    "\n",
    "#horsepower Values \n",
    "avg_horsepower = data['horsepower'].astype('float').mean(axis=0)\n",
    "data['horsepower'].replace(np.nan, avg_horsepower, inplace=True)\n",
    "\n",
    "#Peak RPM \n",
    "avg_peakrpm= data['peak-rpm'].astype('float').mean(axis=0)\n",
    "data['peak-rpm'].replace(np.nan, avg_peakrpm, inplace=True)\n",
    "\n",
    "#Peak RPM \n",
    "avg_peakrpm= data['price'].astype('float').mean(axis=0)\n",
    "data['price'].replace(np.nan, avg_peakrpm, inplace=True)"
   ]
  },
  {
   "cell_type": "code",
   "execution_count": 7,
   "id": "f67e2a6c",
   "metadata": {},
   "outputs": [
    {
     "data": {
      "text/plain": [
       "symboling            False\n",
       "normalized-losses    False\n",
       "make                 False\n",
       "fuel-type            False\n",
       "aspiration           False\n",
       "num-of-doors          True\n",
       "body-style           False\n",
       "drive-wheels         False\n",
       "engine-location      False\n",
       "wheel-base           False\n",
       "length               False\n",
       "width                False\n",
       "height               False\n",
       "curb-weight          False\n",
       "engine-type          False\n",
       "num-of-cylinders     False\n",
       "engine-size          False\n",
       "fuel-system          False\n",
       "bore                 False\n",
       "stroke               False\n",
       "compression-ratio    False\n",
       "horsepower           False\n",
       "peak-rpm             False\n",
       "city-mpg             False\n",
       "highway-mpg          False\n",
       "price                False\n",
       "dtype: bool"
      ]
     },
     "execution_count": 7,
     "metadata": {},
     "output_type": "execute_result"
    }
   ],
   "source": [
    "# Finding the missing values\n",
    "data.isna().any()"
   ]
  },
  {
   "cell_type": "code",
   "execution_count": 8,
   "id": "14c2baa0",
   "metadata": {},
   "outputs": [
    {
     "data": {
      "text/plain": [
       "symboling            False\n",
       "normalized-losses    False\n",
       "make                 False\n",
       "fuel-type            False\n",
       "aspiration           False\n",
       "num-of-doors          True\n",
       "body-style           False\n",
       "drive-wheels         False\n",
       "engine-location      False\n",
       "wheel-base           False\n",
       "length               False\n",
       "width                False\n",
       "height               False\n",
       "curb-weight          False\n",
       "engine-type          False\n",
       "num-of-cylinders     False\n",
       "engine-size          False\n",
       "fuel-system          False\n",
       "bore                 False\n",
       "stroke               False\n",
       "compression-ratio    False\n",
       "horsepower           False\n",
       "peak-rpm             False\n",
       "city-mpg             False\n",
       "highway-mpg          False\n",
       "price                False\n",
       "dtype: bool"
      ]
     },
     "execution_count": 8,
     "metadata": {},
     "output_type": "execute_result"
    }
   ],
   "source": [
    "# Finding if missing values \n",
    "data.isnull().any() "
   ]
  },
  {
   "cell_type": "markdown",
   "id": "514fd4db",
   "metadata": {},
   "source": [
    "# Mean of all variables in the data set"
   ]
  },
  {
   "cell_type": "code",
   "execution_count": 9,
   "id": "afb740d0",
   "metadata": {},
   "outputs": [
    {
     "name": "stdout",
     "output_type": "stream",
     "text": [
      "symboling               0.834146\n",
      "wheel-base             98.756585\n",
      "length                174.049268\n",
      "width                  65.907805\n",
      "height                 53.724878\n",
      "curb-weight          2555.565854\n",
      "engine-size           126.907317\n",
      "compression-ratio      10.142537\n",
      "city-mpg               25.219512\n",
      "highway-mpg            30.751220\n",
      "dtype: float64\n"
     ]
    },
    {
     "name": "stderr",
     "output_type": "stream",
     "text": [
      "C:\\Users\\nbaga\\AppData\\Local\\Temp/ipykernel_104292/2101390418.py:1: FutureWarning: Dropping of nuisance columns in DataFrame reductions (with 'numeric_only=None') is deprecated; in a future version this will raise TypeError.  Select only valid columns before calling the reduction.\n",
      "  print(data.mean())\n"
     ]
    }
   ],
   "source": [
    "print(data.mean())"
   ]
  },
  {
   "cell_type": "code",
   "execution_count": 10,
   "id": "5b42834b",
   "metadata": {},
   "outputs": [
    {
     "name": "stdout",
     "output_type": "stream",
     "text": [
      "   symboling normalized-losses    make fuel-type aspiration num-of-doors  \\\n",
      "0        0.0             122.0  toyota       gas        std         four   \n",
      "1        NaN               NaN     NaN       NaN        NaN          NaN   \n",
      "\n",
      "  body-style drive-wheels engine-location  wheel-base  ...  engine-size  \\\n",
      "0      sedan          fwd           front        94.5  ...           92   \n",
      "1        NaN          NaN             NaN         NaN  ...          122   \n",
      "\n",
      "   fuel-system  bore  stroke compression-ratio horsepower  peak-rpm city-mpg  \\\n",
      "0         mpfi  3.62     3.4               9.0         68      5500     31.0   \n",
      "1          NaN   NaN     NaN               NaN        NaN       NaN      NaN   \n",
      "\n",
      "  highway-mpg         price  \n",
      "0        25.0  13207.129353  \n",
      "1         NaN           NaN  \n",
      "\n",
      "[2 rows x 26 columns]\n"
     ]
    }
   ],
   "source": [
    "print(data.mode())"
   ]
  },
  {
   "cell_type": "code",
   "execution_count": 11,
   "id": "7bf77af0",
   "metadata": {},
   "outputs": [
    {
     "name": "stdout",
     "output_type": "stream",
     "text": [
      "Index(['symboling', 'normalized-losses', 'make', 'fuel-type', 'aspiration',\n",
      "       'num-of-doors', 'body-style', 'drive-wheels', 'engine-location',\n",
      "       'wheel-base', 'length', 'width', 'height', 'curb-weight', 'engine-type',\n",
      "       'num-of-cylinders', 'engine-size', 'fuel-system', 'bore', 'stroke',\n",
      "       'compression-ratio', 'horsepower', 'peak-rpm', 'city-mpg',\n",
      "       'highway-mpg', 'price'],\n",
      "      dtype='object')\n"
     ]
    },
    {
     "data": {
      "text/plain": [
       "symboling              int64\n",
       "normalized-losses     object\n",
       "make                  object\n",
       "fuel-type             object\n",
       "aspiration            object\n",
       "num-of-doors          object\n",
       "body-style            object\n",
       "drive-wheels          object\n",
       "engine-location       object\n",
       "wheel-base           float64\n",
       "length               float64\n",
       "width                float64\n",
       "height               float64\n",
       "curb-weight            int64\n",
       "engine-type           object\n",
       "num-of-cylinders      object\n",
       "engine-size            int64\n",
       "fuel-system           object\n",
       "bore                  object\n",
       "stroke                object\n",
       "compression-ratio    float64\n",
       "horsepower            object\n",
       "peak-rpm              object\n",
       "city-mpg             float64\n",
       "highway-mpg            int64\n",
       "price                 object\n",
       "dtype: object"
      ]
     },
     "execution_count": 11,
     "metadata": {},
     "output_type": "execute_result"
    }
   ],
   "source": [
    "##Converting mpg to L/100km and checking the data type of each column.\n",
    "\n",
    "# converting mpg to L / 100km\n",
    "data['city-mpg'] = 235 / data['city-mpg']\n",
    "data.rename(columns = {'city_mpg': \"city-L / 100km\"}, inplace = True)\n",
    "  \n",
    "print(data.columns)  \n",
    "# checking the data type of each column\n",
    "data.dtypes "
   ]
  },
  {
   "cell_type": "code",
   "execution_count": 12,
   "id": "d0033095",
   "metadata": {},
   "outputs": [],
   "source": [
    "# the data contains '?', so we Drop it\n",
    "data = data[data.price != '?']\n",
    " \n",
    "# Chnage datatypes of columns\n",
    "data[[\"bore\", \"stroke\"]] = data[[\"bore\", \"stroke\"]].astype(\"float\")\n",
    "data[[\"normalized-losses\"]] = data[[\"normalized-losses\"]].astype(\"int\")\n",
    "data[[\"price\"]] = data[[\"price\"]].astype(\"float\")\n",
    "data[[\"peak-rpm\"]] = data[[\"peak-rpm\"]].astype(\"float\")\n",
    "\n",
    "\n",
    "\n",
    "\n"
   ]
  },
  {
   "cell_type": "code",
   "execution_count": 13,
   "id": "6b5fc850",
   "metadata": {},
   "outputs": [
    {
     "name": "stdout",
     "output_type": "stream",
     "text": [
      "0         Low\n",
      "1         Low\n",
      "2         Low\n",
      "3         Low\n",
      "4         Low\n",
      "        ...  \n",
      "200       Low\n",
      "201    Medium\n",
      "202    Medium\n",
      "203    Medium\n",
      "204    Medium\n",
      "Name: price-binned, Length: 205, dtype: category\n",
      "Categories (3, object): ['Low' < 'Medium' < 'High']\n"
     ]
    },
    {
     "data": {
      "image/png": "[encoded data removed]",
      "text/plain": [
       "<Figure size 432x288 with 1 Axes>"
      ]
     },
     "metadata": {
      "needs_background": "light"
     },
     "output_type": "display_data"
    }
   ],
   "source": [
    "## Normalizing the values\n",
    "\n",
    "data['length'] = data['length']/data['length'].max()\n",
    "data['width'] = data['width']/data['width'].max()\n",
    "data['height'] = data['height']/data['height'].max()\n",
    "  \n",
    "# binning- grouping values\n",
    "bins = np.linspace(min(data['price']), max(data['price']), 4) \n",
    "group_names = ['Low', 'Medium', 'High']\n",
    "data['price-binned'] = pd.cut(data['price'], bins, \n",
    "                              labels = group_names, \n",
    "                              include_lowest = True)\n",
    "  \n",
    "print(data['price-binned'])\n",
    "plt.hist(data['price-binned'])\n",
    "plt.show()\n"
   ]
  },
  {
   "cell_type": "code",
   "execution_count": 64,
   "id": "2a343741",
   "metadata": {},
   "outputs": [
    {
     "name": "stdout",
     "output_type": "stream",
     "text": [
      "all cars Price outlier : 29055.684577114433\n"
     ]
    },
    {
     "data": {
      "image/png": "[encoded data removed]",
      "text/plain": [
       "<Figure size 432x288 with 1 Axes>"
      ]
     },
     "metadata": {
      "needs_background": "light"
     },
     "output_type": "display_data"
    }
   ],
   "source": [
    "## Plot hist for Price of all car models\n",
    "\n",
    "plt.hist(data['price'])\n",
    "\n",
    "plt.xlabel('Price')\n",
    "plt.ylabel('frequency')\n",
    "\n",
    "### mean of all cars price\n",
    "\n",
    "all_car_price_mean=data['price'].mean()\n",
    "\n",
    "## calculate the outlier of all cars prices\n",
    "\n",
    "outlier=all_car_price_mean * 2.2  ## 2.2 times above or below mean is a outlier(took 2.2 to avoid type 1 errors)\n",
    "\n",
    "print('all cars Price outlier :',outlier)\n",
    "\n",
    "## I feel these are valid outliners as the data contains different models of cars so the price vary between those models\n",
    "\n"
   ]
  },
  {
   "cell_type": "code",
   "execution_count": 65,
   "id": "a64b3897",
   "metadata": {},
   "outputs": [
    {
     "name": "stdout",
     "output_type": "stream",
     "text": [
      "Toyota cars Price outlier : 21748.787500000002\n"
     ]
    },
    {
     "data": {
      "image/png": "[encoded data removed]",
      "text/plain": [
       "<Figure size 432x288 with 1 Axes>"
      ]
     },
     "metadata": {
      "needs_background": "light"
     },
     "output_type": "display_data"
    }
   ],
   "source": [
    "## Lets take price for toyota model to see if the outlier is true\n",
    "\n",
    "df_car = data[data['make']=='toyota']\n",
    "df_car\n",
    "plt.hist(df_car['price'])\n",
    "plt.xlabel('Price')\n",
    "plt.ylabel('frequency')\n",
    "\n",
    "\n",
    "toyota_car_mean = df_car['price'].mean()\n",
    "\n",
    "toyota_price_outlier = toyota_car_mean * 2.2\n",
    "\n",
    "print('Toyota cars Price outlier :',toyota_price_outlier)"
   ]
  },
  {
   "cell_type": "code",
   "execution_count": 16,
   "id": "2de395e0",
   "metadata": {},
   "outputs": [],
   "source": [
    "## Based on the above Histogram, there are no outlier, because outlier is any value grater than 21748.787500000002\n",
    "## Hence no Outliers in price."
   ]
  },
  {
   "cell_type": "code",
   "execution_count": 66,
   "id": "141f5442",
   "metadata": {},
   "outputs": [
    {
     "name": "stdout",
     "output_type": "stream",
     "text": [
      "all cars engine-size outlier : 279.1960975609756\n"
     ]
    },
    {
     "data": {
      "image/png": "[encoded data removed]",
      "text/plain": [
       "<Figure size 432x288 with 1 Axes>"
      ]
     },
     "metadata": {
      "needs_background": "light"
     },
     "output_type": "display_data"
    }
   ],
   "source": [
    "plt.hist(data['engine-size'])\n",
    "### mean of all cars engine-size\n",
    "plt.xlabel('engine-size')\n",
    "plt.ylabel('frequency')\n",
    "\n",
    "all_car_engine_size_mean=data['engine-size'].mean()\n",
    "\n",
    "## calculate the outlier of all cars prices\n",
    "\n",
    "outlier=all_car_engine_size_mean * 2.2  ## 2.2 times above or below mean is a outlier(took 2.2 to avoid type 1 errors)\n",
    "\n",
    "print('all cars engine-size outlier :',outlier)\n",
    "\n",
    "## I feel these are valid outliners as the data contains different models of cars so the engine size vary between \n",
    "## those models\n",
    "\n"
   ]
  },
  {
   "cell_type": "code",
   "execution_count": 67,
   "id": "ead4779c",
   "metadata": {},
   "outputs": [
    {
     "name": "stdout",
     "output_type": "stream",
     "text": [
      "Toyota cars engine-size outlier : 261.38750000000005\n"
     ]
    },
    {
     "data": {
      "image/png": "[encoded data removed]",
      "text/plain": [
       "<Figure size 432x288 with 1 Axes>"
      ]
     },
     "metadata": {
      "needs_background": "light"
     },
     "output_type": "display_data"
    }
   ],
   "source": [
    "## Lets take engine-size for toyota model to see if the outlier is true\n",
    "\n",
    "\n",
    "plt.hist(df_car['engine-size'])\n",
    "plt.xlabel('engine-size')\n",
    "plt.ylabel('frequency')\n",
    "\n",
    "toyota_car_mean = df_car['engine-size'].mean()\n",
    "\n",
    "toyota_engine_size_outlier = toyota_car_mean * 2.2\n",
    "\n",
    "print('Toyota cars engine-size outlier :',toyota_engine_size_outlier)"
   ]
  },
  {
   "cell_type": "code",
   "execution_count": 19,
   "id": "2c0df00a",
   "metadata": {},
   "outputs": [],
   "source": [
    "## Based on the above Histogram, there are no outlier, because outlier is any value grater than 261.38750000000005\n",
    "## Hence no Outliers in engine-size."
   ]
  },
  {
   "cell_type": "code",
   "execution_count": 68,
   "id": "4f817cee",
   "metadata": {},
   "outputs": [
    {
     "name": "stdout",
     "output_type": "stream",
     "text": [
      "all cars highway-mpg outlier : 67.65268292682927\n"
     ]
    },
    {
     "data": {
      "image/png": "[encoded data removed]",
      "text/plain": [
       "<Figure size 432x288 with 1 Axes>"
      ]
     },
     "metadata": {
      "needs_background": "light"
     },
     "output_type": "display_data"
    }
   ],
   "source": [
    "## Plot Hist for all cars highway-mpg\n",
    "\n",
    "plt.hist(data['highway-mpg'])\n",
    "\n",
    "plt.xlabel('highway-mpg')\n",
    "plt.ylabel('frequency')\n",
    "### mean of all cars engine-size\n",
    "\n",
    "all_car_highway_mpg_mean=data['highway-mpg'].mean()\n",
    "\n",
    "## calculate the outlier of all cars prices\n",
    "\n",
    "outlier=all_car_highway_mpg_mean * 2.2  ## 2.2 times above or below mean is a outlier(took 2.2 to avoid type 1 errors)\n",
    "\n",
    "print('all cars highway-mpg outlier :',outlier)\n",
    "\n",
    "## I feel these are valid outliners as the data contains different models of cars so the highway-mpg vary between \n",
    "## those models\n"
   ]
  },
  {
   "cell_type": "code",
   "execution_count": 69,
   "id": "09bce755",
   "metadata": {},
   "outputs": [
    {
     "name": "stdout",
     "output_type": "stream",
     "text": [
      "Toyota cars highway-mpg outlier : 72.39375000000001\n"
     ]
    },
    {
     "data": {
      "image/png": "[encoded data removed]",
      "text/plain": [
       "<Figure size 432x288 with 1 Axes>"
      ]
     },
     "metadata": {
      "needs_background": "light"
     },
     "output_type": "display_data"
    }
   ],
   "source": [
    "## Lets take highway-mpg for toyota model to see if the outlier is true\n",
    "\n",
    "\n",
    "\n",
    "plt.hist(df_car['highway-mpg'])\n",
    "plt.xlabel('highway-mpg')\n",
    "plt.ylabel('frequency')\n",
    "\n",
    "toyota_car_mean = df_car['highway-mpg'].mean()\n",
    "\n",
    "toyota_highway_mpg_outlier = toyota_car_mean * 2.2\n",
    "\n",
    "print('Toyota cars highway-mpg outlier :',toyota_highway_mpg_outlier)"
   ]
  },
  {
   "cell_type": "code",
   "execution_count": 22,
   "id": "19e6b9c1",
   "metadata": {},
   "outputs": [],
   "source": [
    "## Based on the above Histogram, there are no outlier, because outlier is any value grater than 72.39375000000001\n",
    "## Hence no Outliers in highway-mpg."
   ]
  },
  {
   "cell_type": "code",
   "execution_count": 70,
   "id": "44d6cf07",
   "metadata": {},
   "outputs": [
    {
     "name": "stdout",
     "output_type": "stream",
     "text": [
      "all cars peak-rpm outlier : 11275.812807881774\n"
     ]
    },
    {
     "data": {
      "image/png": "[encoded data removed]",
      "text/plain": [
       "<Figure size 432x288 with 1 Axes>"
      ]
     },
     "metadata": {
      "needs_background": "light"
     },
     "output_type": "display_data"
    }
   ],
   "source": [
    "plt.hist(data['peak-rpm'].astype(str), bins=50)\n",
    "plt.xlabel('peak-rpm')\n",
    "plt.ylabel('frequency')\n",
    "\n",
    "### mean of all cars engine-size\n",
    "\n",
    "all_car_peak_rpm_mean=data['peak-rpm'].mean()\n",
    "\n",
    "## calculate the outlier of all cars prices\n",
    "\n",
    "outlier=all_car_peak_rpm_mean * 2.2  ## 2.2 times above or below mean is a outlier(took 2.2 to avoid type 1 errors)\n",
    "\n",
    "print('all cars peak-rpm outlier :',outlier)\n",
    "\n",
    "## I feel these are valid outliners as the data contains different models of cars so the peak-rpm vary between \n",
    "## those models"
   ]
  },
  {
   "cell_type": "code",
   "execution_count": 71,
   "id": "c425dcd6",
   "metadata": {},
   "outputs": [
    {
     "name": "stdout",
     "output_type": "stream",
     "text": [
      "Toyota cars peak-rpm outlier : 10690.625\n"
     ]
    },
    {
     "data": {
      "image/png": "[encoded data removed]",
      "text/plain": [
       "<Figure size 432x288 with 1 Axes>"
      ]
     },
     "metadata": {
      "needs_background": "light"
     },
     "output_type": "display_data"
    }
   ],
   "source": [
    "## Lets take peak-rpm for toyota model to see if the outlier is true\n",
    "\n",
    "df_car = data[data['make']=='toyota']\n",
    "\n",
    "plt.hist(df_car['peak-rpm'])\n",
    "\n",
    "plt.xlabel('peak-rpm')\n",
    "plt.ylabel('frequency')\n",
    "\n",
    "toyota_car_mean = df_car['peak-rpm'].mean()\n",
    "\n",
    "toyota_peak_rpm_outlier = toyota_car_mean * 2.2\n",
    "\n",
    "print('Toyota cars peak-rpm outlier :',toyota_peak_rpm_outlier)"
   ]
  },
  {
   "cell_type": "code",
   "execution_count": 25,
   "id": "62865f64",
   "metadata": {},
   "outputs": [],
   "source": [
    "## Based on the above Histogram, there are no outlier, because outlier is any value grater than 10690.625\n",
    "## Hence no Outliers in peak-rpm."
   ]
  },
  {
   "cell_type": "code",
   "execution_count": 110,
   "id": "47be3f67",
   "metadata": {},
   "outputs": [
    {
     "data": {
      "text/plain": [
       "150    40052.0\n",
       "151    39062.0\n",
       "152    38912.0\n",
       "153    38482.0\n",
       "154    37502.0\n",
       "155    36622.0\n",
       "156    38462.0\n",
       "157    38202.0\n",
       "158    37502.0\n",
       "159    37612.0\n",
       "160    37662.0\n",
       "161    37042.0\n",
       "162    36142.0\n",
       "163    37342.0\n",
       "164    37162.0\n",
       "165    36102.0\n",
       "166    35862.0\n",
       "167    36951.0\n",
       "168    35761.0\n",
       "169    35411.0\n",
       "170    34201.0\n",
       "171    33851.0\n",
       "172    27731.0\n",
       "173    36452.0\n",
       "174    34702.0\n",
       "175    35412.0\n",
       "176    34502.0\n",
       "177    34152.0\n",
       "178    28842.0\n",
       "179    29402.0\n",
       "180    29710.0\n",
       "181    29650.0\n",
       "Name: price, dtype: float64"
      ]
     },
     "execution_count": 110,
     "metadata": {},
     "output_type": "execute_result"
    }
   ],
   "source": [
    "data['price'].max() - df_car['price']"
   ]
  },
  {
   "cell_type": "code",
   "execution_count": 72,
   "id": "2e129510",
   "metadata": {},
   "outputs": [
    {
     "data": {
      "text/plain": [
       "Text(0, 0.5, 'frequency')"
      ]
     },
     "execution_count": 72,
     "metadata": {},
     "output_type": "execute_result"
    },
    {
     "data": {
      "image/png": "[encoded data removed]",
      "text/plain": [
       "<Figure size 432x288 with 1 Axes>"
      ]
     },
     "metadata": {
      "needs_background": "light"
     },
     "output_type": "display_data"
    }
   ],
   "source": [
    "plt.hist(data[\"body-style\"],bins=9)\n",
    "\n",
    "plt.xlabel('body-style')\n",
    "plt.ylabel('frequency')\n",
    "\n",
    "## There is only 5 values, so there are no outliners in the data"
   ]
  },
  {
   "cell_type": "markdown",
   "id": "98251834",
   "metadata": {},
   "source": [
    "# compare two scenarios in your data using a PMF"
   ]
  },
  {
   "cell_type": "code",
   "execution_count": 27,
   "id": "30830151",
   "metadata": {},
   "outputs": [
    {
     "data": {
      "image/png": "[encoded data removed]",
      "text/plain": [
       "<Figure size 432x288 with 1 Axes>"
      ]
     },
     "metadata": {
      "needs_background": "light"
     },
     "output_type": "display_data"
    }
   ],
   "source": [
    "SALE_PRC_hist = thinkstats2.Hist(data['price']>(10000), label='car sale price')\n",
    "pmf = SALE_PRC_hist.Copy()\n",
    "thinkplot.Hist(pmf)\n",
    "thinkplot.Config(xlabel='sale price', ylabel='PMF')\n"
   ]
  },
  {
   "cell_type": "code",
   "execution_count": 28,
   "id": "5c0827fa",
   "metadata": {},
   "outputs": [
    {
     "data": {
      "image/png": "[encoded data removed]",
      "text/plain": [
       "<Figure size 432x288 with 1 Axes>"
      ]
     },
     "metadata": {
      "needs_background": "light"
     },
     "output_type": "display_data"
    }
   ],
   "source": [
    "SALE_PRC_hist = thinkstats2.Hist(data['price']>(20000), label='car sale price')\n",
    "pmf = SALE_PRC_hist.Copy()\n",
    "thinkplot.Hist(pmf)\n",
    "thinkplot.Config(xlabel='sale price', ylabel='PMF')\n"
   ]
  },
  {
   "cell_type": "markdown",
   "id": "83b92226",
   "metadata": {},
   "source": [
    "# CDF"
   ]
  },
  {
   "cell_type": "code",
   "execution_count": 29,
   "id": "32fb6421",
   "metadata": {},
   "outputs": [
    {
     "data": {
      "image/png": "[encoded data removed]",
      "text/plain": [
       "<Figure size 432x288 with 1 Axes>"
      ]
     },
     "metadata": {
      "needs_background": "light"
     },
     "output_type": "display_data"
    }
   ],
   "source": [
    "# WITH ALL CARS DATA\n",
    "\n",
    "cdf = thinkstats2.Cdf(data['price'], label='car sale price')\n",
    "thinkplot.Cdf(cdf)\n",
    "thinkplot.Config(xlabel='sale price', ylabel='CDF', loc='upper left')\n"
   ]
  },
  {
   "cell_type": "code",
   "execution_count": 30,
   "id": "ce52a8b9",
   "metadata": {},
   "outputs": [],
   "source": [
    "## the above shows that 90% out of all model cars are sold for more than $18000"
   ]
  },
  {
   "cell_type": "code",
   "execution_count": 113,
   "id": "ff7f4474",
   "metadata": {},
   "outputs": [
    {
     "name": "stderr",
     "output_type": "stream",
     "text": [
      "C:\\Users\\nbaga\\anaconda3\\lib\\site-packages\\seaborn\\_decorators.py:36: FutureWarning: Pass the following variable as a keyword arg: x. From version 0.12, the only valid positional argument will be `data`, and passing other arguments without an explicit keyword will result in an error or misinterpretation.\n",
      "  warnings.warn(\n"
     ]
    },
    {
     "data": {
      "text/plain": [
       "<AxesSubplot:title={'center':'Symboling Histogram'}, xlabel='symboling', ylabel='count'>"
      ]
     },
     "execution_count": 113,
     "metadata": {},
     "output_type": "execute_result"
    },
    {
     "data": {
      "image/png": "[encoded data removed]",
      "text/plain": [
       "<Figure size 432x288 with 1 Axes>"
      ]
     },
     "metadata": {
      "needs_background": "light"
     },
     "output_type": "display_data"
    }
   ],
   "source": [
    "plt.subplot(1,2,1)\n",
    "plt.title('Symboling Histogram')\n",
    "sns.countplot(data['symboling'], palette=(\"cubehelix\"))\n"
   ]
  },
  {
   "cell_type": "code",
   "execution_count": null,
   "id": "34af5ff7",
   "metadata": {},
   "outputs": [],
   "source": [
    "## It seems that the symbolling with 0 and 1 values are most sold cars"
   ]
  },
  {
   "cell_type": "code",
   "execution_count": 116,
   "id": "43826f9c",
   "metadata": {},
   "outputs": [
    {
     "data": {
      "text/plain": [
       "<AxesSubplot:title={'center':'Symboling vs Price'}, xlabel='symboling', ylabel='price'>"
      ]
     },
     "execution_count": 116,
     "metadata": {},
     "output_type": "execute_result"
    },
    {
     "data": {
      "image/png": "[encoded data removed]",
      "text/plain": [
       "<Figure size 432x288 with 1 Axes>"
      ]
     },
     "metadata": {
      "needs_background": "light"
     },
     "output_type": "display_data"
    }
   ],
   "source": [
    "plt.subplot(1,2,2)\n",
    "plt.title('Symboling vs Price')\n",
    "sns.boxplot(x=data['symboling'], y=data['price'], palette=(\"cubehelix\"))"
   ]
  },
  {
   "cell_type": "code",
   "execution_count": 117,
   "id": "8f6dafce",
   "metadata": {},
   "outputs": [],
   "source": [
    "#The cars with -1 symboling seems to be high priced.\n",
    "#But it seems that symboling with 3 value has the price range similar to -2 value. \n",
    "# There is a dip in price at symboling 1."
   ]
  },
  {
   "cell_type": "code",
   "execution_count": 33,
   "id": "b513546b",
   "metadata": {},
   "outputs": [
    {
     "data": {
      "text/html": [
       "<div>\n",
       "<style scoped>\n",
       "    .dataframe tbody tr th:only-of-type {\n",
       "        vertical-align: middle;\n",
       "    }\n",
       "\n",
       "    .dataframe tbody tr th {\n",
       "        vertical-align: top;\n",
       "    }\n",
       "\n",
       "    .dataframe thead th {\n",
       "        text-align: right;\n",
       "    }\n",
       "</style>\n",
       "<table border=\"1\" class=\"dataframe\">\n",
       "  <thead>\n",
       "    <tr style=\"text-align: right;\">\n",
       "      <th></th>\n",
       "      <th>symboling</th>\n",
       "      <th>normalized-losses</th>\n",
       "      <th>wheel-base</th>\n",
       "      <th>length</th>\n",
       "      <th>width</th>\n",
       "      <th>height</th>\n",
       "      <th>curb-weight</th>\n",
       "      <th>engine-size</th>\n",
       "      <th>bore</th>\n",
       "      <th>stroke</th>\n",
       "      <th>compression-ratio</th>\n",
       "      <th>peak-rpm</th>\n",
       "      <th>city-mpg</th>\n",
       "      <th>highway-mpg</th>\n",
       "      <th>price</th>\n",
       "    </tr>\n",
       "  </thead>\n",
       "  <tbody>\n",
       "    <tr>\n",
       "      <th>count</th>\n",
       "      <td>205.000000</td>\n",
       "      <td>205.000000</td>\n",
       "      <td>205.000000</td>\n",
       "      <td>205.000000</td>\n",
       "      <td>205.000000</td>\n",
       "      <td>205.000000</td>\n",
       "      <td>205.000000</td>\n",
       "      <td>205.000000</td>\n",
       "      <td>205.000000</td>\n",
       "      <td>205.000000</td>\n",
       "      <td>205.000000</td>\n",
       "      <td>205.000000</td>\n",
       "      <td>205.000000</td>\n",
       "      <td>205.000000</td>\n",
       "      <td>205.000000</td>\n",
       "    </tr>\n",
       "    <tr>\n",
       "      <th>mean</th>\n",
       "      <td>0.834146</td>\n",
       "      <td>122.000000</td>\n",
       "      <td>98.756585</td>\n",
       "      <td>0.836373</td>\n",
       "      <td>0.911588</td>\n",
       "      <td>0.898409</td>\n",
       "      <td>2555.565854</td>\n",
       "      <td>126.907317</td>\n",
       "      <td>3.329751</td>\n",
       "      <td>3.255423</td>\n",
       "      <td>10.142537</td>\n",
       "      <td>5125.369458</td>\n",
       "      <td>9.949525</td>\n",
       "      <td>30.751220</td>\n",
       "      <td>13207.129353</td>\n",
       "    </tr>\n",
       "    <tr>\n",
       "      <th>std</th>\n",
       "      <td>1.245307</td>\n",
       "      <td>31.681008</td>\n",
       "      <td>6.021776</td>\n",
       "      <td>0.059285</td>\n",
       "      <td>0.029671</td>\n",
       "      <td>0.040862</td>\n",
       "      <td>520.680204</td>\n",
       "      <td>41.642693</td>\n",
       "      <td>0.270844</td>\n",
       "      <td>0.313597</td>\n",
       "      <td>3.972040</td>\n",
       "      <td>476.979093</td>\n",
       "      <td>2.573104</td>\n",
       "      <td>6.886443</td>\n",
       "      <td>7868.768212</td>\n",
       "    </tr>\n",
       "    <tr>\n",
       "      <th>min</th>\n",
       "      <td>-2.000000</td>\n",
       "      <td>65.000000</td>\n",
       "      <td>86.600000</td>\n",
       "      <td>0.678039</td>\n",
       "      <td>0.834025</td>\n",
       "      <td>0.799331</td>\n",
       "      <td>1488.000000</td>\n",
       "      <td>61.000000</td>\n",
       "      <td>2.540000</td>\n",
       "      <td>2.070000</td>\n",
       "      <td>7.000000</td>\n",
       "      <td>4150.000000</td>\n",
       "      <td>4.795918</td>\n",
       "      <td>16.000000</td>\n",
       "      <td>5118.000000</td>\n",
       "    </tr>\n",
       "    <tr>\n",
       "      <th>25%</th>\n",
       "      <td>0.000000</td>\n",
       "      <td>101.000000</td>\n",
       "      <td>94.500000</td>\n",
       "      <td>0.799135</td>\n",
       "      <td>0.886584</td>\n",
       "      <td>0.869565</td>\n",
       "      <td>2145.000000</td>\n",
       "      <td>97.000000</td>\n",
       "      <td>3.150000</td>\n",
       "      <td>3.110000</td>\n",
       "      <td>8.600000</td>\n",
       "      <td>4800.000000</td>\n",
       "      <td>7.833333</td>\n",
       "      <td>25.000000</td>\n",
       "      <td>7788.000000</td>\n",
       "    </tr>\n",
       "    <tr>\n",
       "      <th>50%</th>\n",
       "      <td>1.000000</td>\n",
       "      <td>122.000000</td>\n",
       "      <td>97.000000</td>\n",
       "      <td>0.832292</td>\n",
       "      <td>0.905947</td>\n",
       "      <td>0.904682</td>\n",
       "      <td>2414.000000</td>\n",
       "      <td>120.000000</td>\n",
       "      <td>3.310000</td>\n",
       "      <td>3.290000</td>\n",
       "      <td>9.000000</td>\n",
       "      <td>5200.000000</td>\n",
       "      <td>9.791667</td>\n",
       "      <td>30.000000</td>\n",
       "      <td>10595.000000</td>\n",
       "    </tr>\n",
       "    <tr>\n",
       "      <th>75%</th>\n",
       "      <td>2.000000</td>\n",
       "      <td>137.000000</td>\n",
       "      <td>102.400000</td>\n",
       "      <td>0.879865</td>\n",
       "      <td>0.925311</td>\n",
       "      <td>0.928094</td>\n",
       "      <td>2935.000000</td>\n",
       "      <td>141.000000</td>\n",
       "      <td>3.580000</td>\n",
       "      <td>3.410000</td>\n",
       "      <td>9.400000</td>\n",
       "      <td>5500.000000</td>\n",
       "      <td>12.368421</td>\n",
       "      <td>34.000000</td>\n",
       "      <td>16500.000000</td>\n",
       "    </tr>\n",
       "    <tr>\n",
       "      <th>max</th>\n",
       "      <td>3.000000</td>\n",
       "      <td>256.000000</td>\n",
       "      <td>120.900000</td>\n",
       "      <td>1.000000</td>\n",
       "      <td>1.000000</td>\n",
       "      <td>1.000000</td>\n",
       "      <td>4066.000000</td>\n",
       "      <td>326.000000</td>\n",
       "      <td>3.940000</td>\n",
       "      <td>4.170000</td>\n",
       "      <td>23.000000</td>\n",
       "      <td>6600.000000</td>\n",
       "      <td>18.076923</td>\n",
       "      <td>54.000000</td>\n",
       "      <td>45400.000000</td>\n",
       "    </tr>\n",
       "  </tbody>\n",
       "</table>\n",
       "</div>"
      ],
      "text/plain": [
       "        symboling  normalized-losses  wheel-base      length       width  \\\n",
       "count  205.000000         205.000000  205.000000  205.000000  205.000000   \n",
       "mean     0.834146         122.000000   98.756585    0.836373    0.911588   \n",
       "std      1.245307          31.681008    6.021776    0.059285    0.029671   \n",
       "min     -2.000000          65.000000   86.600000    0.678039    0.834025   \n",
       "25%      0.000000         101.000000   94.500000    0.799135    0.886584   \n",
       "50%      1.000000         122.000000   97.000000    0.832292    0.905947   \n",
       "75%      2.000000         137.000000  102.400000    0.879865    0.925311   \n",
       "max      3.000000         256.000000  120.900000    1.000000    1.000000   \n",
       "\n",
       "           height  curb-weight  engine-size        bore      stroke  \\\n",
       "count  205.000000   205.000000   205.000000  205.000000  205.000000   \n",
       "mean     0.898409  2555.565854   126.907317    3.329751    3.255423   \n",
       "std      0.040862   520.680204    41.642693    0.270844    0.313597   \n",
       "min      0.799331  1488.000000    61.000000    2.540000    2.070000   \n",
       "25%      0.869565  2145.000000    97.000000    3.150000    3.110000   \n",
       "50%      0.904682  2414.000000   120.000000    3.310000    3.290000   \n",
       "75%      0.928094  2935.000000   141.000000    3.580000    3.410000   \n",
       "max      1.000000  4066.000000   326.000000    3.940000    4.170000   \n",
       "\n",
       "       compression-ratio     peak-rpm    city-mpg  highway-mpg         price  \n",
       "count         205.000000   205.000000  205.000000   205.000000    205.000000  \n",
       "mean           10.142537  5125.369458    9.949525    30.751220  13207.129353  \n",
       "std             3.972040   476.979093    2.573104     6.886443   7868.768212  \n",
       "min             7.000000  4150.000000    4.795918    16.000000   5118.000000  \n",
       "25%             8.600000  4800.000000    7.833333    25.000000   7788.000000  \n",
       "50%             9.000000  5200.000000    9.791667    30.000000  10595.000000  \n",
       "75%             9.400000  5500.000000   12.368421    34.000000  16500.000000  \n",
       "max            23.000000  6600.000000   18.076923    54.000000  45400.000000  "
      ]
     },
     "execution_count": 33,
     "metadata": {},
     "output_type": "execute_result"
    }
   ],
   "source": [
    "# categorical to numerical variables\n",
    "pd.get_dummies(data['fuel-type']).head()\n",
    "  \n",
    "# descriptive analysis\n",
    "# NaN are skipped\n",
    "data.describe()"
   ]
  },
  {
   "cell_type": "code",
   "execution_count": 34,
   "id": "eaf021be",
   "metadata": {},
   "outputs": [
    {
     "data": {
      "text/plain": [
       "<AxesSubplot:xlabel='drive-wheels', ylabel='price'>"
      ]
     },
     "execution_count": 34,
     "metadata": {},
     "output_type": "execute_result"
    },
    {
     "data": {
      "image/png": "[encoded data removed]",
      "text/plain": [
       "<Figure size 432x288 with 1 Axes>"
      ]
     },
     "metadata": {
      "needs_background": "light"
     },
     "output_type": "display_data"
    }
   ],
   "source": [
    "##Plotting the data according to the price based on engine size.\n",
    "\n",
    "plt.boxplot(data['price'])\n",
    "  \n",
    "# by using seaborn\n",
    "sns.boxplot(x ='drive-wheels', y ='price', data = data)  \n"
   ]
  },
  {
   "cell_type": "code",
   "execution_count": 35,
   "id": "e1e5cd06",
   "metadata": {},
   "outputs": [
    {
     "data": {
      "image/png": "[encoded data removed]",
      "text/plain": [
       "<Figure size 432x288 with 1 Axes>"
      ]
     },
     "metadata": {
      "needs_background": "light"
     },
     "output_type": "display_data"
    }
   ],
   "source": [
    "# Predicting price based on engine size\n",
    "plt.scatter(data['engine-size'], data['price'])\n",
    "plt.title('Scatterplot of Enginesize vs Price')\n",
    "plt.xlabel('Engine size')\n",
    "plt.ylabel('Price')\n",
    "plt.grid()\n",
    "plt.show()"
   ]
  },
  {
   "cell_type": "code",
   "execution_count": null,
   "id": "80c86fee",
   "metadata": {},
   "outputs": [],
   "source": [
    "## it seems that bigger Engine size cars are costliest"
   ]
  },
  {
   "cell_type": "code",
   "execution_count": 36,
   "id": "14fc5b44",
   "metadata": {},
   "outputs": [
    {
     "data": {
      "image/png": "[encoded data removed]",
      "text/plain": [
       "<Figure size 432x288 with 1 Axes>"
      ]
     },
     "metadata": {
      "needs_background": "light"
     },
     "output_type": "display_data"
    }
   ],
   "source": [
    "# Predicting price based on highway-mpg\n",
    "plt.scatter(data['highway-mpg'], data['price'])\n",
    "plt.title('Scatterplot of highway-mpg vs Price')\n",
    "plt.xlabel('highway-mpg')\n",
    "plt.ylabel('Price')\n",
    "plt.grid()\n",
    "plt.show()"
   ]
  },
  {
   "cell_type": "code",
   "execution_count": null,
   "id": "060f3762",
   "metadata": {},
   "outputs": [],
   "source": [
    "## It seems High milage cars are not expensive"
   ]
  },
  {
   "cell_type": "code",
   "execution_count": 37,
   "id": "ea59a213",
   "metadata": {},
   "outputs": [
    {
     "data": {
      "text/html": [
       "<div>\n",
       "<style scoped>\n",
       "    .dataframe tbody tr th:only-of-type {\n",
       "        vertical-align: middle;\n",
       "    }\n",
       "\n",
       "    .dataframe tbody tr th {\n",
       "        vertical-align: top;\n",
       "    }\n",
       "\n",
       "    .dataframe thead th {\n",
       "        text-align: right;\n",
       "    }\n",
       "</style>\n",
       "<table border=\"1\" class=\"dataframe\">\n",
       "  <thead>\n",
       "    <tr style=\"text-align: right;\">\n",
       "      <th></th>\n",
       "      <th>drive-wheels</th>\n",
       "      <th>body-style</th>\n",
       "      <th>price</th>\n",
       "    </tr>\n",
       "  </thead>\n",
       "  <tbody>\n",
       "    <tr>\n",
       "      <th>0</th>\n",
       "      <td>4wd</td>\n",
       "      <td>hatchback</td>\n",
       "      <td>10405.064677</td>\n",
       "    </tr>\n",
       "    <tr>\n",
       "      <th>1</th>\n",
       "      <td>4wd</td>\n",
       "      <td>sedan</td>\n",
       "      <td>12647.333333</td>\n",
       "    </tr>\n",
       "    <tr>\n",
       "      <th>2</th>\n",
       "      <td>4wd</td>\n",
       "      <td>wagon</td>\n",
       "      <td>9095.750000</td>\n",
       "    </tr>\n",
       "    <tr>\n",
       "      <th>3</th>\n",
       "      <td>fwd</td>\n",
       "      <td>convertible</td>\n",
       "      <td>11595.000000</td>\n",
       "    </tr>\n",
       "    <tr>\n",
       "      <th>4</th>\n",
       "      <td>fwd</td>\n",
       "      <td>hardtop</td>\n",
       "      <td>8249.000000</td>\n",
       "    </tr>\n",
       "    <tr>\n",
       "      <th>5</th>\n",
       "      <td>fwd</td>\n",
       "      <td>hatchback</td>\n",
       "      <td>8396.387755</td>\n",
       "    </tr>\n",
       "    <tr>\n",
       "      <th>6</th>\n",
       "      <td>fwd</td>\n",
       "      <td>sedan</td>\n",
       "      <td>9930.934363</td>\n",
       "    </tr>\n",
       "    <tr>\n",
       "      <th>7</th>\n",
       "      <td>fwd</td>\n",
       "      <td>wagon</td>\n",
       "      <td>9997.333333</td>\n",
       "    </tr>\n",
       "    <tr>\n",
       "      <th>8</th>\n",
       "      <td>rwd</td>\n",
       "      <td>convertible</td>\n",
       "      <td>23949.600000</td>\n",
       "    </tr>\n",
       "    <tr>\n",
       "      <th>9</th>\n",
       "      <td>rwd</td>\n",
       "      <td>hardtop</td>\n",
       "      <td>24202.714286</td>\n",
       "    </tr>\n",
       "    <tr>\n",
       "      <th>10</th>\n",
       "      <td>rwd</td>\n",
       "      <td>hatchback</td>\n",
       "      <td>14278.269966</td>\n",
       "    </tr>\n",
       "    <tr>\n",
       "      <th>11</th>\n",
       "      <td>rwd</td>\n",
       "      <td>sedan</td>\n",
       "      <td>21711.833333</td>\n",
       "    </tr>\n",
       "    <tr>\n",
       "      <th>12</th>\n",
       "      <td>rwd</td>\n",
       "      <td>wagon</td>\n",
       "      <td>16994.222222</td>\n",
       "    </tr>\n",
       "  </tbody>\n",
       "</table>\n",
       "</div>"
      ],
      "text/plain": [
       "   drive-wheels   body-style         price\n",
       "0           4wd    hatchback  10405.064677\n",
       "1           4wd        sedan  12647.333333\n",
       "2           4wd        wagon   9095.750000\n",
       "3           fwd  convertible  11595.000000\n",
       "4           fwd      hardtop   8249.000000\n",
       "5           fwd    hatchback   8396.387755\n",
       "6           fwd        sedan   9930.934363\n",
       "7           fwd        wagon   9997.333333\n",
       "8           rwd  convertible  23949.600000\n",
       "9           rwd      hardtop  24202.714286\n",
       "10          rwd    hatchback  14278.269966\n",
       "11          rwd        sedan  21711.833333\n",
       "12          rwd        wagon  16994.222222"
      ]
     },
     "execution_count": 37,
     "metadata": {},
     "output_type": "execute_result"
    }
   ],
   "source": [
    "##Grouping the data according to wheel, body-style and price.\n",
    "\n",
    "# Grouping Data\n",
    "test = data[['drive-wheels', 'body-style', 'price']]\n",
    "data_grp = test.groupby(['drive-wheels', 'body-style'], \n",
    "                         as_index = False).mean()\n",
    "  \n",
    "data_grp"
   ]
  },
  {
   "cell_type": "code",
   "execution_count": 38,
   "id": "c489674c",
   "metadata": {},
   "outputs": [
    {
     "data": {
      "text/html": [
       "<div>\n",
       "<style scoped>\n",
       "    .dataframe tbody tr th:only-of-type {\n",
       "        vertical-align: middle;\n",
       "    }\n",
       "\n",
       "    .dataframe tbody tr th {\n",
       "        vertical-align: top;\n",
       "    }\n",
       "\n",
       "    .dataframe thead th {\n",
       "        text-align: right;\n",
       "    }\n",
       "</style>\n",
       "<table border=\"1\" class=\"dataframe\">\n",
       "  <thead>\n",
       "    <tr style=\"text-align: right;\">\n",
       "      <th></th>\n",
       "      <th>bore</th>\n",
       "      <th>stroke</th>\n",
       "      <th>compression-ratio</th>\n",
       "    </tr>\n",
       "  </thead>\n",
       "  <tbody>\n",
       "    <tr>\n",
       "      <th>bore</th>\n",
       "      <td>1.000000</td>\n",
       "      <td>-0.055909</td>\n",
       "      <td>0.005201</td>\n",
       "    </tr>\n",
       "    <tr>\n",
       "      <th>stroke</th>\n",
       "      <td>-0.055909</td>\n",
       "      <td>1.000000</td>\n",
       "      <td>0.186105</td>\n",
       "    </tr>\n",
       "    <tr>\n",
       "      <th>compression-ratio</th>\n",
       "      <td>0.005201</td>\n",
       "      <td>0.186105</td>\n",
       "      <td>1.000000</td>\n",
       "    </tr>\n",
       "  </tbody>\n",
       "</table>\n",
       "</div>"
      ],
      "text/plain": [
       "                       bore    stroke  compression-ratio\n",
       "bore               1.000000 -0.055909           0.005201\n",
       "stroke            -0.055909  1.000000           0.186105\n",
       "compression-ratio  0.005201  0.186105           1.000000"
      ]
     },
     "execution_count": 38,
     "metadata": {},
     "output_type": "execute_result"
    }
   ],
   "source": [
    "data[['bore','stroke' ,'compression-ratio','horsepower']].corr()"
   ]
  },
  {
   "cell_type": "code",
   "execution_count": 39,
   "id": "bc0a16b7",
   "metadata": {},
   "outputs": [
    {
     "data": {
      "text/plain": [
       "(0.0, 52095.217709973294)"
      ]
     },
     "execution_count": 39,
     "metadata": {},
     "output_type": "execute_result"
    },
    {
     "data": {
      "image/png": "[encoded data removed]",
      "text/plain": [
       "<Figure size 432x288 with 1 Axes>"
      ]
     },
     "metadata": {
      "needs_background": "light"
     },
     "output_type": "display_data"
    }
   ],
   "source": [
    "\n",
    "##In order to start understanding the (linear) relationship between an individual variable and the price.\n",
    "##We can do this by using \"regplot\", which plots the scatterplot plus the fitted regression line for the data.\n",
    "##As the slope is increasing in a positive direction, it is a positive linear relationship. \n",
    "# Correlation-measures dependency, not causation\n",
    "sns.regplot(x ='engine-size', y ='price', data = data)\n",
    "plt.ylim(0, )"
   ]
  },
  {
   "cell_type": "code",
   "execution_count": 40,
   "id": "f2cdab16",
   "metadata": {},
   "outputs": [
    {
     "data": {
      "text/plain": [
       "(0.0, 48131.80810933888)"
      ]
     },
     "execution_count": 40,
     "metadata": {},
     "output_type": "execute_result"
    },
    {
     "data": {
      "image/png": "[encoded data removed]",
      "text/plain": [
       "<Figure size 432x288 with 1 Axes>"
      ]
     },
     "metadata": {
      "needs_background": "light"
     },
     "output_type": "display_data"
    }
   ],
   "source": [
    "## Highway mpg is also a potential predictor variable of price\n",
    "sns.regplot(x ='highway-mpg', y ='price', data = data)\n",
    "plt.ylim(0, )"
   ]
  },
  {
   "cell_type": "code",
   "execution_count": 41,
   "id": "bff4b857",
   "metadata": {},
   "outputs": [],
   "source": [
    "##There seems to be an inverse relationship."
   ]
  },
  {
   "cell_type": "code",
   "execution_count": 42,
   "id": "a47ee981",
   "metadata": {},
   "outputs": [
    {
     "data": {
      "text/plain": [
       "-0.6905257341183495"
      ]
     },
     "execution_count": 42,
     "metadata": {},
     "output_type": "execute_result"
    }
   ],
   "source": [
    "data['highway-mpg'].corr(data['price'])"
   ]
  },
  {
   "cell_type": "code",
   "execution_count": 43,
   "id": "b3cdbbaa",
   "metadata": {},
   "outputs": [
    {
     "data": {
      "text/plain": [
       "<AxesSubplot:xlabel='peak-rpm', ylabel='price'>"
      ]
     },
     "execution_count": 43,
     "metadata": {},
     "output_type": "execute_result"
    },
    {
     "data": {
      "image/png": "[encoded data removed]",
      "text/plain": [
       "<Figure size 432x288 with 1 Axes>"
      ]
     },
     "metadata": {
      "needs_background": "light"
     },
     "output_type": "display_data"
    }
   ],
   "source": [
    "## See if \"Peak-rpm\" as a predictor variable of \"price\".\n",
    "sns.regplot(x = 'peak-rpm', y = 'price', data = data)"
   ]
  },
  {
   "cell_type": "markdown",
   "id": "7d174370",
   "metadata": {},
   "source": [
    "Peak rpm does not seem like a good predictor of the price at all since the regression line is close to horizontal. Also, the data points are very scattered and far from the fitted line, showing lots of variability. Therefore it's it is not a reliable variable.\n",
    "\n",
    "We can examine the correlation between 'peak-rpm' and 'price' and see it's approximately -0.101616"
   ]
  },
  {
   "cell_type": "code",
   "execution_count": 44,
   "id": "7ee7a03b",
   "metadata": {},
   "outputs": [
    {
     "data": {
      "text/plain": [
       "-0.10085406591169101"
      ]
     },
     "execution_count": 44,
     "metadata": {},
     "output_type": "execute_result"
    }
   ],
   "source": [
    "data['peak-rpm'].corr(data['price'])"
   ]
  },
  {
   "cell_type": "markdown",
   "id": "6ab0cda4",
   "metadata": {},
   "source": [
    "Categorical variables\n",
    "Let's look at the relationship between \"body-style\" and \"price\".\n"
   ]
  },
  {
   "cell_type": "code",
   "execution_count": 45,
   "id": "5bb54d6e",
   "metadata": {},
   "outputs": [
    {
     "data": {
      "text/plain": [
       "<AxesSubplot:xlabel='body-style', ylabel='price'>"
      ]
     },
     "execution_count": 45,
     "metadata": {},
     "output_type": "execute_result"
    },
    {
     "data": {
      "image/png": "[encoded data removed]",
      "text/plain": [
       "<Figure size 432x288 with 1 Axes>"
      ]
     },
     "metadata": {
      "needs_background": "light"
     },
     "output_type": "display_data"
    }
   ],
   "source": [
    "sns.boxplot(x = 'body-style', y = 'price', data = data)"
   ]
  },
  {
   "cell_type": "markdown",
   "id": "b7b1677e",
   "metadata": {},
   "source": [
    "# Pearson Correlation"
   ]
  },
  {
   "cell_type": "code",
   "execution_count": 46,
   "id": "3fdc372b",
   "metadata": {},
   "outputs": [
    {
     "data": {
      "text/html": [
       "<div>\n",
       "<style scoped>\n",
       "    .dataframe tbody tr th:only-of-type {\n",
       "        vertical-align: middle;\n",
       "    }\n",
       "\n",
       "    .dataframe tbody tr th {\n",
       "        vertical-align: top;\n",
       "    }\n",
       "\n",
       "    .dataframe thead th {\n",
       "        text-align: right;\n",
       "    }\n",
       "</style>\n",
       "<table border=\"1\" class=\"dataframe\">\n",
       "  <thead>\n",
       "    <tr style=\"text-align: right;\">\n",
       "      <th></th>\n",
       "      <th>symboling</th>\n",
       "      <th>normalized-losses</th>\n",
       "      <th>wheel-base</th>\n",
       "      <th>length</th>\n",
       "      <th>width</th>\n",
       "      <th>height</th>\n",
       "      <th>curb-weight</th>\n",
       "      <th>engine-size</th>\n",
       "      <th>bore</th>\n",
       "      <th>stroke</th>\n",
       "      <th>compression-ratio</th>\n",
       "      <th>peak-rpm</th>\n",
       "      <th>city-mpg</th>\n",
       "      <th>highway-mpg</th>\n",
       "      <th>price</th>\n",
       "    </tr>\n",
       "  </thead>\n",
       "  <tbody>\n",
       "    <tr>\n",
       "      <th>symboling</th>\n",
       "      <td>1.000000</td>\n",
       "      <td>0.465190</td>\n",
       "      <td>-0.531954</td>\n",
       "      <td>-0.357612</td>\n",
       "      <td>-0.232919</td>\n",
       "      <td>-0.541038</td>\n",
       "      <td>-0.227691</td>\n",
       "      <td>-0.105790</td>\n",
       "      <td>-0.130083</td>\n",
       "      <td>-0.008689</td>\n",
       "      <td>-0.178515</td>\n",
       "      <td>0.273679</td>\n",
       "      <td>0.063165</td>\n",
       "      <td>0.034606</td>\n",
       "      <td>-0.082201</td>\n",
       "    </tr>\n",
       "    <tr>\n",
       "      <th>normalized-losses</th>\n",
       "      <td>0.465190</td>\n",
       "      <td>1.000000</td>\n",
       "      <td>-0.056518</td>\n",
       "      <td>0.019209</td>\n",
       "      <td>0.084195</td>\n",
       "      <td>-0.370706</td>\n",
       "      <td>0.097785</td>\n",
       "      <td>0.110997</td>\n",
       "      <td>-0.029266</td>\n",
       "      <td>0.054929</td>\n",
       "      <td>-0.114525</td>\n",
       "      <td>0.237748</td>\n",
       "      <td>0.232682</td>\n",
       "      <td>-0.178221</td>\n",
       "      <td>0.133999</td>\n",
       "    </tr>\n",
       "    <tr>\n",
       "      <th>wheel-base</th>\n",
       "      <td>-0.531954</td>\n",
       "      <td>-0.056518</td>\n",
       "      <td>1.000000</td>\n",
       "      <td>0.874587</td>\n",
       "      <td>0.795144</td>\n",
       "      <td>0.589435</td>\n",
       "      <td>0.776386</td>\n",
       "      <td>0.569329</td>\n",
       "      <td>0.488760</td>\n",
       "      <td>0.160944</td>\n",
       "      <td>0.249786</td>\n",
       "      <td>-0.360704</td>\n",
       "      <td>0.474040</td>\n",
       "      <td>-0.544082</td>\n",
       "      <td>0.583168</td>\n",
       "    </tr>\n",
       "    <tr>\n",
       "      <th>length</th>\n",
       "      <td>-0.357612</td>\n",
       "      <td>0.019209</td>\n",
       "      <td>0.874587</td>\n",
       "      <td>1.000000</td>\n",
       "      <td>0.841118</td>\n",
       "      <td>0.491029</td>\n",
       "      <td>0.877728</td>\n",
       "      <td>0.683360</td>\n",
       "      <td>0.606462</td>\n",
       "      <td>0.129522</td>\n",
       "      <td>0.158414</td>\n",
       "      <td>-0.287031</td>\n",
       "      <td>0.659165</td>\n",
       "      <td>-0.704662</td>\n",
       "      <td>0.682986</td>\n",
       "    </tr>\n",
       "    <tr>\n",
       "      <th>width</th>\n",
       "      <td>-0.232919</td>\n",
       "      <td>0.084195</td>\n",
       "      <td>0.795144</td>\n",
       "      <td>0.841118</td>\n",
       "      <td>1.000000</td>\n",
       "      <td>0.279210</td>\n",
       "      <td>0.867032</td>\n",
       "      <td>0.735433</td>\n",
       "      <td>0.559152</td>\n",
       "      <td>0.182939</td>\n",
       "      <td>0.181129</td>\n",
       "      <td>-0.219859</td>\n",
       "      <td>0.682850</td>\n",
       "      <td>-0.677218</td>\n",
       "      <td>0.728699</td>\n",
       "    </tr>\n",
       "    <tr>\n",
       "      <th>height</th>\n",
       "      <td>-0.541038</td>\n",
       "      <td>-0.370706</td>\n",
       "      <td>0.589435</td>\n",
       "      <td>0.491029</td>\n",
       "      <td>0.279210</td>\n",
       "      <td>1.000000</td>\n",
       "      <td>0.295572</td>\n",
       "      <td>0.067149</td>\n",
       "      <td>0.171101</td>\n",
       "      <td>-0.055351</td>\n",
       "      <td>0.261214</td>\n",
       "      <td>-0.320602</td>\n",
       "      <td>-0.002333</td>\n",
       "      <td>-0.107358</td>\n",
       "      <td>0.134388</td>\n",
       "    </tr>\n",
       "    <tr>\n",
       "      <th>curb-weight</th>\n",
       "      <td>-0.227691</td>\n",
       "      <td>0.097785</td>\n",
       "      <td>0.776386</td>\n",
       "      <td>0.877728</td>\n",
       "      <td>0.867032</td>\n",
       "      <td>0.295572</td>\n",
       "      <td>1.000000</td>\n",
       "      <td>0.850594</td>\n",
       "      <td>0.648485</td>\n",
       "      <td>0.168783</td>\n",
       "      <td>0.151362</td>\n",
       "      <td>-0.266283</td>\n",
       "      <td>0.791911</td>\n",
       "      <td>-0.797465</td>\n",
       "      <td>0.820825</td>\n",
       "    </tr>\n",
       "    <tr>\n",
       "      <th>engine-size</th>\n",
       "      <td>-0.105790</td>\n",
       "      <td>0.110997</td>\n",
       "      <td>0.569329</td>\n",
       "      <td>0.683360</td>\n",
       "      <td>0.735433</td>\n",
       "      <td>0.067149</td>\n",
       "      <td>0.850594</td>\n",
       "      <td>1.000000</td>\n",
       "      <td>0.583798</td>\n",
       "      <td>0.203094</td>\n",
       "      <td>0.028971</td>\n",
       "      <td>-0.244599</td>\n",
       "      <td>0.744952</td>\n",
       "      <td>-0.677470</td>\n",
       "      <td>0.861752</td>\n",
       "    </tr>\n",
       "    <tr>\n",
       "      <th>bore</th>\n",
       "      <td>-0.130083</td>\n",
       "      <td>-0.029266</td>\n",
       "      <td>0.488760</td>\n",
       "      <td>0.606462</td>\n",
       "      <td>0.559152</td>\n",
       "      <td>0.171101</td>\n",
       "      <td>0.648485</td>\n",
       "      <td>0.583798</td>\n",
       "      <td>1.000000</td>\n",
       "      <td>-0.055909</td>\n",
       "      <td>0.005201</td>\n",
       "      <td>-0.254761</td>\n",
       "      <td>0.555960</td>\n",
       "      <td>-0.586992</td>\n",
       "      <td>0.532300</td>\n",
       "    </tr>\n",
       "    <tr>\n",
       "      <th>stroke</th>\n",
       "      <td>-0.008689</td>\n",
       "      <td>0.054929</td>\n",
       "      <td>0.160944</td>\n",
       "      <td>0.129522</td>\n",
       "      <td>0.182939</td>\n",
       "      <td>-0.055351</td>\n",
       "      <td>0.168783</td>\n",
       "      <td>0.203094</td>\n",
       "      <td>-0.055909</td>\n",
       "      <td>1.000000</td>\n",
       "      <td>0.186105</td>\n",
       "      <td>-0.066844</td>\n",
       "      <td>0.042550</td>\n",
       "      <td>-0.043961</td>\n",
       "      <td>0.082095</td>\n",
       "    </tr>\n",
       "    <tr>\n",
       "      <th>compression-ratio</th>\n",
       "      <td>-0.178515</td>\n",
       "      <td>-0.114525</td>\n",
       "      <td>0.249786</td>\n",
       "      <td>0.158414</td>\n",
       "      <td>0.181129</td>\n",
       "      <td>0.261214</td>\n",
       "      <td>0.151362</td>\n",
       "      <td>0.028971</td>\n",
       "      <td>0.005201</td>\n",
       "      <td>0.186105</td>\n",
       "      <td>1.000000</td>\n",
       "      <td>-0.435936</td>\n",
       "      <td>-0.296964</td>\n",
       "      <td>0.265201</td>\n",
       "      <td>0.070990</td>\n",
       "    </tr>\n",
       "    <tr>\n",
       "      <th>peak-rpm</th>\n",
       "      <td>0.273679</td>\n",
       "      <td>0.237748</td>\n",
       "      <td>-0.360704</td>\n",
       "      <td>-0.287031</td>\n",
       "      <td>-0.219859</td>\n",
       "      <td>-0.320602</td>\n",
       "      <td>-0.266283</td>\n",
       "      <td>-0.244599</td>\n",
       "      <td>-0.254761</td>\n",
       "      <td>-0.066844</td>\n",
       "      <td>-0.435936</td>\n",
       "      <td>1.000000</td>\n",
       "      <td>0.120653</td>\n",
       "      <td>-0.054257</td>\n",
       "      <td>-0.100854</td>\n",
       "    </tr>\n",
       "    <tr>\n",
       "      <th>city-mpg</th>\n",
       "      <td>0.063165</td>\n",
       "      <td>0.232682</td>\n",
       "      <td>0.474040</td>\n",
       "      <td>0.659165</td>\n",
       "      <td>0.682850</td>\n",
       "      <td>-0.002333</td>\n",
       "      <td>0.791911</td>\n",
       "      <td>0.744952</td>\n",
       "      <td>0.555960</td>\n",
       "      <td>0.042550</td>\n",
       "      <td>-0.296964</td>\n",
       "      <td>0.120653</td>\n",
       "      <td>1.000000</td>\n",
       "      <td>-0.928767</td>\n",
       "      <td>0.770411</td>\n",
       "    </tr>\n",
       "    <tr>\n",
       "      <th>highway-mpg</th>\n",
       "      <td>0.034606</td>\n",
       "      <td>-0.178221</td>\n",
       "      <td>-0.544082</td>\n",
       "      <td>-0.704662</td>\n",
       "      <td>-0.677218</td>\n",
       "      <td>-0.107358</td>\n",
       "      <td>-0.797465</td>\n",
       "      <td>-0.677470</td>\n",
       "      <td>-0.586992</td>\n",
       "      <td>-0.043961</td>\n",
       "      <td>0.265201</td>\n",
       "      <td>-0.054257</td>\n",
       "      <td>-0.928767</td>\n",
       "      <td>1.000000</td>\n",
       "      <td>-0.690526</td>\n",
       "    </tr>\n",
       "    <tr>\n",
       "      <th>price</th>\n",
       "      <td>-0.082201</td>\n",
       "      <td>0.133999</td>\n",
       "      <td>0.583168</td>\n",
       "      <td>0.682986</td>\n",
       "      <td>0.728699</td>\n",
       "      <td>0.134388</td>\n",
       "      <td>0.820825</td>\n",
       "      <td>0.861752</td>\n",
       "      <td>0.532300</td>\n",
       "      <td>0.082095</td>\n",
       "      <td>0.070990</td>\n",
       "      <td>-0.100854</td>\n",
       "      <td>0.770411</td>\n",
       "      <td>-0.690526</td>\n",
       "      <td>1.000000</td>\n",
       "    </tr>\n",
       "  </tbody>\n",
       "</table>\n",
       "</div>"
      ],
      "text/plain": [
       "                   symboling  normalized-losses  wheel-base    length  \\\n",
       "symboling           1.000000           0.465190   -0.531954 -0.357612   \n",
       "normalized-losses   0.465190           1.000000   -0.056518  0.019209   \n",
       "wheel-base         -0.531954          -0.056518    1.000000  0.874587   \n",
       "length             -0.357612           0.019209    0.874587  1.000000   \n",
       "width              -0.232919           0.084195    0.795144  0.841118   \n",
       "height             -0.541038          -0.370706    0.589435  0.491029   \n",
       "curb-weight        -0.227691           0.097785    0.776386  0.877728   \n",
       "engine-size        -0.105790           0.110997    0.569329  0.683360   \n",
       "bore               -0.130083          -0.029266    0.488760  0.606462   \n",
       "stroke             -0.008689           0.054929    0.160944  0.129522   \n",
       "compression-ratio  -0.178515          -0.114525    0.249786  0.158414   \n",
       "peak-rpm            0.273679           0.237748   -0.360704 -0.287031   \n",
       "city-mpg            0.063165           0.232682    0.474040  0.659165   \n",
       "highway-mpg         0.034606          -0.178221   -0.544082 -0.704662   \n",
       "price              -0.082201           0.133999    0.583168  0.682986   \n",
       "\n",
       "                      width    height  curb-weight  engine-size      bore  \\\n",
       "symboling         -0.232919 -0.541038    -0.227691    -0.105790 -0.130083   \n",
       "normalized-losses  0.084195 -0.370706     0.097785     0.110997 -0.029266   \n",
       "wheel-base         0.795144  0.589435     0.776386     0.569329  0.488760   \n",
       "length             0.841118  0.491029     0.877728     0.683360  0.606462   \n",
       "width              1.000000  0.279210     0.867032     0.735433  0.559152   \n",
       "height             0.279210  1.000000     0.295572     0.067149  0.171101   \n",
       "curb-weight        0.867032  0.295572     1.000000     0.850594  0.648485   \n",
       "engine-size        0.735433  0.067149     0.850594     1.000000  0.583798   \n",
       "bore               0.559152  0.171101     0.648485     0.583798  1.000000   \n",
       "stroke             0.182939 -0.055351     0.168783     0.203094 -0.055909   \n",
       "compression-ratio  0.181129  0.261214     0.151362     0.028971  0.005201   \n",
       "peak-rpm          -0.219859 -0.320602    -0.266283    -0.244599 -0.254761   \n",
       "city-mpg           0.682850 -0.002333     0.791911     0.744952  0.555960   \n",
       "highway-mpg       -0.677218 -0.107358    -0.797465    -0.677470 -0.586992   \n",
       "price              0.728699  0.134388     0.820825     0.861752  0.532300   \n",
       "\n",
       "                     stroke  compression-ratio  peak-rpm  city-mpg  \\\n",
       "symboling         -0.008689          -0.178515  0.273679  0.063165   \n",
       "normalized-losses  0.054929          -0.114525  0.237748  0.232682   \n",
       "wheel-base         0.160944           0.249786 -0.360704  0.474040   \n",
       "length             0.129522           0.158414 -0.287031  0.659165   \n",
       "width              0.182939           0.181129 -0.219859  0.682850   \n",
       "height            -0.055351           0.261214 -0.320602 -0.002333   \n",
       "curb-weight        0.168783           0.151362 -0.266283  0.791911   \n",
       "engine-size        0.203094           0.028971 -0.244599  0.744952   \n",
       "bore              -0.055909           0.005201 -0.254761  0.555960   \n",
       "stroke             1.000000           0.186105 -0.066844  0.042550   \n",
       "compression-ratio  0.186105           1.000000 -0.435936 -0.296964   \n",
       "peak-rpm          -0.066844          -0.435936  1.000000  0.120653   \n",
       "city-mpg           0.042550          -0.296964  0.120653  1.000000   \n",
       "highway-mpg       -0.043961           0.265201 -0.054257 -0.928767   \n",
       "price              0.082095           0.070990 -0.100854  0.770411   \n",
       "\n",
       "                   highway-mpg     price  \n",
       "symboling             0.034606 -0.082201  \n",
       "normalized-losses    -0.178221  0.133999  \n",
       "wheel-base           -0.544082  0.583168  \n",
       "length               -0.704662  0.682986  \n",
       "width                -0.677218  0.728699  \n",
       "height               -0.107358  0.134388  \n",
       "curb-weight          -0.797465  0.820825  \n",
       "engine-size          -0.677470  0.861752  \n",
       "bore                 -0.586992  0.532300  \n",
       "stroke               -0.043961  0.082095  \n",
       "compression-ratio     0.265201  0.070990  \n",
       "peak-rpm             -0.054257 -0.100854  \n",
       "city-mpg             -0.928767  0.770411  \n",
       "highway-mpg           1.000000 -0.690526  \n",
       "price                -0.690526  1.000000  "
      ]
     },
     "execution_count": 46,
     "metadata": {},
     "output_type": "execute_result"
    }
   ],
   "source": [
    "data['drive-wheels'].unique()\n",
    "data.corr()"
   ]
  },
  {
   "cell_type": "code",
   "execution_count": 47,
   "id": "7ad315f8",
   "metadata": {},
   "outputs": [
    {
     "name": "stdout",
     "output_type": "stream",
     "text": [
      "The Pearson Correlation Coefficient is 0.5831681499789547  with a P-value of P = 4.527625545686765e-20\n"
     ]
    }
   ],
   "source": [
    "## Calculate the Pearson Correlation Coefficient and P-value of 'wheel-base' and 'price'.\n",
    "\n",
    "pearson_coef, p_value = sp.stats.pearsonr(data['wheel-base'], data['price'])\n",
    "print(\"The Pearson Correlation Coefficient is\", pearson_coef, \" with a P-value of P =\", p_value)"
   ]
  },
  {
   "cell_type": "code",
   "execution_count": 48,
   "id": "60b96c51",
   "metadata": {},
   "outputs": [],
   "source": [
    "##Since the p-value is > 0.001, there is no evidence that the correlation is significant between wheel-base and price\n",
    "## also the linear relationship isn't extremely strong (~0.585)"
   ]
  },
  {
   "cell_type": "code",
   "execution_count": 49,
   "id": "ffbfb9c8",
   "metadata": {},
   "outputs": [
    {
     "name": "stdout",
     "output_type": "stream",
     "text": [
      "The Pearson Correlation Coefficient is 0.7579169537498177  with a P-value of P =  1.6076703978130332e-39\n"
     ]
    }
   ],
   "source": [
    "pearson_coef, p_value = sp.stats.pearsonr(data['horsepower'].astype('float'), data['price'])\n",
    "print(\"The Pearson Correlation Coefficient is\", pearson_coef, \" with a P-value of P = \", p_value)  "
   ]
  },
  {
   "cell_type": "markdown",
   "id": "f417c3a4",
   "metadata": {},
   "source": [
    "# HYPOTHESIS TESTING using ANOVA"
   ]
  },
  {
   "cell_type": "markdown",
   "id": "6f99cb03",
   "metadata": {},
   "source": [
    "# ANOVA: Analysis of Variance\n",
    "##The Analysis of Variance (ANOVA) is a statistical method used to test whether there are significant differences\n",
    "##between the means of two or more groups. ANOVA returns two parameters:\n",
    "\n",
    "##F-test score: ANOVA assumes the means of all groups are the same, calculates how much the actual means deviate from the assumption, and reports it as the F-test score. A larger score means there is a larger difference between the means.\n",
    "\n",
    "##P-value: P-value tells how statistically significant is our calculated score value.\n",
    "\n",
    "##If our price variable is strongly correlated with the variable we are analyzing, \n",
    "##expect ANOVA to return a sizeable F-test score and a small p-value.\n",
    "\n",
    "##Drive Wheels\n",
    "##Since ANOVA analyzes the difference between different groups of the same variable, the groupby function will come in handy. Because the ANOVA algorithm averages the data automatically, we do not need to take the average before hand.\n",
    "\n",
    "p-value is  <  0.001: we say there is strong evidence that the correlation is significant.\n",
    "\n",
    "the p-value is  <  0.05: there is moderate evidence that the correlation is significant.\n",
    "\n",
    "the p-value is  <  0.1: there is weak evidence that the correlation is significant.\n",
    "\n",
    "the p-value is  >  0.1: there is no evidence that the correlation is significant.\n",
    "\n",
    "### Let's see if different types 'drive-wheels' impact 'price', we group the data."
   ]
  },
  {
   "cell_type": "code",
   "execution_count": 50,
   "id": "f7b3bd7d",
   "metadata": {},
   "outputs": [
    {
     "name": "stdout",
     "output_type": "stream",
     "text": [
      "F_onewayResult(statistic=0.19744030127462606, pvalue=0.6609478240622193)\n"
     ]
    }
   ],
   "source": [
    "\n",
    "\n",
    "# Analysis of Variance- ANOVA\n",
    "# returns f-test and p-value\n",
    "# f-test = variance between sample group means divided by \n",
    "# variation within sample group\n",
    "# p-value = confidence degree\n",
    "\n",
    "data_annova = data[['make', 'price']]\n",
    "grouped_annova = data_annova.groupby(['make'])\n",
    "annova_results_l = sp.stats.f_oneway(\n",
    "                             grouped_annova.get_group('honda')['price'],\n",
    "                             grouped_annova.get_group('subaru')['price']\n",
    "                                    )\n",
    "print(annova_results_l)\n",
    "  \n",
    "# strong corealtion between a categorical variable\n",
    "# if annova test gives large f-test and small p-value\n"
   ]
  },
  {
   "cell_type": "code",
   "execution_count": 51,
   "id": "c5dc70fd",
   "metadata": {},
   "outputs": [
    {
     "data": {
      "text/html": [
       "<div>\n",
       "<style scoped>\n",
       "    .dataframe tbody tr th:only-of-type {\n",
       "        vertical-align: middle;\n",
       "    }\n",
       "\n",
       "    .dataframe tbody tr th {\n",
       "        vertical-align: top;\n",
       "    }\n",
       "\n",
       "    .dataframe thead th {\n",
       "        text-align: right;\n",
       "    }\n",
       "</style>\n",
       "<table border=\"1\" class=\"dataframe\">\n",
       "  <thead>\n",
       "    <tr style=\"text-align: right;\">\n",
       "      <th></th>\n",
       "      <th>drive-wheels</th>\n",
       "      <th>body-style</th>\n",
       "      <th>price</th>\n",
       "    </tr>\n",
       "  </thead>\n",
       "  <tbody>\n",
       "    <tr>\n",
       "      <th>0</th>\n",
       "      <td>4wd</td>\n",
       "      <td>hatchback</td>\n",
       "      <td>10405.064677</td>\n",
       "    </tr>\n",
       "    <tr>\n",
       "      <th>1</th>\n",
       "      <td>4wd</td>\n",
       "      <td>sedan</td>\n",
       "      <td>12647.333333</td>\n",
       "    </tr>\n",
       "    <tr>\n",
       "      <th>2</th>\n",
       "      <td>4wd</td>\n",
       "      <td>wagon</td>\n",
       "      <td>9095.750000</td>\n",
       "    </tr>\n",
       "    <tr>\n",
       "      <th>3</th>\n",
       "      <td>fwd</td>\n",
       "      <td>convertible</td>\n",
       "      <td>11595.000000</td>\n",
       "    </tr>\n",
       "    <tr>\n",
       "      <th>4</th>\n",
       "      <td>fwd</td>\n",
       "      <td>hardtop</td>\n",
       "      <td>8249.000000</td>\n",
       "    </tr>\n",
       "    <tr>\n",
       "      <th>5</th>\n",
       "      <td>fwd</td>\n",
       "      <td>hatchback</td>\n",
       "      <td>8396.387755</td>\n",
       "    </tr>\n",
       "    <tr>\n",
       "      <th>6</th>\n",
       "      <td>fwd</td>\n",
       "      <td>sedan</td>\n",
       "      <td>9930.934363</td>\n",
       "    </tr>\n",
       "    <tr>\n",
       "      <th>7</th>\n",
       "      <td>fwd</td>\n",
       "      <td>wagon</td>\n",
       "      <td>9997.333333</td>\n",
       "    </tr>\n",
       "    <tr>\n",
       "      <th>8</th>\n",
       "      <td>rwd</td>\n",
       "      <td>convertible</td>\n",
       "      <td>23949.600000</td>\n",
       "    </tr>\n",
       "    <tr>\n",
       "      <th>9</th>\n",
       "      <td>rwd</td>\n",
       "      <td>hardtop</td>\n",
       "      <td>24202.714286</td>\n",
       "    </tr>\n",
       "    <tr>\n",
       "      <th>10</th>\n",
       "      <td>rwd</td>\n",
       "      <td>hatchback</td>\n",
       "      <td>14278.269966</td>\n",
       "    </tr>\n",
       "    <tr>\n",
       "      <th>11</th>\n",
       "      <td>rwd</td>\n",
       "      <td>sedan</td>\n",
       "      <td>21711.833333</td>\n",
       "    </tr>\n",
       "    <tr>\n",
       "      <th>12</th>\n",
       "      <td>rwd</td>\n",
       "      <td>wagon</td>\n",
       "      <td>16994.222222</td>\n",
       "    </tr>\n",
       "  </tbody>\n",
       "</table>\n",
       "</div>"
      ],
      "text/plain": [
       "   drive-wheels   body-style         price\n",
       "0           4wd    hatchback  10405.064677\n",
       "1           4wd        sedan  12647.333333\n",
       "2           4wd        wagon   9095.750000\n",
       "3           fwd  convertible  11595.000000\n",
       "4           fwd      hardtop   8249.000000\n",
       "5           fwd    hatchback   8396.387755\n",
       "6           fwd        sedan   9930.934363\n",
       "7           fwd        wagon   9997.333333\n",
       "8           rwd  convertible  23949.600000\n",
       "9           rwd      hardtop  24202.714286\n",
       "10          rwd    hatchback  14278.269966\n",
       "11          rwd        sedan  21711.833333\n",
       "12          rwd        wagon  16994.222222"
      ]
     },
     "execution_count": 51,
     "metadata": {},
     "output_type": "execute_result"
    }
   ],
   "source": [
    "## few more ANOVA testing\n",
    "# grouping results\n",
    "gptest = data[['drive-wheels','body-style','price']]\n",
    "grouped_test1 = gptest.groupby(['drive-wheels','body-style'], as_index = False).mean()\n",
    "grouped_test1"
   ]
  },
  {
   "cell_type": "code",
   "execution_count": 52,
   "id": "ab0337a8",
   "metadata": {},
   "outputs": [
    {
     "data": {
      "text/html": [
       "<div>\n",
       "<style scoped>\n",
       "    .dataframe tbody tr th:only-of-type {\n",
       "        vertical-align: middle;\n",
       "    }\n",
       "\n",
       "    .dataframe tbody tr th {\n",
       "        vertical-align: top;\n",
       "    }\n",
       "\n",
       "    .dataframe thead th {\n",
       "        text-align: right;\n",
       "    }\n",
       "</style>\n",
       "<table border=\"1\" class=\"dataframe\">\n",
       "  <thead>\n",
       "    <tr style=\"text-align: right;\">\n",
       "      <th></th>\n",
       "      <th>drive-wheels</th>\n",
       "      <th>price</th>\n",
       "    </tr>\n",
       "  </thead>\n",
       "  <tbody>\n",
       "    <tr>\n",
       "      <th>0</th>\n",
       "      <td>rwd</td>\n",
       "      <td>13495.000000</td>\n",
       "    </tr>\n",
       "    <tr>\n",
       "      <th>1</th>\n",
       "      <td>rwd</td>\n",
       "      <td>16500.000000</td>\n",
       "    </tr>\n",
       "    <tr>\n",
       "      <th>3</th>\n",
       "      <td>fwd</td>\n",
       "      <td>13950.000000</td>\n",
       "    </tr>\n",
       "    <tr>\n",
       "      <th>4</th>\n",
       "      <td>4wd</td>\n",
       "      <td>17450.000000</td>\n",
       "    </tr>\n",
       "    <tr>\n",
       "      <th>5</th>\n",
       "      <td>fwd</td>\n",
       "      <td>15250.000000</td>\n",
       "    </tr>\n",
       "    <tr>\n",
       "      <th>9</th>\n",
       "      <td>4wd</td>\n",
       "      <td>13207.129353</td>\n",
       "    </tr>\n",
       "  </tbody>\n",
       "</table>\n",
       "</div>"
      ],
      "text/plain": [
       "  drive-wheels         price\n",
       "0          rwd  13495.000000\n",
       "1          rwd  16500.000000\n",
       "3          fwd  13950.000000\n",
       "4          4wd  17450.000000\n",
       "5          fwd  15250.000000\n",
       "9          4wd  13207.129353"
      ]
     },
     "execution_count": 52,
     "metadata": {},
     "output_type": "execute_result"
    }
   ],
   "source": [
    "grouped_test2 = gptest[['drive-wheels','price']].groupby(['drive-wheels'])\n",
    "grouped_test2.head(2)"
   ]
  },
  {
   "cell_type": "code",
   "execution_count": 53,
   "id": "78edfaa7",
   "metadata": {},
   "outputs": [
    {
     "data": {
      "text/html": [
       "<div>\n",
       "<style scoped>\n",
       "    .dataframe tbody tr th:only-of-type {\n",
       "        vertical-align: middle;\n",
       "    }\n",
       "\n",
       "    .dataframe tbody tr th {\n",
       "        vertical-align: top;\n",
       "    }\n",
       "\n",
       "    .dataframe thead th {\n",
       "        text-align: right;\n",
       "    }\n",
       "</style>\n",
       "<table border=\"1\" class=\"dataframe\">\n",
       "  <thead>\n",
       "    <tr style=\"text-align: right;\">\n",
       "      <th></th>\n",
       "      <th>make</th>\n",
       "      <th>fuel-type</th>\n",
       "      <th>aspiration</th>\n",
       "      <th>num-of-doors</th>\n",
       "      <th>body-style</th>\n",
       "      <th>drive-wheels</th>\n",
       "      <th>engine-location</th>\n",
       "      <th>engine-type</th>\n",
       "      <th>num-of-cylinders</th>\n",
       "      <th>fuel-system</th>\n",
       "      <th>horsepower</th>\n",
       "    </tr>\n",
       "  </thead>\n",
       "  <tbody>\n",
       "    <tr>\n",
       "      <th>count</th>\n",
       "      <td>205</td>\n",
       "      <td>205</td>\n",
       "      <td>205</td>\n",
       "      <td>203</td>\n",
       "      <td>205</td>\n",
       "      <td>205</td>\n",
       "      <td>205</td>\n",
       "      <td>205</td>\n",
       "      <td>205</td>\n",
       "      <td>205</td>\n",
       "      <td>205</td>\n",
       "    </tr>\n",
       "    <tr>\n",
       "      <th>unique</th>\n",
       "      <td>22</td>\n",
       "      <td>2</td>\n",
       "      <td>2</td>\n",
       "      <td>2</td>\n",
       "      <td>5</td>\n",
       "      <td>3</td>\n",
       "      <td>2</td>\n",
       "      <td>7</td>\n",
       "      <td>7</td>\n",
       "      <td>8</td>\n",
       "      <td>60</td>\n",
       "    </tr>\n",
       "    <tr>\n",
       "      <th>top</th>\n",
       "      <td>toyota</td>\n",
       "      <td>gas</td>\n",
       "      <td>std</td>\n",
       "      <td>four</td>\n",
       "      <td>sedan</td>\n",
       "      <td>fwd</td>\n",
       "      <td>front</td>\n",
       "      <td>ohc</td>\n",
       "      <td>four</td>\n",
       "      <td>mpfi</td>\n",
       "      <td>68</td>\n",
       "    </tr>\n",
       "    <tr>\n",
       "      <th>freq</th>\n",
       "      <td>32</td>\n",
       "      <td>185</td>\n",
       "      <td>168</td>\n",
       "      <td>114</td>\n",
       "      <td>96</td>\n",
       "      <td>120</td>\n",
       "      <td>202</td>\n",
       "      <td>148</td>\n",
       "      <td>159</td>\n",
       "      <td>94</td>\n",
       "      <td>19</td>\n",
       "    </tr>\n",
       "  </tbody>\n",
       "</table>\n",
       "</div>"
      ],
      "text/plain": [
       "          make fuel-type aspiration num-of-doors body-style drive-wheels  \\\n",
       "count      205       205        205          203        205          205   \n",
       "unique      22         2          2            2          5            3   \n",
       "top     toyota       gas        std         four      sedan          fwd   \n",
       "freq        32       185        168          114         96          120   \n",
       "\n",
       "       engine-location engine-type num-of-cylinders fuel-system horsepower  \n",
       "count              205         205              205         205        205  \n",
       "unique               2           7                7           8         60  \n",
       "top              front         ohc             four        mpfi         68  \n",
       "freq               202         148              159          94         19  "
      ]
     },
     "execution_count": 53,
     "metadata": {},
     "output_type": "execute_result"
    }
   ],
   "source": [
    "data.describe(include = ['object'])"
   ]
  },
  {
   "cell_type": "code",
   "execution_count": 54,
   "id": "c40a3865",
   "metadata": {},
   "outputs": [
    {
     "name": "stdout",
     "output_type": "stream",
     "text": [
      "ANOVA results: F= 67.5036668266912 , P = 3.5392707916047903e-23\n"
     ]
    }
   ],
   "source": [
    "# ANOVA\n",
    "f_val, p_val = sp.stats.f_oneway(grouped_test2.get_group('fwd')['price'], grouped_test2.get_group('rwd')['price'], grouped_test2.get_group('4wd')['price'])  \n",
    " \n",
    "print( \"ANOVA results: F=\", f_val, \", P =\", p_val)  "
   ]
  },
  {
   "cell_type": "code",
   "execution_count": 55,
   "id": "70e4553e",
   "metadata": {},
   "outputs": [
    {
     "name": "stdout",
     "output_type": "stream",
     "text": [
      "ANOVA results: F= 129.41115759339715 , P = 2.6524240289951807e-23\n"
     ]
    }
   ],
   "source": [
    "f_val, p_val = sp.stats.f_oneway(grouped_test2.get_group('fwd')['price'], grouped_test2.get_group('rwd')['price'])  \n",
    " \n",
    "print( \"ANOVA results: F=\", f_val, \", P =\", p_val )"
   ]
  },
  {
   "cell_type": "code",
   "execution_count": 56,
   "id": "dab8f519",
   "metadata": {},
   "outputs": [
    {
     "name": "stdout",
     "output_type": "stream",
     "text": [
      "ANOVA results: F= 8.879065438652509 , P = 0.00378273257813761\n"
     ]
    }
   ],
   "source": [
    "f_val, p_val = sp.stats.f_oneway(grouped_test2.get_group('4wd')['price'], grouped_test2.get_group('rwd')['price'])  \n",
    "   \n",
    "print( \"ANOVA results: F=\", f_val, \", P =\", p_val)   "
   ]
  },
  {
   "cell_type": "code",
   "execution_count": 57,
   "id": "56eebc9f",
   "metadata": {},
   "outputs": [],
   "source": [
    "## Based on the above p value there is moderate evidence that the correlation is significant"
   ]
  },
  {
   "cell_type": "code",
   "execution_count": 58,
   "id": "259fcd4a",
   "metadata": {},
   "outputs": [
    {
     "name": "stdout",
     "output_type": "stream",
     "text": [
      "ANOVA results: F = 1.1847736755700735 , P = 0.27844756008434524\n"
     ]
    }
   ],
   "source": [
    "f_val, p_val = sp.stats.f_oneway(grouped_test2.get_group('4wd')['price'], grouped_test2.get_group('fwd')['price'])  \n",
    " \n",
    "print(\"ANOVA results: F =\", f_val, \", P =\", p_val) "
   ]
  },
  {
   "cell_type": "code",
   "execution_count": 59,
   "id": "4f01dc07",
   "metadata": {},
   "outputs": [],
   "source": [
    "## Based on the above p value there is no evidence that the correlation is significant."
   ]
  },
  {
   "cell_type": "code",
   "execution_count": 60,
   "id": "c8c8959b",
   "metadata": {},
   "outputs": [],
   "source": [
    "#We now have a better idea of what our data looks like and which variables are important to take into account\n",
    "#when predicting the car price. We have narrowed it down to the following variables:\n",
    "\n",
    "#Length\n",
    "#Width\n",
    "#Curb-weight\n",
    "#Engine-size\n",
    "#Horsepower\n",
    "#City-mpg\n",
    "#Highway-mpg\n",
    "#Wheel-base\n",
    "#Bore"
   ]
  },
  {
   "cell_type": "markdown",
   "id": "010cb448",
   "metadata": {},
   "source": []
  },
  {
   "cell_type": "code",
   "execution_count": null,
   "id": "a00f4ade",
   "metadata": {},
   "outputs": [],
   "source": []
  },
  {
   "cell_type": "code",
   "execution_count": null,
   "id": "2e4d2fa1",
   "metadata": {},
   "outputs": [],
   "source": []
  }
 ],
 "metadata": {
  "kernelspec": {
   "display_name": "Python 3 (ipykernel)",
   "language": "python",
   "name": "python3"
  },
  "language_info": {
   "codemirror_mode": {
    "name": "ipython",
    "version": 3
   },
   "file_extension": ".py",
   "mimetype": "text/x-python",
   "name": "python",
   "nbconvert_exporter": "python",
   "pygments_lexer": "ipython3",
   "version": "3.9.7"
  }
 },
 "nbformat": 4,
 "nbformat_minor": 5
}
